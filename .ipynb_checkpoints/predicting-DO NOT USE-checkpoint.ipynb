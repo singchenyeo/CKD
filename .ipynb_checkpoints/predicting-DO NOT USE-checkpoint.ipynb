{
 "cells": [
  {
   "cell_type": "code",
   "execution_count": 4,
   "id": "9025c6bd-00b8-435f-b3dc-c61e33cf86dc",
   "metadata": {},
   "outputs": [],
   "source": [
    "import pandas as pd\n",
    "import numpy as np\n",
    "import matplotlib.pyplot as plt\n",
    "import seaborn as sns\n",
    "from matplotlib import rcParams\n",
    "rcParams['figure.figsize'] = 11.7,8.27 # figure size in inches\n",
    "\n",
    "pd.options.mode.chained_assignment = None  # default='warn'\n",
    "pd.set_option('display.max_colwidth', None)\n",
    "pd.set_option('display.max_rows', 500) \n",
    "pd.set_option('display.max_columns', 30) \n",
    "\n",
    "from IPython.core.interactiveshell import InteractiveShell\n",
    "InteractiveShell.ast_node_interactivity = \"all\"\n",
    "\n",
    "%config Completer.use_jedi = False\n",
    "\n",
    "from tqdm import tqdm\n",
    "from lightgbm import LGBMClassifier\n",
    "from sklearn.linear_model import LogisticRegression\n",
    "from sklearn.tree import DecisionTreeClassifier\n",
    "from sklearn.ensemble import RandomForestClassifier\n",
    "from joblib import load, dump"
   ]
  },
  {
   "cell_type": "markdown",
   "id": "686fb337-e145-4b65-a924-92b236c92573",
   "metadata": {},
   "source": [
    "# 6 months"
   ]
  },
  {
   "cell_type": "code",
   "execution_count": 2,
   "id": "4cbfd0c1-c400-4e54-bbf9-9417c1a5ea71",
   "metadata": {},
   "outputs": [],
   "source": [
    "model_path = 'models/6m/'\n",
    "\n",
    "# Load models\n",
    "models = {\n",
    "    'lightgbm': load('models/6m/' + 'LGBMClassifier.joblib'),\n",
    "    'decisiontree': load('models/6m/' + 'DecisionTreeClassifier.joblib'), \n",
    "    'randomforest': load('models/6m/' + 'RandomForestClassifier.joblib'), \n",
    "    'logistic': load('models/6m/' + 'LogisticRegression.joblib') \n",
    "    \n",
    "}"
   ]
  },
  {
   "cell_type": "code",
   "execution_count": 3,
   "id": "9a88e08e-a7f1-42d9-9077-d14df6de5021",
   "metadata": {},
   "outputs": [],
   "source": [
    "def specificity(y_valid, y_pred):\n",
    "    tn, fp, fn, tp = confusion_matrix(y_valid, y_pred).ravel()\n",
    "    \n",
    "    specificity = tn / (tn+fp)\n",
    "    return specificity"
   ]
  },
  {
   "cell_type": "code",
   "execution_count": 5,
   "id": "88de4898-bd27-41ba-8279-d8b4ac349089",
   "metadata": {},
   "outputs": [
    {
     "name": "stderr",
     "output_type": "stream",
     "text": [
      "  0%|          | 0/4 [00:00<?, ?it/s]\n"
     ]
    },
    {
     "ename": "NameError",
     "evalue": "name 'X_train' is not defined",
     "output_type": "error",
     "traceback": [
      "\u001b[1;31m---------------------------------------------------------------------------\u001b[0m",
      "\u001b[1;31mNameError\u001b[0m                                 Traceback (most recent call last)",
      "\u001b[1;32m<ipython-input-5-f3360dae8736>\u001b[0m in \u001b[0;36m<module>\u001b[1;34m\u001b[0m\n\u001b[0;32m      4\u001b[0m \u001b[1;33m\u001b[0m\u001b[0m\n\u001b[0;32m      5\u001b[0m     \u001b[1;31m# Preprocessing of training data, fit model\u001b[0m\u001b[1;33m\u001b[0m\u001b[1;33m\u001b[0m\u001b[1;33m\u001b[0m\u001b[0m\n\u001b[1;32m----> 6\u001b[1;33m     \u001b[0mmodel\u001b[0m\u001b[1;33m.\u001b[0m\u001b[0mfit\u001b[0m\u001b[1;33m(\u001b[0m\u001b[0mX_train\u001b[0m\u001b[1;33m,\u001b[0m \u001b[0my_train\u001b[0m\u001b[1;33m)\u001b[0m\u001b[1;33m\u001b[0m\u001b[1;33m\u001b[0m\u001b[0m\n\u001b[0m\u001b[0;32m      7\u001b[0m \u001b[1;33m\u001b[0m\u001b[0m\n\u001b[0;32m      8\u001b[0m     \u001b[1;31m# Preprocessing of validation data, get predictions\u001b[0m\u001b[1;33m\u001b[0m\u001b[1;33m\u001b[0m\u001b[1;33m\u001b[0m\u001b[0m\n",
      "\u001b[1;31mNameError\u001b[0m: name 'X_train' is not defined"
     ]
    }
   ],
   "source": [
    "metrics_6 = []\n",
    "\n",
    "for algoname, model in tqdm(models.items()):\n",
    "\n",
    "    # Preprocessing of training data, fit model \n",
    "    model.fit(X_train, y_train)\n",
    "\n",
    "    # Preprocessing of validation data, get predictions\n",
    "    y_pred = model.predict(X_valid)\n",
    "    y_pred_proba = model.predict_proba(X_valid)[:,1] # only get the probability of 1\n",
    "\n",
    "    acc = accuracy_score(y_valid, y_pred)\n",
    "    f1 = f1_score(y_valid, y_pred)\n",
    "    prec = precision_score(y_valid, y_pred)\n",
    "    rec = recall_score(y_valid, y_pred)\n",
    "    spec = specificity(y_valid, y_pred)\n",
    "    roc = roc_auc_score(y_valid, y_pred_proba)\n",
    "\n",
    "    metric_output = [algoname, acc, f1, prec, rec, spec, roc]\n",
    "    metrics_1.append(metric_output)\n",
    "    \n",
    "cols = ['Algorithm', 'Accuracy', 'F1', 'Precision', 'Recall', 'Specificiy', 'ROC_AUC']\n",
    "pd.DataFrame(metrics_1, columns = cols)"
   ]
  },
  {
   "cell_type": "code",
   "execution_count": null,
   "id": "06478677-bbe5-458c-86e3-8f22ffb49205",
   "metadata": {},
   "outputs": [],
   "source": []
  }
 ],
 "metadata": {
  "kernelspec": {
   "display_name": "Python 3",
   "language": "python",
   "name": "python3"
  },
  "language_info": {
   "codemirror_mode": {
    "name": "ipython",
    "version": 3
   },
   "file_extension": ".py",
   "mimetype": "text/x-python",
   "name": "python",
   "nbconvert_exporter": "python",
   "pygments_lexer": "ipython3",
   "version": "3.8.8"
  }
 },
 "nbformat": 4,
 "nbformat_minor": 5
}
