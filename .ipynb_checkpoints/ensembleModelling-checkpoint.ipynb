{
 "cells": [
  {
   "cell_type": "code",
   "execution_count": 148,
   "id": "b92d6a64-1865-48fe-bfeb-5be1676e75bb",
   "metadata": {},
   "outputs": [],
   "source": [
    "import pandas as pd\n",
    "import numpy as np\n",
    "import matplotlib.pyplot as plt\n",
    "import seaborn as sns\n",
    "from matplotlib import rcParams\n",
    "rcParams['figure.figsize'] = 11.7,8.27 # figure size in inches\n",
    "\n",
    "pd.options.mode.chained_assignment = None  # default='warn'\n",
    "pd.set_option('display.max_colwidth', None)\n",
    "pd.set_option('display.max_rows', 500) \n",
    "pd.set_option('display.max_columns', 30) \n",
    "\n",
    "from IPython.core.interactiveshell import InteractiveShell\n",
    "InteractiveShell.ast_node_interactivity = \"all\"\n",
    "\n",
    "%config Completer.use_jedi = False\n",
    "\n",
    "import joblib\n",
    "from sklearn.impute import KNNImputer\n",
    "from numpy import mean\n",
    "from numpy import std\n",
    "from matplotlib import pyplot\n",
    "\n",
    "from sklearn.ensemble import StackingClassifier\n",
    "from sklearn.ensemble import VotingClassifier\n",
    "from sklearn.model_selection import cross_val_score\n",
    "from sklearn.model_selection import RepeatedStratifiedKFold\n",
    "from sklearn.linear_model import LogisticRegression\n",
    "from lightgbm import LGBMClassifier\n",
    "from numpy import mean\n",
    "from numpy import std\n",
    "from sklearn.metrics import *"
   ]
  },
  {
   "cell_type": "code",
   "execution_count": 2,
   "id": "33eb7fe4-4b9d-411c-a0bf-1a7011aa4287",
   "metadata": {},
   "outputs": [],
   "source": [
    "# Load data\n",
    "df_demo = pd.read_csv('CSV/T_demo.csv')\n",
    "df_stage = pd.read_csv('CSV/T_stage.csv')\n",
    "df_agg = pd.read_csv('CSV/df_aggregated.csv')\n",
    "\n",
    "# Change the unknown in df_demo race to the mode\n",
    "df_demo.loc[df_demo['race'] == 'Unknown','race'] = 'White'\n",
    "\n",
    "# Change state to 0, 1df_stage['Stage_Progress'].value_counts()\n",
    "df_stage['Stage_Progress'] = np.where(df_stage['Stage_Progress'] == True, 1, 0)\n",
    "\n",
    "# Temporal\n",
    "df_temporal = pd.read_csv('CSV/df_temporal.csv')"
   ]
  },
  {
   "cell_type": "code",
   "execution_count": 67,
   "id": "4e163df5-e1cd-4a7f-959b-e72c4792e15e",
   "metadata": {},
   "outputs": [],
   "source": [
    "def load_build_model(df, X_train, y_train, time_period):\n",
    "    # Load models\n",
    "    clf1 = joblib.load('models/'+ time_period +'/LogisticRegression.joblib')\n",
    "    clf2 = joblib.load('models/'+ time_period +'/RandomForestClassifier.joblib')\n",
    "    clf3 = joblib.load('models/'+ time_period +'/DecisionTreeClassifier.joblib')\n",
    "    clf4 = joblib.load('models/'+ time_period +'/LGBMClassifier.joblib')\n",
    "\n",
    "    # Build ensembles\n",
    "\n",
    "    eclf2 = VotingClassifier(estimators=[\n",
    "        ('lr', clf1), ('rf', clf2), ('dt', clf3), ('lgbm', clf4)], voting='soft')\n",
    "\n",
    "    # Stacked\n",
    "    model_stack1 = StackingClassifier(estimators=[('lr', clf1), ('rf', clf2), ('dt', clf3), ('lgbm', clf4)], final_estimator=clf1['model'], cv=5)\n",
    "    model_stack2 = StackingClassifier(estimators=[('lr', clf1), ('rf', clf2), ('dt', clf3), ('lgbm', clf4)], final_estimator=LogisticRegression(), cv=5)\n",
    "\n",
    "    models = {'clf1': clf1, 'clf2': clf2, 'clf3': clf3, 'clf4': clf4, 'eclf2': eclf2, 'stacking1':model_stack1, 'stacking2':model_stack2}\n",
    "\n",
    "    # evaluate the models and store results\n",
    "    results, names = list(), list()\n",
    "    for name, model in models.items():\n",
    "        scores = evaluate_model(model, X_train, y_train)\n",
    "        results.append(scores)\n",
    "        names.append(name)\n",
    "        print('>%s %.3f (%.3f)' % (name, mean(scores), std(scores)))\n",
    "\n",
    "    # plot model performance for comparison\n",
    "    pyplot.boxplot(results, labels=names, showmeans=True)\n",
    "    pyplot.show()\n",
    "\n",
    "# evaluate a give model using cross-validation\n",
    "def evaluate_model(model, X, y):\n",
    "    cv = RepeatedStratifiedKFold(n_splits=10, n_repeats=3, random_state=1)\n",
    "    scores = cross_val_score(model, X, y, scoring='roc_auc', cv=cv, n_jobs=-1, error_score='raise')\n",
    "    return scores"
   ]
  },
  {
   "cell_type": "markdown",
   "id": "a800e9b3-3728-43ac-aefa-35f2c858324d",
   "metadata": {},
   "source": [
    "# 6 months"
   ]
  },
  {
   "cell_type": "markdown",
   "id": "72a6bc01-58d3-409e-b6e8-ead9d9ee3a45",
   "metadata": {},
   "source": [
    "## Voting classifier"
   ]
  },
  {
   "cell_type": "code",
   "execution_count": 105,
   "id": "77ffdbe7-6bee-4c3e-a0bb-82c8254e5a59",
   "metadata": {},
   "outputs": [],
   "source": [
    "# compare soft voting ensemble to standalone classifiers\n",
    "from sklearn.ensemble import VotingClassifier"
   ]
  },
  {
   "cell_type": "code",
   "execution_count": 68,
   "id": "263f9ccd-bedb-4124-ab06-93aaefd91928",
   "metadata": {},
   "outputs": [],
   "source": [
    "df_6 = df_agg[df_agg['months_bin']==1]\n",
    "\n",
    "# ALl missing values are at the med, so can just fill with 0\n",
    "df_6 = df_6.fillna(0)\n",
    "\n",
    "# Attach demographic and target\n",
    "df_6 = df_6.merge(df_demo, on='id', how='outer')\n",
    "df_6 = df_6.merge(df_stage, on='id', how='outer')\n",
    "\n",
    "# Drop useless columns\n",
    "df_6.drop(['id', 'months_bin'], axis=1, inplace=True)\n",
    "\n",
    "X = df_6[['sbp', 'dbp', 'creatinine', 'glucose', 'ldl', 'hgb',\n",
    "       'atenolol', 'atorvastatin', 'bisoprolol', 'canagliflozin', 'carvedilol',\n",
    "       'dapagliflozin', 'irbesartan', 'labetalol', 'losartan', 'lovastatin',\n",
    "       'metformin', 'metoprolol', 'nebivolol', 'olmesartan', 'pitavastatin',\n",
    "       'pravastatin', 'propranolol', 'rosuvastatin', 'simvastatin',\n",
    "       'telmisartan', 'valsartan', 'race', 'gender', 'age']]\n",
    "\n",
    "y = df_6['Stage_Progress']\n",
    "\n",
    "# Split train-test data\n",
    "from sklearn.model_selection import train_test_split\n",
    "\n",
    "X_train_6, X_test_6, y_train_6, y_test_6 = train_test_split(X, y, random_state=0) # default 75-25 split"
   ]
  },
  {
   "cell_type": "code",
   "execution_count": 111,
   "id": "1206d4e5-5c77-40f1-924a-263aba78653f",
   "metadata": {},
   "outputs": [
    {
     "name": "stdout",
     "output_type": "stream",
     "text": [
      ">clf1 0.679 (0.132)\n",
      ">clf2 0.606 (0.122)\n",
      ">clf3 0.569 (0.108)\n",
      ">clf4 0.597 (0.124)\n",
      ">eclf2 0.654 (0.123)\n",
      ">stacking1 0.647 (0.133)\n",
      ">stacking2 0.666 (0.131)\n"
     ]
    },
    {
     "data": {
      "image/png": "[encoded data removed]",
      "text/plain": [
       "<Figure size 842.4x595.44 with 1 Axes>"
      ]
     },
     "metadata": {
      "needs_background": "light"
     },
     "output_type": "display_data"
    }
   ],
   "source": [
    "load_build_model(df_6, X_train_6, y_train_6, '6m')"
   ]
  },
  {
   "cell_type": "markdown",
   "id": "9f6264cf-5136-44dd-9135-f3bb2a6d7ae7",
   "metadata": {},
   "source": [
    "# 12 months"
   ]
  },
  {
   "cell_type": "code",
   "execution_count": 112,
   "id": "fac7e7c0-1da6-4aed-831c-fc48104636d5",
   "metadata": {},
   "outputs": [
    {
     "name": "stdout",
     "output_type": "stream",
     "text": [
      ">clf1 0.561 (0.136)\n",
      ">clf2 0.557 (0.128)\n",
      ">clf3 0.638 (0.146)\n",
      ">clf4 0.631 (0.133)\n",
      ">eclf2 0.589 (0.141)\n",
      ">stacking1 0.602 (0.119)\n",
      ">stacking2 0.596 (0.126)\n"
     ]
    },
    {
     "data": {
      "image/png": "[encoded data removed]",
      "text/plain": [
       "<Figure size 842.4x595.44 with 1 Axes>"
      ]
     },
     "metadata": {
      "needs_background": "light"
     },
     "output_type": "display_data"
    }
   ],
   "source": [
    "# Prepare data\n",
    "df_12 = df_agg[df_agg['months_bin']==2]\n",
    "\n",
    "# Change NA to 0 for drugs\n",
    "df_12.iloc[:, 8:29] = df_12.iloc[:, 8:29].fillna(0)\n",
    "\n",
    "# Use KNNImputer to fill other missing values\n",
    "imputer = KNNImputer(n_neighbors=2)\n",
    "# Remove id from imputation\n",
    "df_temp = pd.DataFrame(imputer.fit_transform(df_12.iloc[:,1:]), index = df_12.index, columns = df_12.columns[1:]) \n",
    "df_12 = pd.concat([df_12['id'], df_temp], axis=1)\n",
    "\n",
    "# Attach demographic and target\n",
    "df_12 = df_12.merge(df_demo, on='id', how='inner')\n",
    "df_12 = df_12.merge(df_stage, on='id', how='inner')\n",
    "\n",
    "# Drop useless columns\n",
    "df_12.drop(['id', 'months_bin'], axis=1, inplace=True)\n",
    "\n",
    "X = df_12[['sbp', 'dbp', 'creatinine', 'glucose', 'ldl', 'hgb',\n",
    "       'atenolol', 'atorvastatin', 'bisoprolol', 'canagliflozin', 'carvedilol',\n",
    "       'dapagliflozin', 'irbesartan', 'labetalol', 'losartan', 'lovastatin',\n",
    "       'metformin', 'metoprolol', 'nebivolol', 'olmesartan', 'pitavastatin',\n",
    "       'pravastatin', 'propranolol', 'rosuvastatin', 'simvastatin',\n",
    "       'telmisartan', 'valsartan', 'race', 'gender', 'age']]\n",
    "\n",
    "y = df_12['Stage_Progress']\n",
    "\n",
    "# Split train-test data\n",
    "from sklearn.model_selection import train_test_split\n",
    "\n",
    "X_train_12, X_test_12, y_train_12, y_test_12 = train_test_split(X, y, random_state=0) # default 75-25 split\n",
    "\n",
    "load_build_model(df_12, X_train_12, y_train_12, '12m')"
   ]
  },
  {
   "cell_type": "markdown",
   "id": "2ff93881-243b-4954-a989-a0045a04026d",
   "metadata": {},
   "source": [
    "# 18 months"
   ]
  },
  {
   "cell_type": "code",
   "execution_count": 113,
   "id": "73f1a4c1-d6b1-49ff-ac63-468cc6e12423",
   "metadata": {},
   "outputs": [
    {
     "name": "stdout",
     "output_type": "stream",
     "text": [
      ">clf1 0.574 (0.114)\n",
      ">clf2 0.576 (0.126)\n",
      ">clf3 0.486 (0.107)\n",
      ">clf4 0.537 (0.111)\n",
      ">eclf2 0.562 (0.126)\n",
      ">stacking1 0.555 (0.140)\n",
      ">stacking2 0.554 (0.138)\n"
     ]
    },
    {
     "data": {
      "image/png": "[encoded data removed]",
      "text/plain": [
       "<Figure size 842.4x595.44 with 1 Axes>"
      ]
     },
     "metadata": {
      "needs_background": "light"
     },
     "output_type": "display_data"
    }
   ],
   "source": [
    "df_18 = df_agg[df_agg['months_bin']==3]\n",
    "\n",
    "# Change NA to 0 for drugs\n",
    "df_18.iloc[:, 8:29] = df_18.iloc[:, 8:29].fillna(0)\n",
    "\n",
    "# Change NA to 0 for drugs\n",
    "df_18.iloc[:, 8:29] = df_18.iloc[:, 8:29].fillna(0)\n",
    "\n",
    "# Use KNNImputer to fill other missing values\n",
    "\n",
    "imputer = KNNImputer(n_neighbors=2)\n",
    "\n",
    "# Remove id from imputation\n",
    "df_temp = pd.DataFrame(imputer.fit_transform(df_18.iloc[:,1:]), index = df_18.index, columns = df_18.columns[1:]) \n",
    "df_18 = pd.concat([df_18['id'], df_temp], axis=1)\n",
    "\n",
    "# Attach demographic and target\n",
    "df_18 = df_18.merge(df_demo, on='id', how='inner')\n",
    "df_18 = df_18.merge(df_stage, on='id', how='inner')\n",
    "\n",
    "# Drop useless columns\n",
    "df_18.drop(['id', 'months_bin'], axis=1, inplace=True)\n",
    "\n",
    "\n",
    "X = df_18[['sbp', 'dbp', 'creatinine', 'glucose', 'ldl', 'hgb',\n",
    "       'atenolol', 'atorvastatin', 'bisoprolol', 'canagliflozin', 'carvedilol',\n",
    "       'dapagliflozin', 'irbesartan', 'labetalol', 'losartan', 'lovastatin',\n",
    "       'metformin', 'metoprolol', 'nebivolol', 'olmesartan', 'pitavastatin',\n",
    "       'pravastatin', 'propranolol', 'rosuvastatin', 'simvastatin',\n",
    "       'telmisartan', 'valsartan', 'race', 'gender', 'age']]\n",
    "\n",
    "y = df_18['Stage_Progress']\n",
    "\n",
    "X_train_18, X_test_18, y_train_18, y_test_18 = train_test_split(X, y, random_state=0) # default 75-25 split\n",
    "\n",
    "load_build_model(df_18, X_train_18, y_train_18, '18m')"
   ]
  },
  {
   "cell_type": "markdown",
   "id": "965892ad-4be2-4deb-a576-585e2abb6c1e",
   "metadata": {},
   "source": [
    "# 24 months"
   ]
  },
  {
   "cell_type": "code",
   "execution_count": 114,
   "id": "a59c078e-2721-48d8-851e-d2a67a29260c",
   "metadata": {},
   "outputs": [
    {
     "name": "stdout",
     "output_type": "stream",
     "text": [
      ">clf1 0.615 (0.152)\n",
      ">clf2 0.692 (0.110)\n",
      ">clf3 0.591 (0.105)\n",
      ">clf4 0.666 (0.104)\n",
      ">eclf2 0.659 (0.104)\n",
      ">stacking1 0.656 (0.105)\n",
      ">stacking2 0.647 (0.110)\n"
     ]
    },
    {
     "data": {
      "image/png": "[encoded data removed]",
      "text/plain": [
       "<Figure size 842.4x595.44 with 1 Axes>"
      ]
     },
     "metadata": {
      "needs_background": "light"
     },
     "output_type": "display_data"
    }
   ],
   "source": [
    "df_24 = df_agg[df_agg['months_bin']==4]\n",
    "\n",
    "# Change NA to 0 for drugs\n",
    "df_24.iloc[:, 8:29] = df_24.iloc[:, 8:29].fillna(0)\n",
    "\n",
    "# Change NA to 0 for drugs\n",
    "df_24.iloc[:, 8:29] = df_24.iloc[:, 8:29].fillna(0)\n",
    "\n",
    "# Use KNNImputer to fill other missing values\n",
    "imputer = KNNImputer(n_neighbors=2)\n",
    "\n",
    "# Remove id from imputation\n",
    "df_temp = pd.DataFrame(imputer.fit_transform(df_24.iloc[:,1:]), index = df_24.index, columns = df_24.columns[1:]) \n",
    "df_24 = pd.concat([df_24['id'], df_temp], axis=1)\n",
    "\n",
    "# Attach demographic and target\n",
    "df_24 = df_24.merge(df_demo, on='id', how='inner')\n",
    "df_24 = df_24.merge(df_stage, on='id', how='inner')\n",
    "\n",
    "# Drop useless columns\n",
    "df_24.drop(['id', 'months_bin'], axis=1, inplace=True)\n",
    "\n",
    "X = df_24[['sbp', 'dbp', 'creatinine', 'glucose', 'ldl', 'hgb',\n",
    "       'atenolol', 'atorvastatin', 'bisoprolol', 'canagliflozin', 'carvedilol',\n",
    "       'dapagliflozin', 'irbesartan', 'labetalol', 'losartan', 'lovastatin',\n",
    "       'metformin', 'metoprolol', 'nebivolol', 'olmesartan', 'pitavastatin',\n",
    "       'pravastatin', 'propranolol', 'rosuvastatin', 'simvastatin',\n",
    "       'telmisartan', 'valsartan', 'race', 'gender', 'age']]\n",
    "\n",
    "y = df_24['Stage_Progress']\n",
    "\n",
    "# Split train-test data\n",
    "from sklearn.model_selection import train_test_split\n",
    "\n",
    "X_train_24, X_test_24, y_train_24, y_test_24 = train_test_split(X, y, random_state=0) # default 75-25 split\n",
    "\n",
    "load_build_model(df_6, X_train_24, y_train_24, '24m')"
   ]
  },
  {
   "cell_type": "markdown",
   "id": "5435e7e7-2044-4a5c-91a2-5a111cf99a16",
   "metadata": {},
   "source": [
    "# Temporal"
   ]
  },
  {
   "cell_type": "code",
   "execution_count": 115,
   "id": "9451e220-00a5-46fe-b5f4-005736c27303",
   "metadata": {},
   "outputs": [
    {
     "name": "stdout",
     "output_type": "stream",
     "text": [
      ">clf1 0.668 (0.108)\n",
      ">clf2 0.618 (0.102)\n",
      ">clf3 0.553 (0.106)\n",
      ">clf4 0.664 (0.121)\n",
      ">eclf2 0.680 (0.111)\n",
      ">stacking1 0.651 (0.112)\n",
      ">stacking2 0.670 (0.116)\n"
     ]
    },
    {
     "data": {
      "image/png": "[encoded data removed]",
      "text/plain": [
       "<Figure size 842.4x595.44 with 1 Axes>"
      ]
     },
     "metadata": {
      "needs_background": "light"
     },
     "output_type": "display_data"
    }
   ],
   "source": [
    "# Split data\n",
    "df_phy = df_temporal[df_temporal.columns[1:25]]\n",
    "df_med = df_temporal[df_temporal.columns[25:]]\n",
    "\n",
    "# KNNImpute for phy\n",
    "imputer = KNNImputer(n_neighbors=2)\n",
    "\n",
    "# Remove id from imputation\n",
    "df_phy_fixed = pd.DataFrame(imputer.fit_transform(df_phy), index = df_phy.index, columns = df_phy.columns) \n",
    "\n",
    "# Fill 0 for med\n",
    "df_med = df_med.fillna(0)\n",
    "\n",
    "df_temporal_fixed = pd.concat([df_temporal['id'], df_phy_fixed, df_med], axis=1)\n",
    "\n",
    "# Attach demographic and target\n",
    "df_temporal_fixed = df_temporal_fixed.merge(df_demo, on='id')\n",
    "df_temporal_fixed = df_temporal_fixed.merge(df_stage, on='id')\n",
    "\n",
    "# Drop useless columns\n",
    "df_temporal_fixed.drop(['id'], axis=1, inplace=True)\n",
    "\n",
    "X = df_temporal_fixed.iloc[:,:-1]\n",
    "y = df_temporal_fixed['Stage_Progress']\n",
    "\n",
    "# Split train-test data\n",
    "from sklearn.model_selection import train_test_split\n",
    "\n",
    "X_train_temporal, X_test_temporal, y_train_temporal, y_test_temporal = train_test_split(X, y, random_state=0) # default 75-25 split\n",
    "\n",
    "load_build_model(df_temporal_fixed, X_train_temporal, y_train_temporal, 'temporal')"
   ]
  },
  {
   "cell_type": "markdown",
   "id": "10dc8701-1ea3-42d1-aee4-7598b350e200",
   "metadata": {},
   "source": [
    "# Remarks\n",
    "* Other than data in temporal, all ensemble and stacking did not perform better"
   ]
  },
  {
   "cell_type": "markdown",
   "id": "ff236de5-e50e-4abe-9f54-a663b7edbb88",
   "metadata": {},
   "source": [
    "# Evaluate eclf2 of temporal"
   ]
  },
  {
   "cell_type": "code",
   "execution_count": 137,
   "id": "5c2c88f7-cab0-42b6-b2e5-3217166c60ba",
   "metadata": {},
   "outputs": [
    {
     "name": "stderr",
     "output_type": "stream",
     "text": [
      "[Parallel(n_jobs=-1)]: Using backend LokyBackend with 4 concurrent workers.\n",
      "[Parallel(n_jobs=-1)]: Done 312 tasks      | elapsed:    0.0s\n",
      "[Parallel(n_jobs=-1)]: Done 800 out of 800 | elapsed:    0.2s finished\n",
      "[Parallel(n_jobs=4)]: Using backend ThreadingBackend with 4 concurrent workers.\n",
      "[Parallel(n_jobs=4)]: Done  42 tasks      | elapsed:    0.0s\n",
      "[Parallel(n_jobs=4)]: Done 192 tasks      | elapsed:    0.0s\n",
      "[Parallel(n_jobs=4)]: Done 442 tasks      | elapsed:    0.0s\n",
      "[Parallel(n_jobs=4)]: Done 792 tasks      | elapsed:    0.0s\n",
      "[Parallel(n_jobs=4)]: Done 800 out of 800 | elapsed:    0.0s finished\n",
      "[Parallel(n_jobs=4)]: Using backend ThreadingBackend with 4 concurrent workers.\n",
      "[Parallel(n_jobs=4)]: Done  42 tasks      | elapsed:    0.0s\n",
      "[Parallel(n_jobs=4)]: Done 192 tasks      | elapsed:    0.0s\n",
      "[Parallel(n_jobs=4)]: Done 442 tasks      | elapsed:    0.0s\n",
      "[Parallel(n_jobs=4)]: Done 792 tasks      | elapsed:    0.0s\n",
      "[Parallel(n_jobs=4)]: Done 800 out of 800 | elapsed:    0.0s finished\n"
     ]
    }
   ],
   "source": [
    "time_period = 'temporal'\n",
    "    \n",
    "# Load models\n",
    "clf1 = joblib.load('models/'+ time_period +'/LogisticRegression.joblib')\n",
    "clf2 = joblib.load('models/'+ time_period +'/RandomForestClassifier.joblib')\n",
    "clf3 = joblib.load('models/'+ time_period +'/DecisionTreeClassifier.joblib')\n",
    "clf4 = joblib.load('models/'+ time_period +'/LGBMClassifier.joblib')\n",
    "\n",
    "# Build ensembles\n",
    "\n",
    "eclf2 = VotingClassifier(estimators=[\n",
    "    ('lr', clf1), ('rf', clf2), ('dt', clf3), ('lgbm', clf4)], voting='soft')\n",
    "\n",
    "eclf2 = eclf2.fit(X_train_temporal, y_train_temporal)\n",
    "\n",
    "# Get predictions\n",
    "preds_temporal_eclf = {}\n",
    "\n",
    "y_pred = eclf2.predict(X_test_temporal)\n",
    "y_pred_proba = eclf2.predict_proba(X_test_temporal)[:,1] # only get probability for 1\n",
    "\n",
    "preds_temporal_eclf['VotingClassifierSoft'] = {\n",
    "'pred': y_pred,\n",
    "'pred_proba': y_pred_proba\n",
    "}"
   ]
  },
  {
   "cell_type": "code",
   "execution_count": 151,
   "id": "045eaf24-b1b5-45bb-8d23-eb7b616aa6c4",
   "metadata": {},
   "outputs": [],
   "source": [
    "from sklearn.compose import ColumnTransformer\n",
    "from sklearn.pipeline import Pipeline\n",
    "from sklearn.preprocessing import OneHotEncoder, StandardScaler\n",
    "from sklearn.impute import KNNImputer\n",
    "\n",
    "# Preprocess data\n",
    "\n",
    "# Select categorical columns\n",
    "categorical_cols = ['race', 'gender']\n",
    "\n",
    "# Select numerical columns\n",
    "numerical_cols = list(df_temporal_fixed.columns[:-4]) + ['age']\n",
    "\n",
    "# Preprocessing for numerical data\n",
    "numerical_transformer = StandardScaler()\n",
    "\n",
    "# Preprocessing for categorical data\n",
    "categorical_transformer = OneHotEncoder(handle_unknown='ignore')\n",
    "\n",
    "# Bundle preprocessing for numerical and categorical data\n",
    "cltf_temporal = ColumnTransformer(\n",
    "    transformers=[\n",
    "        ('num', numerical_transformer, numerical_cols),\n",
    "        ('cat', categorical_transformer, categorical_cols)\n",
    "    ])"
   ]
  },
  {
   "cell_type": "code",
   "execution_count": 152,
   "id": "a444a42d-b2ca-48eb-8223-5cb93ae1c634",
   "metadata": {},
   "outputs": [],
   "source": [
    "# Calculate probability thresholds\n",
    "\n",
    "def specificity(y_valid, y_pred):\n",
    "    tn, fp, fn, tp = confusion_matrix(y_valid, y_pred).ravel()\n",
    "    \n",
    "    specificity = tn / (tn+fp)\n",
    "    return specificity\n",
    "\n",
    "def youden_index(y, pred_proba):\n",
    "    fpr, tpr, thresh = roc_curve(y, pred_proba)\n",
    "    optimal_idx = np.argmax(tpr - fpr)\n",
    "    optimal_threshold = thresh[optimal_idx]\n",
    "    return optimal_threshold\n",
    "\n",
    "# Threshold used\n",
    "def get_threshold_table(preds):\n",
    "    thresh = [[algo, val['threshold']] for algo, val in preds.items() if algo != 'y']\n",
    "    return pd.DataFrame(thresh, columns=['Algo', \"Threshold\"])"
   ]
  },
  {
   "cell_type": "code",
   "execution_count": 153,
   "id": "9d35dee8-121e-4ec4-bdba-70b4182c02c6",
   "metadata": {},
   "outputs": [
    {
     "data": {
      "text/plain": [
       "ColumnTransformer(transformers=[('num', StandardScaler(),\n",
       "                                 ['sbp_1', 'sbp_2', 'sbp_3', 'sbp_4', 'dbp_1',\n",
       "                                  'dbp_2', 'dbp_3', 'dbp_4', 'creatinine_1',\n",
       "                                  'creatinine_2', 'creatinine_3',\n",
       "                                  'creatinine_4', 'glucose_1', 'glucose_2',\n",
       "                                  'glucose_3', 'glucose_4', 'ldl_1', 'ldl_2',\n",
       "                                  'ldl_3', 'ldl_4', 'hgb_1', 'hgb_2', 'hgb_3',\n",
       "                                  'hgb_4', 'atenolol_1', 'atenolol_2',\n",
       "                                  'atenolol_3', 'atenolol_4', 'atorvastatin_1',\n",
       "                                  'atorvastatin_2', ...]),\n",
       "                                ('cat', OneHotEncoder(handle_unknown='ignore'),\n",
       "                                 ['race', 'gender'])])"
      ]
     },
     "execution_count": 153,
     "metadata": {},
     "output_type": "execute_result"
    },
    {
     "data": {
      "text/html": [
       "<div>\n",
       "<style scoped>\n",
       "    .dataframe tbody tr th:only-of-type {\n",
       "        vertical-align: middle;\n",
       "    }\n",
       "\n",
       "    .dataframe tbody tr th {\n",
       "        vertical-align: top;\n",
       "    }\n",
       "\n",
       "    .dataframe thead th {\n",
       "        text-align: right;\n",
       "    }\n",
       "</style>\n",
       "<table border=\"1\" class=\"dataframe\">\n",
       "  <thead>\n",
       "    <tr style=\"text-align: right;\">\n",
       "      <th></th>\n",
       "      <th>Algo</th>\n",
       "      <th>Threshold</th>\n",
       "    </tr>\n",
       "  </thead>\n",
       "  <tbody>\n",
       "    <tr>\n",
       "      <th>0</th>\n",
       "      <td>LogisticRegression</td>\n",
       "      <td>0.92484</td>\n",
       "    </tr>\n",
       "    <tr>\n",
       "      <th>1</th>\n",
       "      <td>DecisionTreeClassifier</td>\n",
       "      <td>0.74074</td>\n",
       "    </tr>\n",
       "    <tr>\n",
       "      <th>2</th>\n",
       "      <td>LGBMClassifier</td>\n",
       "      <td>0.20445</td>\n",
       "    </tr>\n",
       "    <tr>\n",
       "      <th>3</th>\n",
       "      <td>RandomForestClassifier</td>\n",
       "      <td>0.28375</td>\n",
       "    </tr>\n",
       "    <tr>\n",
       "      <th>4</th>\n",
       "      <td>VotingClassifierSoft</td>\n",
       "      <td>0.30445</td>\n",
       "    </tr>\n",
       "  </tbody>\n",
       "</table>\n",
       "</div>"
      ],
      "text/plain": [
       "                     Algo  Threshold\n",
       "0      LogisticRegression    0.92484\n",
       "1  DecisionTreeClassifier    0.74074\n",
       "2          LGBMClassifier    0.20445\n",
       "3  RandomForestClassifier    0.28375\n",
       "4    VotingClassifierSoft    0.30445"
      ]
     },
     "execution_count": 153,
     "metadata": {},
     "output_type": "execute_result"
    },
    {
     "data": {
      "text/html": [
       "<div>\n",
       "<style scoped>\n",
       "    .dataframe tbody tr th:only-of-type {\n",
       "        vertical-align: middle;\n",
       "    }\n",
       "\n",
       "    .dataframe tbody tr th {\n",
       "        vertical-align: top;\n",
       "    }\n",
       "\n",
       "    .dataframe thead th {\n",
       "        text-align: right;\n",
       "    }\n",
       "</style>\n",
       "<table border=\"1\" class=\"dataframe\">\n",
       "  <thead>\n",
       "    <tr style=\"text-align: right;\">\n",
       "      <th></th>\n",
       "      <th>Algorithm</th>\n",
       "      <th>Accuracy</th>\n",
       "      <th>F1</th>\n",
       "      <th>Precision</th>\n",
       "      <th>Recall</th>\n",
       "      <th>Specificiy</th>\n",
       "      <th>ROC_AUC</th>\n",
       "    </tr>\n",
       "  </thead>\n",
       "  <tbody>\n",
       "    <tr>\n",
       "      <th>0</th>\n",
       "      <td>LogisticRegression</td>\n",
       "      <td>0.76000</td>\n",
       "      <td>0.55000</td>\n",
       "      <td>0.64706</td>\n",
       "      <td>0.47826</td>\n",
       "      <td>0.88462</td>\n",
       "      <td>0.63211</td>\n",
       "    </tr>\n",
       "    <tr>\n",
       "      <th>1</th>\n",
       "      <td>DecisionTreeClassifier</td>\n",
       "      <td>0.68000</td>\n",
       "      <td>0.57143</td>\n",
       "      <td>0.48485</td>\n",
       "      <td>0.69565</td>\n",
       "      <td>0.67308</td>\n",
       "      <td>0.74666</td>\n",
       "    </tr>\n",
       "    <tr>\n",
       "      <th>3</th>\n",
       "      <td>RandomForestClassifier</td>\n",
       "      <td>0.61333</td>\n",
       "      <td>0.59155</td>\n",
       "      <td>0.43750</td>\n",
       "      <td>0.91304</td>\n",
       "      <td>0.48077</td>\n",
       "      <td>0.74749</td>\n",
       "    </tr>\n",
       "    <tr>\n",
       "      <th>2</th>\n",
       "      <td>LGBMClassifier</td>\n",
       "      <td>0.74667</td>\n",
       "      <td>0.62745</td>\n",
       "      <td>0.57143</td>\n",
       "      <td>0.69565</td>\n",
       "      <td>0.76923</td>\n",
       "      <td>0.74833</td>\n",
       "    </tr>\n",
       "    <tr>\n",
       "      <th>4</th>\n",
       "      <td>VotingClassifierSoft</td>\n",
       "      <td>0.69333</td>\n",
       "      <td>0.64615</td>\n",
       "      <td>0.50000</td>\n",
       "      <td>0.91304</td>\n",
       "      <td>0.59615</td>\n",
       "      <td>0.80686</td>\n",
       "    </tr>\n",
       "  </tbody>\n",
       "</table>\n",
       "</div>"
      ],
      "text/plain": [
       "                Algorithm  Accuracy      F1  Precision  Recall  Specificiy  \\\n",
       "0      LogisticRegression   0.76000 0.55000    0.64706 0.47826     0.88462   \n",
       "1  DecisionTreeClassifier   0.68000 0.57143    0.48485 0.69565     0.67308   \n",
       "3  RandomForestClassifier   0.61333 0.59155    0.43750 0.91304     0.48077   \n",
       "2          LGBMClassifier   0.74667 0.62745    0.57143 0.69565     0.76923   \n",
       "4    VotingClassifierSoft   0.69333 0.64615    0.50000 0.91304     0.59615   \n",
       "\n",
       "   ROC_AUC  \n",
       "0  0.63211  \n",
       "1  0.74666  \n",
       "3  0.74749  \n",
       "2  0.74833  \n",
       "4  0.80686  "
      ]
     },
     "execution_count": 153,
     "metadata": {},
     "output_type": "execute_result"
    },
    {
     "data": {
      "text/plain": [
       "[<matplotlib.lines.Line2D at 0x1bbc2be6eb0>]"
      ]
     },
     "execution_count": 153,
     "metadata": {},
     "output_type": "execute_result"
    },
    {
     "data": {
      "text/plain": [
       "[<matplotlib.lines.Line2D at 0x1bbc2be6c70>]"
      ]
     },
     "execution_count": 153,
     "metadata": {},
     "output_type": "execute_result"
    },
    {
     "data": {
      "text/plain": [
       "[<matplotlib.lines.Line2D at 0x1bbc2be6040>]"
      ]
     },
     "execution_count": 153,
     "metadata": {},
     "output_type": "execute_result"
    },
    {
     "data": {
      "text/plain": [
       "[<matplotlib.lines.Line2D at 0x1bbc2be6550>]"
      ]
     },
     "execution_count": 153,
     "metadata": {},
     "output_type": "execute_result"
    },
    {
     "data": {
      "text/plain": [
       "[<matplotlib.lines.Line2D at 0x1bbc2701b50>]"
      ]
     },
     "execution_count": 153,
     "metadata": {},
     "output_type": "execute_result"
    },
    {
     "data": {
      "text/plain": [
       "[<matplotlib.lines.Line2D at 0x1bbc27019a0>]"
      ]
     },
     "execution_count": 153,
     "metadata": {},
     "output_type": "execute_result"
    },
    {
     "data": {
      "text/plain": [
       "Text(0.5, 0, '1 - Specificity')"
      ]
     },
     "execution_count": 153,
     "metadata": {},
     "output_type": "execute_result"
    },
    {
     "data": {
      "text/plain": [
       "Text(0, 0.5, 'Sensitivity')"
      ]
     },
     "execution_count": 153,
     "metadata": {},
     "output_type": "execute_result"
    },
    {
     "data": {
      "text/plain": [
       "Text(0.7, 0.3, 'Temporal')"
      ]
     },
     "execution_count": 153,
     "metadata": {},
     "output_type": "execute_result"
    },
    {
     "data": {
      "text/plain": [
       "<matplotlib.legend.Legend at 0x1bbbaed7a90>"
      ]
     },
     "execution_count": 153,
     "metadata": {},
     "output_type": "execute_result"
    },
    {
     "data": {
      "image/png": "[encoded data removed]",
      "text/plain": [
       "<Figure size 432x432 with 1 Axes>"
      ]
     },
     "metadata": {
      "needs_background": "light"
     },
     "output_type": "display_data"
    }
   ],
   "source": [
    "preds_temporal = joblib.load('predictions/predictions_temporal.joblib')\n",
    "preds_temporal = {**preds_temporal, **preds_temporal_eclf}\n",
    "\n",
    "cltf_temporal.fit(X_train_temporal)\n",
    "\n",
    "# Calculate probability thresholds\n",
    "\n",
    "for algo, preds in preds_temporal.items():\n",
    "    if algo == 'y':\n",
    "        continue\n",
    "    threshold = youden_index(preds_temporal['y'], preds['pred_proba'])\n",
    "    preds['threshold'] = threshold\n",
    "    preds['pred'] = preds['pred_proba'] >= threshold\n",
    "\n",
    "# Get threshold to categorize as 1 (CKD)\n",
    "threshold_temporal = pd.concat([get_threshold_table(preds) for preds in [preds_temporal]])\n",
    "pd.set_option('display.float_format', lambda x: '%.5f' % x)\n",
    "threshold_temporal\n",
    "\n",
    "metrics_temporal_list = []\n",
    "\n",
    "y_truth = preds_temporal['y']\n",
    "for algo, preds in preds_temporal.items():\n",
    "    if algo == 'y':\n",
    "        continue\n",
    "        \n",
    "    y_pred = preds['pred']\n",
    "    y_pred_proba = preds['pred_proba']\n",
    "    \n",
    "    acc = accuracy_score(y_truth, y_pred)\n",
    "    f1 = f1_score(y_truth, y_pred)\n",
    "    prec = precision_score(y_truth, y_pred)\n",
    "    rec = recall_score(y_truth, y_pred)\n",
    "    spec = specificity(y_truth, y_pred)\n",
    "    roc = roc_auc_score(y_truth, y_pred_proba)\n",
    "    \n",
    "    row = [algo, acc, f1, prec, rec, spec, roc]\n",
    "    metrics_temporal_list.append(row)\n",
    "    \n",
    "cols = ['Algorithm', 'Accuracy', 'F1', 'Precision', 'Recall', 'Specificiy', 'ROC_AUC']\n",
    "metrics_temporal = pd.DataFrame(metrics_temporal_list, columns=cols)\n",
    "metrics_temporal.sort_values('ROC_AUC')\n",
    "\n",
    "# Plot ROC\n",
    "\n",
    "fig = plt.figure(figsize=(6,6))\n",
    "lw = 2\n",
    "\n",
    "# ML algos\n",
    "rocs = []\n",
    "for algo, model in preds_temporal.items():\n",
    "    if algo == 'y':\n",
    "        continue\n",
    "    fpr, tpr, thresh = roc_curve(preds_temporal['y'], preds_temporal[algo]['pred_proba'])\n",
    "    auc = roc_auc_score(preds_temporal['y'], preds_temporal[algo]['pred_proba'])\n",
    "    auc = round(auc, 3)\n",
    "    rocs.append((algo, auc, [fpr, tpr]))\n",
    "# sort legend by AUC\n",
    "rocs = sorted(rocs, key=lambda x: x[1], reverse=True)\n",
    "for algo, auc, [fpr, tpr] in rocs:    \n",
    "    plt.plot(fpr,tpr, label=algo+f' ({auc})', lw=lw)\n",
    "    \n",
    "# chance line\n",
    "plt.plot([0, 1], [0, 1], color='navy', label='chance line (0.5)', linestyle='--', lw=lw)\n",
    "plt.xlabel('1 - Specificity')\n",
    "plt.ylabel('Sensitivity')\n",
    "plt.text(0.7,0.3, 'Temporal', fontsize=12)\n",
    "plt.grid(linewidth=1.2, color='lightgray')\n",
    "plt.legend(loc='lower right')"
   ]
  }
 ],
 "metadata": {
  "kernelspec": {
   "display_name": "Python 3",
   "language": "python",
   "name": "python3"
  },
  "language_info": {
   "codemirror_mode": {
    "name": "ipython",
    "version": 3
   },
   "file_extension": ".py",
   "mimetype": "text/x-python",
   "name": "python",
   "nbconvert_exporter": "python",
   "pygments_lexer": "ipython3",
   "version": "3.8.8"
  }
 },
 "nbformat": 4,
 "nbformat_minor": 5
}
