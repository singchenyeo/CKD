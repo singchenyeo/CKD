{
 "cells": [
  {
   "cell_type": "code",
   "execution_count": 3,
   "id": "46d2b211-847f-4dee-8c27-16161e6cf0cf",
   "metadata": {},
   "outputs": [],
   "source": [
    "import pandas as pd\n",
    "import numpy as np\n",
    "import matplotlib.pyplot as plt\n",
    "import seaborn as sns\n",
    "from matplotlib import rcParams\n",
    "rcParams['figure.figsize'] = 11.7,8.27 # figure size in inches\n",
    "\n",
    "pd.options.mode.chained_assignment = None  # default='warn'\n",
    "pd.set_option('display.max_colwidth', None)\n",
    "pd.set_option('display.max_rows', 500) \n",
    "pd.set_option('display.max_columns', 30) \n",
    "\n",
    "from IPython.core.interactiveshell import InteractiveShell\n",
    "InteractiveShell.ast_node_interactivity = \"all\"\n",
    "\n",
    "%config Completer.use_jedi = False\n",
    "\n",
    "import joblib"
   ]
  },
  {
   "cell_type": "markdown",
   "id": "6c6f6bc3-4be7-42fe-a66d-f6205b205804",
   "metadata": {},
   "source": [
    "# Note\n",
    "* build model based on different days_bin"
   ]
  },
  {
   "cell_type": "code",
   "execution_count": 13,
   "id": "3217f523-16de-4c74-ba1d-b5e1310ad8c2",
   "metadata": {},
   "outputs": [],
   "source": [
    "df_demo = pd.read_csv('CSV/T_demo.csv')\n",
    "df_stage = pd.read_csv('CSV/T_stage.csv')\n",
    "df_daybin = pd.read_csv('CSV/df_daybin.csv')"
   ]
  },
  {
   "cell_type": "code",
   "execution_count": 14,
   "id": "59367aad-87fa-4906-b378-fd7260446453",
   "metadata": {},
   "outputs": [
    {
     "data": {
      "text/plain": [
       "White       226\n",
       "Unknown      26\n",
       "Black        24\n",
       "Asian        17\n",
       "Hispanic      7\n",
       "Name: race, dtype: int64"
      ]
     },
     "execution_count": 14,
     "metadata": {},
     "output_type": "execute_result"
    },
    {
     "data": {
      "text/plain": [
       "White       252\n",
       "Black        24\n",
       "Asian        17\n",
       "Hispanic      7\n",
       "Name: race, dtype: int64"
      ]
     },
     "execution_count": 14,
     "metadata": {},
     "output_type": "execute_result"
    }
   ],
   "source": [
    "# Change the unknown in df_demo race to the mode\n",
    "df_demo['race'].value_counts()\n",
    "df_demo.loc[df_demo['race'] == 'Unknown','race'] = 'White'\n",
    "df_demo['race'].value_counts()"
   ]
  },
  {
   "cell_type": "code",
   "execution_count": 15,
   "id": "7fa5a5f1-69d0-4d56-88ee-359b87a39424",
   "metadata": {},
   "outputs": [
    {
     "data": {
      "text/plain": [
       "False    200\n",
       "True     100\n",
       "Name: Stage_Progress, dtype: int64"
      ]
     },
     "execution_count": 15,
     "metadata": {},
     "output_type": "execute_result"
    },
    {
     "data": {
      "text/plain": [
       "0    200\n",
       "1    100\n",
       "Name: Stage_Progress, dtype: int64"
      ]
     },
     "execution_count": 15,
     "metadata": {},
     "output_type": "execute_result"
    }
   ],
   "source": [
    "# Change state to 0, 1\n",
    "df_stage['Stage_Progress'].value_counts()\n",
    "df_stage['Stage_Progress'] = np.where(df_stage['Stage_Progress'] == True, 1, 0)\n",
    "df_stage['Stage_Progress'].value_counts()"
   ]
  },
  {
   "cell_type": "code",
   "execution_count": 16,
   "id": "7cebe0f3-42b5-46c4-a8b1-5a0aa86589cc",
   "metadata": {},
   "outputs": [
    {
     "data": {
      "text/html": [
       "<div>\n",
       "<style scoped>\n",
       "    .dataframe tbody tr th:only-of-type {\n",
       "        vertical-align: middle;\n",
       "    }\n",
       "\n",
       "    .dataframe tbody tr th {\n",
       "        vertical-align: top;\n",
       "    }\n",
       "\n",
       "    .dataframe thead th {\n",
       "        text-align: right;\n",
       "    }\n",
       "</style>\n",
       "<table border=\"1\" class=\"dataframe\">\n",
       "  <thead>\n",
       "    <tr style=\"text-align: right;\">\n",
       "      <th></th>\n",
       "      <th>id</th>\n",
       "      <th>sbp_1</th>\n",
       "      <th>sbp_2</th>\n",
       "      <th>sbp_3</th>\n",
       "      <th>sbp_4</th>\n",
       "      <th>dbp_1</th>\n",
       "      <th>dbp_2</th>\n",
       "      <th>dbp_3</th>\n",
       "      <th>dbp_4</th>\n",
       "      <th>creatinine_1</th>\n",
       "      <th>creatinine_2</th>\n",
       "      <th>creatinine_3</th>\n",
       "      <th>creatinine_4</th>\n",
       "      <th>glucose_1</th>\n",
       "      <th>glucose_2</th>\n",
       "      <th>...</th>\n",
       "      <th>simvastatin_2</th>\n",
       "      <th>simvastatin_3</th>\n",
       "      <th>simvastatin_4</th>\n",
       "      <th>telmisartan_1</th>\n",
       "      <th>telmisartan_2</th>\n",
       "      <th>telmisartan_3</th>\n",
       "      <th>telmisartan_4</th>\n",
       "      <th>valsartan_1</th>\n",
       "      <th>valsartan_2</th>\n",
       "      <th>valsartan_3</th>\n",
       "      <th>valsartan_4</th>\n",
       "      <th>race</th>\n",
       "      <th>gender</th>\n",
       "      <th>age</th>\n",
       "      <th>Stage_Progress</th>\n",
       "    </tr>\n",
       "  </thead>\n",
       "  <tbody>\n",
       "    <tr>\n",
       "      <th>0</th>\n",
       "      <td>0</td>\n",
       "      <td>133.930</td>\n",
       "      <td>125.08</td>\n",
       "      <td>133.625</td>\n",
       "      <td>154.28</td>\n",
       "      <td>89.650</td>\n",
       "      <td>65.97</td>\n",
       "      <td>84.90</td>\n",
       "      <td>84.29</td>\n",
       "      <td>1.220</td>\n",
       "      <td>1.44</td>\n",
       "      <td>1.230</td>\n",
       "      <td>1.155000</td>\n",
       "      <td>6.72</td>\n",
       "      <td>7.010</td>\n",
       "      <td>...</td>\n",
       "      <td>0.0</td>\n",
       "      <td>0.0</td>\n",
       "      <td>0.0</td>\n",
       "      <td>0.0</td>\n",
       "      <td>0.0</td>\n",
       "      <td>0.0</td>\n",
       "      <td>0.0</td>\n",
       "      <td>0.0</td>\n",
       "      <td>0.0</td>\n",
       "      <td>0.0</td>\n",
       "      <td>0.0</td>\n",
       "      <td>White</td>\n",
       "      <td>Male</td>\n",
       "      <td>70</td>\n",
       "      <td>1</td>\n",
       "    </tr>\n",
       "    <tr>\n",
       "      <th>1</th>\n",
       "      <td>1</td>\n",
       "      <td>155.525</td>\n",
       "      <td>145.24</td>\n",
       "      <td>144.680</td>\n",
       "      <td>152.71</td>\n",
       "      <td>77.435</td>\n",
       "      <td>77.83</td>\n",
       "      <td>76.52</td>\n",
       "      <td>88.07</td>\n",
       "      <td>1.785</td>\n",
       "      <td>1.81</td>\n",
       "      <td>1.905</td>\n",
       "      <td>1.376667</td>\n",
       "      <td>9.96</td>\n",
       "      <td>8.350</td>\n",
       "      <td>...</td>\n",
       "      <td>0.0</td>\n",
       "      <td>0.0</td>\n",
       "      <td>0.0</td>\n",
       "      <td>0.0</td>\n",
       "      <td>0.0</td>\n",
       "      <td>0.0</td>\n",
       "      <td>0.0</td>\n",
       "      <td>0.0</td>\n",
       "      <td>0.0</td>\n",
       "      <td>0.0</td>\n",
       "      <td>0.0</td>\n",
       "      <td>White</td>\n",
       "      <td>Female</td>\n",
       "      <td>71</td>\n",
       "      <td>0</td>\n",
       "    </tr>\n",
       "    <tr>\n",
       "      <th>2</th>\n",
       "      <td>2</td>\n",
       "      <td>132.890</td>\n",
       "      <td>143.73</td>\n",
       "      <td>147.760</td>\n",
       "      <td>136.46</td>\n",
       "      <td>81.130</td>\n",
       "      <td>92.36</td>\n",
       "      <td>91.86</td>\n",
       "      <td>91.52</td>\n",
       "      <td>2.510</td>\n",
       "      <td>1.89</td>\n",
       "      <td>2.125</td>\n",
       "      <td>2.200000</td>\n",
       "      <td>7.24</td>\n",
       "      <td>5.120</td>\n",
       "      <td>...</td>\n",
       "      <td>0.0</td>\n",
       "      <td>0.0</td>\n",
       "      <td>0.0</td>\n",
       "      <td>0.0</td>\n",
       "      <td>0.0</td>\n",
       "      <td>0.0</td>\n",
       "      <td>0.0</td>\n",
       "      <td>0.0</td>\n",
       "      <td>0.0</td>\n",
       "      <td>0.0</td>\n",
       "      <td>0.0</td>\n",
       "      <td>White</td>\n",
       "      <td>Female</td>\n",
       "      <td>57</td>\n",
       "      <td>1</td>\n",
       "    </tr>\n",
       "    <tr>\n",
       "      <th>3</th>\n",
       "      <td>3</td>\n",
       "      <td>147.460</td>\n",
       "      <td>142.98</td>\n",
       "      <td>134.510</td>\n",
       "      <td>142.88</td>\n",
       "      <td>80.090</td>\n",
       "      <td>73.33</td>\n",
       "      <td>74.09</td>\n",
       "      <td>73.70</td>\n",
       "      <td>0.740</td>\n",
       "      <td>1.35</td>\n",
       "      <td>1.100</td>\n",
       "      <td>0.895000</td>\n",
       "      <td>6.43</td>\n",
       "      <td>7.450</td>\n",
       "      <td>...</td>\n",
       "      <td>0.0</td>\n",
       "      <td>0.0</td>\n",
       "      <td>0.0</td>\n",
       "      <td>0.0</td>\n",
       "      <td>0.0</td>\n",
       "      <td>0.0</td>\n",
       "      <td>0.0</td>\n",
       "      <td>0.0</td>\n",
       "      <td>0.0</td>\n",
       "      <td>0.0</td>\n",
       "      <td>0.0</td>\n",
       "      <td>White</td>\n",
       "      <td>Male</td>\n",
       "      <td>74</td>\n",
       "      <td>0</td>\n",
       "    </tr>\n",
       "    <tr>\n",
       "      <th>4</th>\n",
       "      <td>4</td>\n",
       "      <td>145.365</td>\n",
       "      <td>160.01</td>\n",
       "      <td>166.865</td>\n",
       "      <td>170.10</td>\n",
       "      <td>86.085</td>\n",
       "      <td>89.99</td>\n",
       "      <td>103.70</td>\n",
       "      <td>106.07</td>\n",
       "      <td>1.215</td>\n",
       "      <td>1.14</td>\n",
       "      <td>1.350</td>\n",
       "      <td>0.990000</td>\n",
       "      <td>10.31</td>\n",
       "      <td>8.845</td>\n",
       "      <td>...</td>\n",
       "      <td>0.0</td>\n",
       "      <td>0.0</td>\n",
       "      <td>0.0</td>\n",
       "      <td>0.0</td>\n",
       "      <td>0.0</td>\n",
       "      <td>0.0</td>\n",
       "      <td>0.0</td>\n",
       "      <td>0.0</td>\n",
       "      <td>0.0</td>\n",
       "      <td>0.0</td>\n",
       "      <td>0.0</td>\n",
       "      <td>White</td>\n",
       "      <td>Female</td>\n",
       "      <td>50</td>\n",
       "      <td>1</td>\n",
       "    </tr>\n",
       "  </tbody>\n",
       "</table>\n",
       "<p>5 rows × 113 columns</p>\n",
       "</div>"
      ],
      "text/plain": [
       "   id    sbp_1   sbp_2    sbp_3   sbp_4   dbp_1  dbp_2   dbp_3   dbp_4  \\\n",
       "0   0  133.930  125.08  133.625  154.28  89.650  65.97   84.90   84.29   \n",
       "1   1  155.525  145.24  144.680  152.71  77.435  77.83   76.52   88.07   \n",
       "2   2  132.890  143.73  147.760  136.46  81.130  92.36   91.86   91.52   \n",
       "3   3  147.460  142.98  134.510  142.88  80.090  73.33   74.09   73.70   \n",
       "4   4  145.365  160.01  166.865  170.10  86.085  89.99  103.70  106.07   \n",
       "\n",
       "   creatinine_1  creatinine_2  creatinine_3  creatinine_4  glucose_1  \\\n",
       "0         1.220          1.44         1.230      1.155000       6.72   \n",
       "1         1.785          1.81         1.905      1.376667       9.96   \n",
       "2         2.510          1.89         2.125      2.200000       7.24   \n",
       "3         0.740          1.35         1.100      0.895000       6.43   \n",
       "4         1.215          1.14         1.350      0.990000      10.31   \n",
       "\n",
       "   glucose_2  ...  simvastatin_2  simvastatin_3  simvastatin_4  telmisartan_1  \\\n",
       "0      7.010  ...            0.0            0.0            0.0            0.0   \n",
       "1      8.350  ...            0.0            0.0            0.0            0.0   \n",
       "2      5.120  ...            0.0            0.0            0.0            0.0   \n",
       "3      7.450  ...            0.0            0.0            0.0            0.0   \n",
       "4      8.845  ...            0.0            0.0            0.0            0.0   \n",
       "\n",
       "   telmisartan_2  telmisartan_3  telmisartan_4  valsartan_1  valsartan_2  \\\n",
       "0            0.0            0.0            0.0          0.0          0.0   \n",
       "1            0.0            0.0            0.0          0.0          0.0   \n",
       "2            0.0            0.0            0.0          0.0          0.0   \n",
       "3            0.0            0.0            0.0          0.0          0.0   \n",
       "4            0.0            0.0            0.0          0.0          0.0   \n",
       "\n",
       "   valsartan_3  valsartan_4   race  gender  age  Stage_Progress  \n",
       "0          0.0          0.0  White    Male   70               1  \n",
       "1          0.0          0.0  White  Female   71               0  \n",
       "2          0.0          0.0  White  Female   57               1  \n",
       "3          0.0          0.0  White    Male   74               0  \n",
       "4          0.0          0.0  White  Female   50               1  \n",
       "\n",
       "[5 rows x 113 columns]"
      ]
     },
     "execution_count": 16,
     "metadata": {},
     "output_type": "execute_result"
    }
   ],
   "source": [
    "# Temporal\n",
    "df_temporal = pd.read_csv('CSV/df_temporal.csv')\n",
    "df_temporal.head()"
   ]
  },
  {
   "cell_type": "markdown",
   "id": "f72eaa0c-de28-4e6f-97ec-25e79bd26873",
   "metadata": {},
   "source": [
    "# Preprocess"
   ]
  },
  {
   "cell_type": "code",
   "execution_count": 8,
   "id": "077d717a-aabc-467d-9748-642a6990bbb2",
   "metadata": {},
   "outputs": [],
   "source": [
    "from sklearn.compose import ColumnTransformer\n",
    "from sklearn.pipeline import Pipeline\n",
    "from sklearn.preprocessing import OneHotEncoder, StandardScaler\n",
    "from sklearn.impute import KNNImputer\n",
    "\n",
    "# Preprocess data\n",
    "\n",
    "\n",
    "# Select categorical columns\n",
    "categorical_cols = ['race', 'gender']\n",
    "\n",
    "# Select numerical columns\n",
    "numerical_cols = ['sbp', 'dbp', 'creatinine', 'glucose', 'ldl', 'hgb',\n",
    "       'atenolol', 'atorvastatin', 'bisoprolol', 'canagliflozin', 'carvedilol',\n",
    "       'dapagliflozin', 'irbesartan', 'labetalol', 'losartan', 'lovastatin',\n",
    "       'metformin', 'metoprolol', 'nebivolol', 'olmesartan', 'pitavastatin',\n",
    "       'pravastatin', 'propranolol', 'rosuvastatin', 'simvastatin',\n",
    "       'telmisartan', 'valsartan', 'age']\n",
    "\n",
    "\n",
    "# Preprocessing for numerical data\n",
    "numerical_transformer = StandardScaler()\n",
    "\n",
    "# Preprocessing for categorical data\n",
    "categorical_transformer = OneHotEncoder(handle_unknown='ignore')\n",
    "\n",
    "# Bundle preprocessing for numerical and categorical data\n",
    "cltf = ColumnTransformer(\n",
    "    transformers=[\n",
    "        ('num', numerical_transformer, numerical_cols),\n",
    "        ('cat', categorical_transformer, categorical_cols)\n",
    "    ])"
   ]
  },
  {
   "cell_type": "markdown",
   "id": "e61ae6f8-319d-4a96-8d5b-c99f5114b53c",
   "metadata": {},
   "source": [
    "# Build models"
   ]
  },
  {
   "cell_type": "markdown",
   "id": "1bb91a16-cfcf-4012-9198-7b7953dab2d1",
   "metadata": {},
   "source": [
    "## 6 months data"
   ]
  },
  {
   "cell_type": "code",
   "execution_count": 90,
   "id": "89e3adbd-727f-4e99-978d-cc614917962a",
   "metadata": {},
   "outputs": [
    {
     "data": {
      "text/plain": [
       "300"
      ]
     },
     "execution_count": 90,
     "metadata": {},
     "output_type": "execute_result"
    }
   ],
   "source": [
    "df_6 = df_daybin[df_daybin['days_bin']==1]\n",
    "# Check if all 300 subjects are included\n",
    "len(df_6['id'].unique())"
   ]
  },
  {
   "cell_type": "code",
   "execution_count": 91,
   "id": "063e8272-4116-420d-bb39-567e13f053f0",
   "metadata": {},
   "outputs": [
    {
     "name": "stdout",
     "output_type": "stream",
     "text": [
      "<class 'pandas.core.frame.DataFrame'>\n",
      "Int64Index: 300 entries, 0 to 1828\n",
      "Data columns (total 29 columns):\n",
      " #   Column         Non-Null Count  Dtype  \n",
      "---  ------         --------------  -----  \n",
      " 0   id             300 non-null    int64  \n",
      " 1   months_bin     300 non-null    int64  \n",
      " 2   sbp            300 non-null    float64\n",
      " 3   dbp            300 non-null    float64\n",
      " 4   creatinine     300 non-null    float64\n",
      " 5   glucose        300 non-null    float64\n",
      " 6   ldl            300 non-null    float64\n",
      " 7   hgb            300 non-null    float64\n",
      " 8   atenolol       184 non-null    float64\n",
      " 9   atorvastatin   184 non-null    float64\n",
      " 10  bisoprolol     184 non-null    float64\n",
      " 11  canagliflozin  184 non-null    float64\n",
      " 12  carvedilol     184 non-null    float64\n",
      " 13  dapagliflozin  184 non-null    float64\n",
      " 14  irbesartan     184 non-null    float64\n",
      " 15  labetalol      184 non-null    float64\n",
      " 16  losartan       184 non-null    float64\n",
      " 17  lovastatin     184 non-null    float64\n",
      " 18  metformin      184 non-null    float64\n",
      " 19  metoprolol     184 non-null    float64\n",
      " 20  nebivolol      184 non-null    float64\n",
      " 21  olmesartan     184 non-null    float64\n",
      " 22  pitavastatin   184 non-null    float64\n",
      " 23  pravastatin    184 non-null    float64\n",
      " 24  propranolol    184 non-null    float64\n",
      " 25  rosuvastatin   184 non-null    float64\n",
      " 26  simvastatin    184 non-null    float64\n",
      " 27  telmisartan    184 non-null    float64\n",
      " 28  valsartan      184 non-null    float64\n",
      "dtypes: float64(27), int64(2)\n",
      "memory usage: 70.3 KB\n"
     ]
    }
   ],
   "source": [
    "# Check missing values\n",
    "df_6.info()"
   ]
  },
  {
   "cell_type": "code",
   "execution_count": 92,
   "id": "8b8d054a-2fd0-48d5-b0a4-48a68c7bb984",
   "metadata": {},
   "outputs": [],
   "source": [
    "# ALl missing values are at the med, so can just fill with 0\n",
    "df_6 = df_6.fillna(0)"
   ]
  },
  {
   "cell_type": "code",
   "execution_count": 93,
   "id": "5408d6ef-29dc-443b-8088-41a6de9d6ce3",
   "metadata": {},
   "outputs": [
    {
     "data": {
      "text/plain": [
       "Index(['sbp', 'dbp', 'creatinine', 'glucose', 'ldl', 'hgb', 'atenolol',\n",
       "       'atorvastatin', 'bisoprolol', 'canagliflozin', 'carvedilol',\n",
       "       'dapagliflozin', 'irbesartan', 'labetalol', 'losartan', 'lovastatin',\n",
       "       'metformin', 'metoprolol', 'nebivolol', 'olmesartan', 'pitavastatin',\n",
       "       'pravastatin', 'propranolol', 'rosuvastatin', 'simvastatin',\n",
       "       'telmisartan', 'valsartan', 'race', 'gender', 'age', 'Stage_Progress'],\n",
       "      dtype='object')"
      ]
     },
     "execution_count": 93,
     "metadata": {},
     "output_type": "execute_result"
    }
   ],
   "source": [
    "# Attach demographic and target\n",
    "df_6 = df_6.merge(df_demo, on='id', how='outer')\n",
    "df_6 = df_6.merge(df_stage, on='id', how='outer')\n",
    "\n",
    "# Drop useless columns\n",
    "df_6.drop(['id', 'days_bin'], axis=1, inplace=True)\n",
    "\n",
    "# Check columns included\n",
    "df_6.columns"
   ]
  },
  {
   "cell_type": "code",
   "execution_count": 94,
   "id": "4f16e6d4-27a5-45f4-b44d-f0010492e0f5",
   "metadata": {},
   "outputs": [],
   "source": [
    "X = df_6[['sbp', 'dbp', 'creatinine', 'glucose', 'ldl', 'hgb',\n",
    "       'atenolol', 'atorvastatin', 'bisoprolol', 'canagliflozin', 'carvedilol',\n",
    "       'dapagliflozin', 'irbesartan', 'labetalol', 'losartan', 'lovastatin',\n",
    "       'metformin', 'metoprolol', 'nebivolol', 'olmesartan', 'pitavastatin',\n",
    "       'pravastatin', 'propranolol', 'rosuvastatin', 'simvastatin',\n",
    "       'telmisartan', 'valsartan', 'race', 'gender', 'age']]\n",
    "\n",
    "y = df_6['Stage_Progress']"
   ]
  },
  {
   "cell_type": "code",
   "execution_count": 95,
   "id": "93d44091-cf04-4da8-bfa6-1f8f9a054cae",
   "metadata": {},
   "outputs": [
    {
     "data": {
      "text/plain": [
       "(225, 30)"
      ]
     },
     "execution_count": 95,
     "metadata": {},
     "output_type": "execute_result"
    },
    {
     "data": {
      "text/plain": [
       "(75, 30)"
      ]
     },
     "execution_count": 95,
     "metadata": {},
     "output_type": "execute_result"
    }
   ],
   "source": [
    "# Split train-test data\n",
    "from sklearn.model_selection import train_test_split\n",
    "\n",
    "X_train_6, X_test_6, y_train_6, y_test_6 = train_test_split(X, y, random_state=0) # default 75-25 split\n",
    "X_train_6.shape\n",
    "X_test_6.shape"
   ]
  },
  {
   "cell_type": "markdown",
   "id": "20407f1a-7f56-4ce9-9001-e7c516959644",
   "metadata": {
    "tags": []
   },
   "source": [
    "## Generate result and store in dict\n",
    "* Set weight to prevent bias, 4 to CKD (1), 1 to non-CKD (0)\n",
    "* Implement GridSearchCV to find the best parameters"
   ]
  },
  {
   "cell_type": "code",
   "execution_count": 266,
   "id": "aeb3f180-07b0-4193-a2cb-2834353593a6",
   "metadata": {},
   "outputs": [
    {
     "data": {
      "text/plain": [
       "ColumnTransformer(transformers=[('num', StandardScaler(),\n",
       "                                 ['sbp', 'dbp', 'creatinine', 'glucose', 'ldl',\n",
       "                                  'hgb', 'atenolol', 'atorvastatin',\n",
       "                                  'bisoprolol', 'canagliflozin', 'carvedilol',\n",
       "                                  'dapagliflozin', 'irbesartan', 'labetalol',\n",
       "                                  'losartan', 'lovastatin', 'metformin',\n",
       "                                  'metoprolol', 'nebivolol', 'olmesartan',\n",
       "                                  'pitavastatin', 'pravastatin', 'propranolol',\n",
       "                                  'rosuvastatin', 'simvastatin', 'telmisartan',\n",
       "                                  'valsartan', 'age']),\n",
       "                                ('cat', OneHotEncoder(handle_unknown='ignore'),\n",
       "                                 ['race', 'gender'])])"
      ]
     },
     "execution_count": 266,
     "metadata": {},
     "output_type": "execute_result"
    }
   ],
   "source": [
    "cltf.fit(X_train_6)"
   ]
  },
  {
   "cell_type": "code",
   "execution_count": 302,
   "id": "42fd83b7-e3d4-4737-b438-70511db9dbf6",
   "metadata": {},
   "outputs": [],
   "source": [
    "from sklearn.pipeline import Pipeline\n",
    "from sklearn.model_selection import GridSearchCV\n",
    "from sklearn.metrics import classification_report\n",
    "from sklearn.metrics import *\n",
    "\n",
    "preds_6 = {\n",
    "    'y': y_test_6\n",
    "}\n",
    "\n",
    "def train_model_6(model, parameters, algoname):\n",
    "    scores = ['f1']\n",
    "    \n",
    "    # retain for loop in case want to try different scores\n",
    "    for score in scores:\n",
    "\n",
    "        print(\"# Tuning hyper-parameters for %s\" % score)\n",
    "        print()\n",
    "\n",
    "        pipe = Pipeline(steps=[('preprocessor', cltf),\n",
    "                          ('model', model)])\n",
    "\n",
    "        search = GridSearchCV(pipe, parameters, n_jobs=-1)\n",
    "        search.fit(X_train_6, y_train_6)\n",
    "        \n",
    "        print(\"Best parameter (CV score=%0.3f):\" % search.best_score_)\n",
    "        print()\n",
    "        print(\"Best parameters set found on development set:\")\n",
    "        print()\n",
    "        print(search.best_params_)\n",
    "        print()\n",
    "        print(\"Grid scores on development set:\")\n",
    "        print()\n",
    "        means = search.cv_results_['mean_test_score']\n",
    "        stds = search.cv_results_['std_test_score']\n",
    "        for mean, std, params in zip(means, stds, search.cv_results_['params']):\n",
    "            print(\"%0.3f (+/-%0.03f) for %r\"\n",
    "                  % (mean, std * 2, params))\n",
    "       \n",
    "        # Obtained best model\n",
    "        optimized_model = search.best_estimator_\n",
    "        \n",
    "        joblib.dump(optimized_model, 'models/6m/'+ algoname +'.joblib')\n",
    "        \n",
    "        # Get predictions\n",
    "        y_pred = optimized_model.predict(X_test_6)\n",
    "        y_pred_proba = optimized_model.predict_proba(X_test_6)[:,1] # only get probability for 1\n",
    "        \n",
    "        preds_6[algoname] = {\n",
    "        'pred': y_pred,\n",
    "        'pred_proba': y_pred_proba\n",
    "    }        \n",
    "    \n"
   ]
  },
  {
   "cell_type": "code",
   "execution_count": 303,
   "id": "d619dac5-c290-4faf-8e8f-e65063a88753",
   "metadata": {},
   "outputs": [
    {
     "name": "stdout",
     "output_type": "stream",
     "text": [
      "# Tuning hyper-parameters for f1\n",
      "\n",
      "Best parameter (CV score=0.600):\n",
      "\n",
      "Best parameters set found on development set:\n",
      "\n",
      "{'model__C': 10000.0}\n",
      "\n",
      "Grid scores on development set:\n",
      "\n",
      "0.342 (+/-0.022) for {'model__C': 1e-05}\n",
      "0.342 (+/-0.022) for {'model__C': 0.0001}\n",
      "0.342 (+/-0.022) for {'model__C': 0.001}\n",
      "0.378 (+/-0.049) for {'model__C': 0.01}\n",
      "0.524 (+/-0.175) for {'model__C': 0.1}\n",
      "0.573 (+/-0.185) for {'model__C': 1}\n",
      "0.591 (+/-0.229) for {'model__C': 10}\n",
      "0.587 (+/-0.246) for {'model__C': 100}\n",
      "0.596 (+/-0.238) for {'model__C': 1000}\n",
      "0.600 (+/-0.230) for {'model__C': 10000.0}\n",
      "0.600 (+/-0.230) for {'model__C': 100000.0}\n",
      "0.600 (+/-0.230) for {'model__C': 1000000.0}\n"
     ]
    }
   ],
   "source": [
    " # Logistic regression\n",
    "from sklearn.linear_model import LogisticRegression\n",
    "    \n",
    "model = LogisticRegression(random_state=0, max_iter=10000, class_weight={0: 1, 1: 4})\n",
    "parameters = {\n",
    "'model__C': [1e-05, 1e-04, 1e-03, 1e-02, 1e-01, 1, 10, 100,1000, 1e4, 1e5, 1e6]\n",
    "}\n",
    "\n",
    "train_model_6(model, parameters, 'LogisticRegression')"
   ]
  },
  {
   "cell_type": "code",
   "execution_count": 305,
   "id": "068707ac-7040-4ffc-beac-6bdd9af254ed",
   "metadata": {},
   "outputs": [
    {
     "name": "stdout",
     "output_type": "stream",
     "text": [
      "# Tuning hyper-parameters for f1\n",
      "\n",
      "Best parameter (CV score=0.467):\n",
      "\n",
      "Best parameters set found on development set:\n",
      "\n",
      "{'model__max_depth': 10.0}\n",
      "\n",
      "Grid scores on development set:\n",
      "\n",
      "0.467 (+/-0.109) for {'model__max_depth': 10.0}\n",
      "0.467 (+/-0.109) for {'model__max_depth': 20.0}\n",
      "0.467 (+/-0.109) for {'model__max_depth': 30.0}\n",
      "0.467 (+/-0.109) for {'model__max_depth': 40.0}\n",
      "0.467 (+/-0.109) for {'model__max_depth': 50.0}\n",
      "0.467 (+/-0.109) for {'model__max_depth': 60.0}\n",
      "0.467 (+/-0.109) for {'model__max_depth': 70.0}\n",
      "0.467 (+/-0.109) for {'model__max_depth': 80.0}\n",
      "0.467 (+/-0.109) for {'model__max_depth': 90.0}\n",
      "0.467 (+/-0.109) for {'model__max_depth': 100.0}\n"
     ]
    }
   ],
   "source": [
    "# Decision tree\n",
    "from sklearn.tree import DecisionTreeClassifier\n",
    "model = DecisionTreeClassifier(random_state=0, class_weight={0: 1, 1: 4}, min_samples_leaf = 30)\n",
    "    \n",
    "param_grid = {\n",
    "'model__max_depth': np.linspace(10, 100, 10)\n",
    "}\n",
    "\n",
    "train_model_6(model, param_grid, 'DecisionTreeClassifier')\n"
   ]
  },
  {
   "cell_type": "code",
   "execution_count": 306,
   "id": "7803996d-7383-4aa4-a91b-3571a12a95c2",
   "metadata": {},
   "outputs": [
    {
     "name": "stdout",
     "output_type": "stream",
     "text": [
      "# Tuning hyper-parameters for f1\n",
      "\n",
      "Best parameter (CV score=0.658):\n",
      "\n",
      "Best parameters set found on development set:\n",
      "\n",
      "{'model__learning_rate': 1e-05}\n",
      "\n",
      "Grid scores on development set:\n",
      "\n",
      "0.658 (+/-0.022) for {'model__learning_rate': 1e-05}\n",
      "0.658 (+/-0.022) for {'model__learning_rate': 0.0001}\n",
      "0.564 (+/-0.107) for {'model__learning_rate': 0.001}\n",
      "0.564 (+/-0.100) for {'model__learning_rate': 0.01}\n",
      "0.591 (+/-0.067) for {'model__learning_rate': 0.1}\n",
      "0.569 (+/-0.096) for {'model__learning_rate': 1}\n",
      "0.627 (+/-0.081) for {'model__learning_rate': 10}\n",
      "0.453 (+/-0.036) for {'model__learning_rate': 100}\n"
     ]
    }
   ],
   "source": [
    "# lightGBM\n",
    "\n",
    "from lightgbm import LGBMClassifier\n",
    "\n",
    "model = LGBMClassifier(n_estimators=1000, objective='binary',scale_pos_weight=4)\n",
    "\n",
    "param_grid = {\n",
    "'model__learning_rate': [1e-05, 1e-04, 1e-03, 1e-02, 1e-01, 1, 10, 100]\n",
    "\n",
    "}\n",
    "\n",
    "train_model_6(model, param_grid, 'LGBMClassifier')"
   ]
  },
  {
   "cell_type": "code",
   "execution_count": 307,
   "id": "91fb5cbd-8057-4ba1-bade-202271c42611",
   "metadata": {},
   "outputs": [
    {
     "name": "stdout",
     "output_type": "stream",
     "text": [
      "# Tuning hyper-parameters for f1\n",
      "\n"
     ]
    },
    {
     "name": "stderr",
     "output_type": "stream",
     "text": [
      "[Parallel(n_jobs=-1)]: Using backend ThreadingBackend with 4 concurrent workers.\n",
      "[Parallel(n_jobs=-1)]: Done  42 tasks      | elapsed:    0.0s\n",
      "[Parallel(n_jobs=-1)]: Done 192 tasks      | elapsed:    0.1s\n",
      "[Parallel(n_jobs=-1)]: Done 442 tasks      | elapsed:    0.5s\n",
      "[Parallel(n_jobs=-1)]: Done 792 tasks      | elapsed:    0.8s\n",
      "[Parallel(n_jobs=-1)]: Done 800 out of 800 | elapsed:    0.8s finished\n"
     ]
    },
    {
     "name": "stdout",
     "output_type": "stream",
     "text": [
      "Best parameter (CV score=0.644):\n",
      "\n",
      "Best parameters set found on development set:\n",
      "\n",
      "{'model__max_depth': 19}\n",
      "\n",
      "Grid scores on development set:\n",
      "\n",
      "0.342 (+/-0.022) for {'model__max_depth': 1}\n",
      "0.342 (+/-0.022) for {'model__max_depth': 2}\n",
      "0.400 (+/-0.063) for {'model__max_depth': 3}\n",
      "0.458 (+/-0.111) for {'model__max_depth': 4}\n",
      "0.507 (+/-0.121) for {'model__max_depth': 5}\n",
      "0.596 (+/-0.124) for {'model__max_depth': 6}\n",
      "0.600 (+/-0.089) for {'model__max_depth': 7}\n",
      "0.636 (+/-0.107) for {'model__max_depth': 8}\n",
      "0.627 (+/-0.114) for {'model__max_depth': 9}\n",
      "0.622 (+/-0.056) for {'model__max_depth': 10}\n",
      "0.618 (+/-0.065) for {'model__max_depth': 11}\n",
      "0.631 (+/-0.092) for {'model__max_depth': 12}\n",
      "0.636 (+/-0.107) for {'model__max_depth': 13}\n",
      "0.631 (+/-0.115) for {'model__max_depth': 14}\n",
      "0.631 (+/-0.115) for {'model__max_depth': 15}\n",
      "0.622 (+/-0.141) for {'model__max_depth': 16}\n",
      "0.631 (+/-0.096) for {'model__max_depth': 17}\n",
      "0.640 (+/-0.110) for {'model__max_depth': 18}\n",
      "0.644 (+/-0.097) for {'model__max_depth': 19}\n",
      "0.631 (+/-0.139) for {'model__max_depth': 20}\n",
      "0.640 (+/-0.095) for {'model__max_depth': 21}\n",
      "0.636 (+/-0.104) for {'model__max_depth': 22}\n",
      "0.640 (+/-0.121) for {'model__max_depth': 23}\n",
      "0.631 (+/-0.115) for {'model__max_depth': 24}\n",
      "0.636 (+/-0.118) for {'model__max_depth': 25}\n",
      "0.631 (+/-0.165) for {'model__max_depth': 26}\n",
      "0.631 (+/-0.115) for {'model__max_depth': 27}\n",
      "0.627 (+/-0.114) for {'model__max_depth': 28}\n",
      "0.631 (+/-0.115) for {'model__max_depth': 29}\n",
      "0.618 (+/-0.107) for {'model__max_depth': 30}\n"
     ]
    },
    {
     "name": "stderr",
     "output_type": "stream",
     "text": [
      "[Parallel(n_jobs=4)]: Using backend ThreadingBackend with 4 concurrent workers.\n",
      "[Parallel(n_jobs=4)]: Done  42 tasks      | elapsed:    0.0s\n",
      "[Parallel(n_jobs=4)]: Done 192 tasks      | elapsed:    0.0s\n",
      "[Parallel(n_jobs=4)]: Done 442 tasks      | elapsed:    0.0s\n",
      "[Parallel(n_jobs=4)]: Done 792 tasks      | elapsed:    0.0s\n",
      "[Parallel(n_jobs=4)]: Done 800 out of 800 | elapsed:    0.0s finished\n",
      "[Parallel(n_jobs=4)]: Using backend ThreadingBackend with 4 concurrent workers.\n",
      "[Parallel(n_jobs=4)]: Done  42 tasks      | elapsed:    0.0s\n",
      "[Parallel(n_jobs=4)]: Done 192 tasks      | elapsed:    0.0s\n",
      "[Parallel(n_jobs=4)]: Done 442 tasks      | elapsed:    0.0s\n",
      "[Parallel(n_jobs=4)]: Done 792 tasks      | elapsed:    0.0s\n",
      "[Parallel(n_jobs=4)]: Done 800 out of 800 | elapsed:    0.0s finished\n"
     ]
    }
   ],
   "source": [
    "# Random forest\n",
    "from sklearn.ensemble import RandomForestClassifier\n",
    "\n",
    "model = RandomForestClassifier(class_weight={0: 1, 1: 4}, n_estimators=800, n_jobs=-1, verbose=1)\n",
    "\n",
    "param_grid = {\n",
    "'model__max_depth': list(range(1,31))\n",
    "\n",
    "}\n",
    "\n",
    "train_model_6(model, param_grid, 'RandomForestClassifier')"
   ]
  },
  {
   "cell_type": "code",
   "execution_count": 308,
   "id": "e0dad36d-f6da-4688-bc7e-24817a7a71ac",
   "metadata": {},
   "outputs": [
    {
     "data": {
      "text/plain": [
       "['predictions/predictions_6m.joblib']"
      ]
     },
     "execution_count": 308,
     "metadata": {},
     "output_type": "execute_result"
    }
   ],
   "source": [
    "joblib.dump(preds_6, 'predictions/predictions_6m.joblib')"
   ]
  },
  {
   "cell_type": "markdown",
   "id": "d0bc6d3f-6e25-4c2d-bf72-dcfe827922d6",
   "metadata": {},
   "source": [
    "## 12 months data"
   ]
  },
  {
   "cell_type": "code",
   "execution_count": 23,
   "id": "2d0d7c3e-ef93-4470-b625-a73dbe29c439",
   "metadata": {},
   "outputs": [
    {
     "data": {
      "text/plain": [
       "290"
      ]
     },
     "execution_count": 23,
     "metadata": {},
     "output_type": "execute_result"
    }
   ],
   "source": [
    "df_12 = df_daybin[df_daybin['days_bin']==2]\n",
    "# Check if all 300 subjects are included\n",
    "len(df_12['id'].unique())"
   ]
  },
  {
   "cell_type": "code",
   "execution_count": 24,
   "id": "1ee55330-b63e-4a1c-a219-7a7f60207019",
   "metadata": {},
   "outputs": [
    {
     "name": "stdout",
     "output_type": "stream",
     "text": [
      "<class 'pandas.core.frame.DataFrame'>\n",
      "Int64Index: 290 entries, 1 to 1858\n",
      "Data columns (total 29 columns):\n",
      " #   Column         Non-Null Count  Dtype  \n",
      "---  ------         --------------  -----  \n",
      " 0   id             290 non-null    int64  \n",
      " 1   months_bin     290 non-null    int64  \n",
      " 2   sbp            261 non-null    float64\n",
      " 3   dbp            262 non-null    float64\n",
      " 4   creatinine     252 non-null    float64\n",
      " 5   glucose        238 non-null    float64\n",
      " 6   ldl            237 non-null    float64\n",
      " 7   hgb            176 non-null    float64\n",
      " 8   atenolol       217 non-null    float64\n",
      " 9   atorvastatin   217 non-null    float64\n",
      " 10  bisoprolol     217 non-null    float64\n",
      " 11  canagliflozin  217 non-null    float64\n",
      " 12  carvedilol     217 non-null    float64\n",
      " 13  dapagliflozin  217 non-null    float64\n",
      " 14  irbesartan     217 non-null    float64\n",
      " 15  labetalol      217 non-null    float64\n",
      " 16  losartan       217 non-null    float64\n",
      " 17  lovastatin     217 non-null    float64\n",
      " 18  metformin      217 non-null    float64\n",
      " 19  metoprolol     217 non-null    float64\n",
      " 20  nebivolol      217 non-null    float64\n",
      " 21  olmesartan     217 non-null    float64\n",
      " 22  pitavastatin   217 non-null    float64\n",
      " 23  pravastatin    217 non-null    float64\n",
      " 24  propranolol    217 non-null    float64\n",
      " 25  rosuvastatin   217 non-null    float64\n",
      " 26  simvastatin    217 non-null    float64\n",
      " 27  telmisartan    217 non-null    float64\n",
      " 28  valsartan      217 non-null    float64\n",
      "dtypes: float64(27), int64(2)\n",
      "memory usage: 68.0 KB\n"
     ]
    }
   ],
   "source": [
    "# Check missing values\n",
    "df_12.info()"
   ]
  },
  {
   "cell_type": "code",
   "execution_count": 25,
   "id": "1fcffbb7-ca22-4aeb-9861-be95a5ea4000",
   "metadata": {},
   "outputs": [
    {
     "data": {
      "text/html": [
       "<div>\n",
       "<style scoped>\n",
       "    .dataframe tbody tr th:only-of-type {\n",
       "        vertical-align: middle;\n",
       "    }\n",
       "\n",
       "    .dataframe tbody tr th {\n",
       "        vertical-align: top;\n",
       "    }\n",
       "\n",
       "    .dataframe thead th {\n",
       "        text-align: right;\n",
       "    }\n",
       "</style>\n",
       "<table border=\"1\" class=\"dataframe\">\n",
       "  <thead>\n",
       "    <tr style=\"text-align: right;\">\n",
       "      <th></th>\n",
       "      <th>sbp</th>\n",
       "      <th>dbp</th>\n",
       "      <th>creatinine</th>\n",
       "      <th>glucose</th>\n",
       "      <th>ldl</th>\n",
       "      <th>hgb</th>\n",
       "    </tr>\n",
       "  </thead>\n",
       "  <tbody>\n",
       "    <tr>\n",
       "      <th>count</th>\n",
       "      <td>261.000000</td>\n",
       "      <td>262.000000</td>\n",
       "      <td>252.000000</td>\n",
       "      <td>238.000000</td>\n",
       "      <td>237.000000</td>\n",
       "      <td>176.000000</td>\n",
       "    </tr>\n",
       "    <tr>\n",
       "      <th>mean</th>\n",
       "      <td>134.383525</td>\n",
       "      <td>79.129695</td>\n",
       "      <td>1.310139</td>\n",
       "      <td>6.666681</td>\n",
       "      <td>87.033418</td>\n",
       "      <td>13.973807</td>\n",
       "    </tr>\n",
       "    <tr>\n",
       "      <th>std</th>\n",
       "      <td>15.030181</td>\n",
       "      <td>9.365810</td>\n",
       "      <td>0.338684</td>\n",
       "      <td>1.654625</td>\n",
       "      <td>28.910353</td>\n",
       "      <td>1.635726</td>\n",
       "    </tr>\n",
       "    <tr>\n",
       "      <th>min</th>\n",
       "      <td>93.720000</td>\n",
       "      <td>47.870000</td>\n",
       "      <td>0.640000</td>\n",
       "      <td>3.580000</td>\n",
       "      <td>30.160000</td>\n",
       "      <td>9.100000</td>\n",
       "    </tr>\n",
       "    <tr>\n",
       "      <th>25%</th>\n",
       "      <td>124.580000</td>\n",
       "      <td>73.572500</td>\n",
       "      <td>1.080000</td>\n",
       "      <td>5.621250</td>\n",
       "      <td>66.455000</td>\n",
       "      <td>12.867500</td>\n",
       "    </tr>\n",
       "    <tr>\n",
       "      <th>50%</th>\n",
       "      <td>133.840000</td>\n",
       "      <td>77.840000</td>\n",
       "      <td>1.250000</td>\n",
       "      <td>6.385000</td>\n",
       "      <td>82.090000</td>\n",
       "      <td>14.112500</td>\n",
       "    </tr>\n",
       "    <tr>\n",
       "      <th>75%</th>\n",
       "      <td>142.635000</td>\n",
       "      <td>85.452500</td>\n",
       "      <td>1.510000</td>\n",
       "      <td>7.205000</td>\n",
       "      <td>104.360000</td>\n",
       "      <td>15.202500</td>\n",
       "    </tr>\n",
       "    <tr>\n",
       "      <th>max</th>\n",
       "      <td>211.090000</td>\n",
       "      <td>102.490000</td>\n",
       "      <td>2.730000</td>\n",
       "      <td>15.965000</td>\n",
       "      <td>190.870000</td>\n",
       "      <td>17.290000</td>\n",
       "    </tr>\n",
       "  </tbody>\n",
       "</table>\n",
       "</div>"
      ],
      "text/plain": [
       "              sbp         dbp  creatinine     glucose         ldl         hgb\n",
       "count  261.000000  262.000000  252.000000  238.000000  237.000000  176.000000\n",
       "mean   134.383525   79.129695    1.310139    6.666681   87.033418   13.973807\n",
       "std     15.030181    9.365810    0.338684    1.654625   28.910353    1.635726\n",
       "min     93.720000   47.870000    0.640000    3.580000   30.160000    9.100000\n",
       "25%    124.580000   73.572500    1.080000    5.621250   66.455000   12.867500\n",
       "50%    133.840000   77.840000    1.250000    6.385000   82.090000   14.112500\n",
       "75%    142.635000   85.452500    1.510000    7.205000  104.360000   15.202500\n",
       "max    211.090000  102.490000    2.730000   15.965000  190.870000   17.290000"
      ]
     },
     "execution_count": 25,
     "metadata": {},
     "output_type": "execute_result"
    }
   ],
   "source": [
    "# Before fixing NA\n",
    "df_12[['sbp', 'dbp', 'creatinine', 'glucose', 'ldl', 'hgb']].describe()"
   ]
  },
  {
   "cell_type": "code",
   "execution_count": 26,
   "id": "75954a8b-f115-4ad4-859a-404969d9e98e",
   "metadata": {},
   "outputs": [],
   "source": [
    "# Change NA to 0 for drugs\n",
    "df_12.iloc[:, 8:29] = df_12.iloc[:, 8:29].fillna(0)\n",
    "# df_12.info()"
   ]
  },
  {
   "cell_type": "code",
   "execution_count": 27,
   "id": "f5618838-0150-40bc-bd4f-8879597c9496",
   "metadata": {},
   "outputs": [],
   "source": [
    "# Use KNNImputer to fill other missing values\n",
    "\n",
    "imputer = KNNImputer(n_neighbors=2)\n",
    "\n",
    "# Remove id from imputation\n",
    "df_temp = pd.DataFrame(imputer.fit_transform(df_12.iloc[:,1:]), index = df_12.index, columns = df_12.columns[1:]) \n",
    "df_12 = pd.concat([df_12['id'], df_temp], axis=1)"
   ]
  },
  {
   "cell_type": "code",
   "execution_count": 28,
   "id": "a026d71b-9a68-47af-a1eb-de64b360f5f2",
   "metadata": {
    "tags": []
   },
   "outputs": [
    {
     "data": {
      "text/html": [
       "<div>\n",
       "<style scoped>\n",
       "    .dataframe tbody tr th:only-of-type {\n",
       "        vertical-align: middle;\n",
       "    }\n",
       "\n",
       "    .dataframe tbody tr th {\n",
       "        vertical-align: top;\n",
       "    }\n",
       "\n",
       "    .dataframe thead th {\n",
       "        text-align: right;\n",
       "    }\n",
       "</style>\n",
       "<table border=\"1\" class=\"dataframe\">\n",
       "  <thead>\n",
       "    <tr style=\"text-align: right;\">\n",
       "      <th></th>\n",
       "      <th>sbp</th>\n",
       "      <th>dbp</th>\n",
       "      <th>creatinine</th>\n",
       "      <th>glucose</th>\n",
       "      <th>ldl</th>\n",
       "      <th>hgb</th>\n",
       "    </tr>\n",
       "  </thead>\n",
       "  <tbody>\n",
       "    <tr>\n",
       "      <th>count</th>\n",
       "      <td>290.000000</td>\n",
       "      <td>290.000000</td>\n",
       "      <td>290.000000</td>\n",
       "      <td>290.000000</td>\n",
       "      <td>290.000000</td>\n",
       "      <td>290.000000</td>\n",
       "    </tr>\n",
       "    <tr>\n",
       "      <th>mean</th>\n",
       "      <td>134.197431</td>\n",
       "      <td>79.110017</td>\n",
       "      <td>1.314440</td>\n",
       "      <td>6.722957</td>\n",
       "      <td>86.849267</td>\n",
       "      <td>13.828181</td>\n",
       "    </tr>\n",
       "    <tr>\n",
       "      <th>std</th>\n",
       "      <td>14.436326</td>\n",
       "      <td>9.106737</td>\n",
       "      <td>0.328548</td>\n",
       "      <td>1.615789</td>\n",
       "      <td>27.760499</td>\n",
       "      <td>1.473851</td>\n",
       "    </tr>\n",
       "    <tr>\n",
       "      <th>min</th>\n",
       "      <td>93.720000</td>\n",
       "      <td>47.870000</td>\n",
       "      <td>0.640000</td>\n",
       "      <td>3.580000</td>\n",
       "      <td>30.160000</td>\n",
       "      <td>9.100000</td>\n",
       "    </tr>\n",
       "    <tr>\n",
       "      <th>25%</th>\n",
       "      <td>125.685000</td>\n",
       "      <td>73.988750</td>\n",
       "      <td>1.090000</td>\n",
       "      <td>5.725000</td>\n",
       "      <td>66.241250</td>\n",
       "      <td>12.900000</td>\n",
       "    </tr>\n",
       "    <tr>\n",
       "      <th>50%</th>\n",
       "      <td>132.870000</td>\n",
       "      <td>77.660000</td>\n",
       "      <td>1.260000</td>\n",
       "      <td>6.425000</td>\n",
       "      <td>82.675000</td>\n",
       "      <td>13.896250</td>\n",
       "    </tr>\n",
       "    <tr>\n",
       "      <th>75%</th>\n",
       "      <td>141.452500</td>\n",
       "      <td>85.095000</td>\n",
       "      <td>1.515625</td>\n",
       "      <td>7.283750</td>\n",
       "      <td>104.080000</td>\n",
       "      <td>14.837500</td>\n",
       "    </tr>\n",
       "    <tr>\n",
       "      <th>max</th>\n",
       "      <td>211.090000</td>\n",
       "      <td>102.490000</td>\n",
       "      <td>2.730000</td>\n",
       "      <td>15.965000</td>\n",
       "      <td>190.870000</td>\n",
       "      <td>17.290000</td>\n",
       "    </tr>\n",
       "  </tbody>\n",
       "</table>\n",
       "</div>"
      ],
      "text/plain": [
       "              sbp         dbp  creatinine     glucose         ldl         hgb\n",
       "count  290.000000  290.000000  290.000000  290.000000  290.000000  290.000000\n",
       "mean   134.197431   79.110017    1.314440    6.722957   86.849267   13.828181\n",
       "std     14.436326    9.106737    0.328548    1.615789   27.760499    1.473851\n",
       "min     93.720000   47.870000    0.640000    3.580000   30.160000    9.100000\n",
       "25%    125.685000   73.988750    1.090000    5.725000   66.241250   12.900000\n",
       "50%    132.870000   77.660000    1.260000    6.425000   82.675000   13.896250\n",
       "75%    141.452500   85.095000    1.515625    7.283750  104.080000   14.837500\n",
       "max    211.090000  102.490000    2.730000   15.965000  190.870000   17.290000"
      ]
     },
     "execution_count": 28,
     "metadata": {},
     "output_type": "execute_result"
    }
   ],
   "source": [
    "# After fixing NA\n",
    "df_12[['sbp', 'dbp', 'creatinine', 'glucose', 'ldl', 'hgb']].describe()"
   ]
  },
  {
   "cell_type": "code",
   "execution_count": 29,
   "id": "7415667d-c5bc-480e-8a5c-d2efd8ff0bed",
   "metadata": {},
   "outputs": [
    {
     "data": {
      "text/plain": [
       "Index(['sbp', 'dbp', 'creatinine', 'glucose', 'ldl', 'hgb', 'atenolol',\n",
       "       'atorvastatin', 'bisoprolol', 'canagliflozin', 'carvedilol',\n",
       "       'dapagliflozin', 'irbesartan', 'labetalol', 'losartan', 'lovastatin',\n",
       "       'metformin', 'metoprolol', 'nebivolol', 'olmesartan', 'pitavastatin',\n",
       "       'pravastatin', 'propranolol', 'rosuvastatin', 'simvastatin',\n",
       "       'telmisartan', 'valsartan', 'race', 'gender', 'age', 'Stage_Progress'],\n",
       "      dtype='object')"
      ]
     },
     "execution_count": 29,
     "metadata": {},
     "output_type": "execute_result"
    }
   ],
   "source": [
    "# Attach demographic and target\n",
    "df_12 = df_12.merge(df_demo, on='id', how='inner')\n",
    "df_12 = df_12.merge(df_stage, on='id', how='inner')\n",
    "\n",
    "# Drop useless columns\n",
    "df_12.drop(['id', 'days_bin'], axis=1, inplace=True)\n",
    "\n",
    "# Check columns included\n",
    "df_12.columns"
   ]
  },
  {
   "cell_type": "code",
   "execution_count": 91,
   "id": "29ef8f2d-2630-4daa-8383-e3a4f1f7e7f8",
   "metadata": {},
   "outputs": [
    {
     "data": {
      "text/plain": [
       "(217, 30)"
      ]
     },
     "execution_count": 91,
     "metadata": {},
     "output_type": "execute_result"
    },
    {
     "data": {
      "text/plain": [
       "(73, 30)"
      ]
     },
     "execution_count": 91,
     "metadata": {},
     "output_type": "execute_result"
    }
   ],
   "source": [
    "X = df_12[['sbp', 'dbp', 'creatinine', 'glucose', 'ldl', 'hgb',\n",
    "       'atenolol', 'atorvastatin', 'bisoprolol', 'canagliflozin', 'carvedilol',\n",
    "       'dapagliflozin', 'irbesartan', 'labetalol', 'losartan', 'lovastatin',\n",
    "       'metformin', 'metoprolol', 'nebivolol', 'olmesartan', 'pitavastatin',\n",
    "       'pravastatin', 'propranolol', 'rosuvastatin', 'simvastatin',\n",
    "       'telmisartan', 'valsartan', 'race', 'gender', 'age']]\n",
    "\n",
    "y = df_12['Stage_Progress']\n",
    "\n",
    "# Split train-test data\n",
    "from sklearn.model_selection import train_test_split\n",
    "\n",
    "X_train_12, X_test_12, y_train_12, y_test_12 = train_test_split(X, y, random_state=0) # default 75-25 split\n",
    "X_train_12.shape\n",
    "X_test_12.shape"
   ]
  },
  {
   "cell_type": "markdown",
   "id": "99e2218b-4ef4-40a2-8388-0e38a20ae8c2",
   "metadata": {},
   "source": [
    "## Generate result and store in dict\n",
    "* Set weight to prevent bias, 4 to CKD (1), 1 to non-CKD (0)\n",
    "* Implement GridSearchCV to find the best parameters"
   ]
  },
  {
   "cell_type": "code",
   "execution_count": 92,
   "id": "f1e7dde4-022b-453a-a1b0-8b5b046ec0f0",
   "metadata": {},
   "outputs": [
    {
     "data": {
      "text/plain": [
       "ColumnTransformer(transformers=[('num', StandardScaler(),\n",
       "                                 ['sbp', 'dbp', 'creatinine', 'glucose', 'ldl',\n",
       "                                  'hgb', 'atenolol', 'atorvastatin',\n",
       "                                  'bisoprolol', 'canagliflozin', 'carvedilol',\n",
       "                                  'dapagliflozin', 'irbesartan', 'labetalol',\n",
       "                                  'losartan', 'lovastatin', 'metformin',\n",
       "                                  'metoprolol', 'nebivolol', 'olmesartan',\n",
       "                                  'pitavastatin', 'pravastatin', 'propranolol',\n",
       "                                  'rosuvastatin', 'simvastatin', 'telmisartan',\n",
       "                                  'valsartan', 'age']),\n",
       "                                ('cat', OneHotEncoder(handle_unknown='ignore'),\n",
       "                                 ['race', 'gender'])])"
      ]
     },
     "execution_count": 92,
     "metadata": {},
     "output_type": "execute_result"
    }
   ],
   "source": [
    "cltf.fit(X_train_12)"
   ]
  },
  {
   "cell_type": "code",
   "execution_count": 93,
   "id": "6b6efc23-a28c-4678-bf2e-9f47dc4e6429",
   "metadata": {},
   "outputs": [],
   "source": [
    "from sklearn.pipeline import Pipeline\n",
    "from sklearn.model_selection import GridSearchCV\n",
    "from sklearn.metrics import classification_report\n",
    "from sklearn.metrics import *\n",
    "\n",
    "preds_12 = {\n",
    "    'y': y_test_12\n",
    "}\n",
    "\n",
    "def train_model_12(model, parameters, algoname):\n",
    "    scores = ['f1']\n",
    "    \n",
    "    # retain for loop in case want to try different scores\n",
    "    for score in scores:\n",
    "\n",
    "        print(\"# Tuning hyper-parameters for %s\" % score)\n",
    "        print()\n",
    "\n",
    "        pipe = Pipeline(steps=[('preprocessor', cltf),\n",
    "                          ('model', model)])\n",
    "\n",
    "        search = GridSearchCV(pipe, parameters, n_jobs=-1)\n",
    "        search.fit(X_train_12, y_train_12)\n",
    "        \n",
    "        print(\"Best parameter (CV score=%0.3f):\" % search.best_score_)\n",
    "        print()\n",
    "        print(\"Best parameters set found on development set:\")\n",
    "        print()\n",
    "        print(search.best_params_)\n",
    "        print()\n",
    "        print(\"Grid scores on development set:\")\n",
    "        print()\n",
    "        means = search.cv_results_['mean_test_score']\n",
    "        stds = search.cv_results_['std_test_score']\n",
    "        for mean, std, params in zip(means, stds, search.cv_results_['params']):\n",
    "            print(\"%0.3f (+/-%0.03f) for %r\"\n",
    "                  % (mean, std * 2, params))\n",
    "       \n",
    "        # Obtained best model\n",
    "        optimized_model = search.best_estimator_\n",
    "        \n",
    "        joblib.dump(optimized_model, 'models/12m/'+ algoname +'.joblib')\n",
    "        \n",
    "        # Get predictions\n",
    "        y_pred = optimized_model.predict(X_test_12)\n",
    "        y_pred_proba = optimized_model.predict_proba(X_test_12)[:,1] # only get probability for 1\n",
    "        \n",
    "        preds_12[algoname] = {\n",
    "        'pred': y_pred,\n",
    "        'pred_proba': y_pred_proba\n",
    "    }        \n",
    "    \n"
   ]
  },
  {
   "cell_type": "code",
   "execution_count": 100,
   "id": "3eaab6d5-d36f-4f04-ac22-e42e01d41138",
   "metadata": {},
   "outputs": [
    {
     "name": "stdout",
     "output_type": "stream",
     "text": [
      "# Tuning hyper-parameters for f1\n",
      "\n",
      "Best parameter (CV score=0.525):\n",
      "\n",
      "Best parameters set found on development set:\n",
      "\n",
      "{'model__C': 100}\n",
      "\n",
      "Grid scores on development set:\n",
      "\n",
      "0.355 (+/-0.015) for {'model__C': 1e-05}\n",
      "0.355 (+/-0.015) for {'model__C': 0.0001}\n",
      "0.355 (+/-0.015) for {'model__C': 0.001}\n",
      "0.368 (+/-0.034) for {'model__C': 0.01}\n",
      "0.488 (+/-0.120) for {'model__C': 0.1}\n",
      "0.516 (+/-0.115) for {'model__C': 1}\n",
      "0.520 (+/-0.127) for {'model__C': 10}\n",
      "0.525 (+/-0.121) for {'model__C': 100}\n",
      "0.525 (+/-0.121) for {'model__C': 1000}\n",
      "0.525 (+/-0.121) for {'model__C': 10000.0}\n",
      "0.525 (+/-0.121) for {'model__C': 100000.0}\n",
      "0.525 (+/-0.121) for {'model__C': 1000000.0}\n"
     ]
    }
   ],
   "source": [
    " # Logistic regression\n",
    "from sklearn.linear_model import LogisticRegression\n",
    "    \n",
    "model = LogisticRegression(random_state=0, max_iter=10000, class_weight={0: 1, 1: 4})\n",
    "parameters = {\n",
    "'model__C': [1e-05, 1e-04, 1e-03, 1e-02, 1e-01, 1, 10, 100,1000, 1e4, 1e5, 1e6]\n",
    "}\n",
    "\n",
    "train_model_12(model, parameters, 'LogisticRegression')"
   ]
  },
  {
   "cell_type": "code",
   "execution_count": 102,
   "id": "eae25ade-0308-4de1-be18-be8e7e0e67f3",
   "metadata": {},
   "outputs": [
    {
     "name": "stdout",
     "output_type": "stream",
     "text": [
      "# Tuning hyper-parameters for f1\n",
      "\n",
      "Best parameter (CV score=0.502):\n",
      "\n",
      "Best parameters set found on development set:\n",
      "\n",
      "{'model__max_depth': 10.0}\n",
      "\n",
      "Grid scores on development set:\n",
      "\n",
      "0.502 (+/-0.126) for {'model__max_depth': 10.0}\n",
      "0.502 (+/-0.126) for {'model__max_depth': 20.0}\n",
      "0.502 (+/-0.126) for {'model__max_depth': 30.0}\n",
      "0.502 (+/-0.126) for {'model__max_depth': 40.0}\n",
      "0.502 (+/-0.126) for {'model__max_depth': 50.0}\n",
      "0.502 (+/-0.126) for {'model__max_depth': 60.0}\n",
      "0.502 (+/-0.126) for {'model__max_depth': 70.0}\n",
      "0.502 (+/-0.126) for {'model__max_depth': 80.0}\n",
      "0.502 (+/-0.126) for {'model__max_depth': 90.0}\n",
      "0.502 (+/-0.126) for {'model__max_depth': 100.0}\n"
     ]
    }
   ],
   "source": [
    "# Decision tree\n",
    "from sklearn.tree import DecisionTreeClassifier\n",
    "model = DecisionTreeClassifier(random_state=0, class_weight={0: 1, 1: 4}, min_samples_leaf = 30)\n",
    "    \n",
    "param_grid = {\n",
    "'model__max_depth': np.linspace(10, 100, 10)\n",
    "}\n",
    "\n",
    "train_model_12(model, param_grid, 'DecisionTreeClassifier')\n"
   ]
  },
  {
   "cell_type": "code",
   "execution_count": 103,
   "id": "ea4fd44e-61be-466e-b8cd-3c6cb5d06dee",
   "metadata": {},
   "outputs": [
    {
     "name": "stdout",
     "output_type": "stream",
     "text": [
      "# Tuning hyper-parameters for f1\n",
      "\n",
      "Best parameter (CV score=0.645):\n",
      "\n",
      "Best parameters set found on development set:\n",
      "\n",
      "{'model__learning_rate': 1e-05}\n",
      "\n",
      "Grid scores on development set:\n",
      "\n",
      "0.645 (+/-0.015) for {'model__learning_rate': 1e-05}\n",
      "0.645 (+/-0.015) for {'model__learning_rate': 0.0001}\n",
      "0.576 (+/-0.093) for {'model__learning_rate': 0.001}\n",
      "0.566 (+/-0.133) for {'model__learning_rate': 0.01}\n",
      "0.580 (+/-0.120) for {'model__learning_rate': 0.1}\n",
      "0.617 (+/-0.080) for {'model__learning_rate': 1}\n",
      "0.550 (+/-0.306) for {'model__learning_rate': 10}\n",
      "0.497 (+/-0.140) for {'model__learning_rate': 100}\n"
     ]
    }
   ],
   "source": [
    "# lightGBM\n",
    "\n",
    "from lightgbm import LGBMClassifier\n",
    "\n",
    "model = LGBMClassifier(n_estimators=1000, objective='binary',scale_pos_weight=4)\n",
    "\n",
    "param_grid = {\n",
    "'model__learning_rate': [1e-05, 1e-04, 1e-03, 1e-02, 1e-01, 1, 10, 100]\n",
    "\n",
    "}\n",
    "\n",
    "train_model_12(model, param_grid, 'LGBMClassifier')"
   ]
  },
  {
   "cell_type": "code",
   "execution_count": 104,
   "id": "c765a7d9-8192-49c2-968e-87a6c0054a25",
   "metadata": {},
   "outputs": [
    {
     "name": "stdout",
     "output_type": "stream",
     "text": [
      "# Tuning hyper-parameters for f1\n",
      "\n"
     ]
    },
    {
     "name": "stderr",
     "output_type": "stream",
     "text": [
      "[Parallel(n_jobs=-1)]: Using backend ThreadingBackend with 4 concurrent workers.\n",
      "[Parallel(n_jobs=-1)]: Done  42 tasks      | elapsed:    0.0s\n",
      "[Parallel(n_jobs=-1)]: Done 192 tasks      | elapsed:    0.1s\n",
      "[Parallel(n_jobs=-1)]: Done 442 tasks      | elapsed:    0.3s\n",
      "[Parallel(n_jobs=-1)]: Done 792 tasks      | elapsed:    0.7s\n",
      "[Parallel(n_jobs=-1)]: Done 800 out of 800 | elapsed:    0.7s finished\n"
     ]
    },
    {
     "name": "stdout",
     "output_type": "stream",
     "text": [
      "Best parameter (CV score=0.576):\n",
      "\n",
      "Best parameters set found on development set:\n",
      "\n",
      "{'model__max_depth': 29}\n",
      "\n",
      "Grid scores on development set:\n",
      "\n",
      "0.355 (+/-0.015) for {'model__max_depth': 1}\n",
      "0.364 (+/-0.029) for {'model__max_depth': 2}\n",
      "0.397 (+/-0.042) for {'model__max_depth': 3}\n",
      "0.497 (+/-0.139) for {'model__max_depth': 4}\n",
      "0.521 (+/-0.070) for {'model__max_depth': 5}\n",
      "0.544 (+/-0.101) for {'model__max_depth': 6}\n",
      "0.562 (+/-0.157) for {'model__max_depth': 7}\n",
      "0.557 (+/-0.106) for {'model__max_depth': 8}\n",
      "0.543 (+/-0.149) for {'model__max_depth': 9}\n",
      "0.544 (+/-0.119) for {'model__max_depth': 10}\n",
      "0.544 (+/-0.113) for {'model__max_depth': 11}\n",
      "0.553 (+/-0.096) for {'model__max_depth': 12}\n",
      "0.553 (+/-0.089) for {'model__max_depth': 13}\n",
      "0.562 (+/-0.079) for {'model__max_depth': 14}\n",
      "0.567 (+/-0.075) for {'model__max_depth': 15}\n",
      "0.558 (+/-0.075) for {'model__max_depth': 16}\n",
      "0.553 (+/-0.047) for {'model__max_depth': 17}\n",
      "0.562 (+/-0.079) for {'model__max_depth': 18}\n",
      "0.567 (+/-0.080) for {'model__max_depth': 19}\n",
      "0.571 (+/-0.075) for {'model__max_depth': 20}\n",
      "0.557 (+/-0.082) for {'model__max_depth': 21}\n",
      "0.571 (+/-0.060) for {'model__max_depth': 22}\n",
      "0.558 (+/-0.062) for {'model__max_depth': 23}\n",
      "0.576 (+/-0.065) for {'model__max_depth': 24}\n",
      "0.562 (+/-0.058) for {'model__max_depth': 25}\n",
      "0.571 (+/-0.048) for {'model__max_depth': 26}\n",
      "0.553 (+/-0.055) for {'model__max_depth': 27}\n",
      "0.567 (+/-0.080) for {'model__max_depth': 28}\n",
      "0.576 (+/-0.080) for {'model__max_depth': 29}\n",
      "0.567 (+/-0.056) for {'model__max_depth': 30}\n"
     ]
    },
    {
     "name": "stderr",
     "output_type": "stream",
     "text": [
      "[Parallel(n_jobs=4)]: Using backend ThreadingBackend with 4 concurrent workers.\n",
      "[Parallel(n_jobs=4)]: Done  42 tasks      | elapsed:    0.0s\n",
      "[Parallel(n_jobs=4)]: Done 192 tasks      | elapsed:    0.0s\n",
      "[Parallel(n_jobs=4)]: Done 442 tasks      | elapsed:    0.0s\n",
      "[Parallel(n_jobs=4)]: Done 792 tasks      | elapsed:    0.0s\n",
      "[Parallel(n_jobs=4)]: Done 800 out of 800 | elapsed:    0.0s finished\n",
      "[Parallel(n_jobs=4)]: Using backend ThreadingBackend with 4 concurrent workers.\n",
      "[Parallel(n_jobs=4)]: Done  42 tasks      | elapsed:    0.0s\n",
      "[Parallel(n_jobs=4)]: Done 192 tasks      | elapsed:    0.0s\n",
      "[Parallel(n_jobs=4)]: Done 442 tasks      | elapsed:    0.0s\n",
      "[Parallel(n_jobs=4)]: Done 792 tasks      | elapsed:    0.0s\n",
      "[Parallel(n_jobs=4)]: Done 800 out of 800 | elapsed:    0.0s finished\n"
     ]
    }
   ],
   "source": [
    "# Random forest\n",
    "from sklearn.ensemble import RandomForestClassifier\n",
    "\n",
    "model = RandomForestClassifier(class_weight={0: 1, 1: 4}, n_estimators=800, n_jobs=-1, verbose=1)\n",
    "\n",
    "param_grid = {\n",
    "'model__max_depth': list(range(1,31))\n",
    "\n",
    "}\n",
    "\n",
    "train_model_12(model, param_grid, 'RandomForestClassifier')"
   ]
  },
  {
   "cell_type": "code",
   "execution_count": 105,
   "id": "15e7e0c2-af3a-4bc6-a750-2544d69dc260",
   "metadata": {},
   "outputs": [
    {
     "data": {
      "text/plain": [
       "['predictions/predictions_12m.joblib']"
      ]
     },
     "execution_count": 105,
     "metadata": {},
     "output_type": "execute_result"
    }
   ],
   "source": [
    "joblib.dump(preds_12, 'predictions/predictions_12m.joblib')"
   ]
  },
  {
   "cell_type": "markdown",
   "id": "f30a3e26-9302-41b8-bcd4-2ce5d367dccc",
   "metadata": {},
   "source": [
    "## 18 months"
   ]
  },
  {
   "cell_type": "code",
   "execution_count": 36,
   "id": "b479d99e-cde0-44de-8f86-341b740a8438",
   "metadata": {},
   "outputs": [
    {
     "data": {
      "text/plain": [
       "297"
      ]
     },
     "execution_count": 36,
     "metadata": {},
     "output_type": "execute_result"
    }
   ],
   "source": [
    "df_18 = df_daybin[df_daybin['days_bin']==3]\n",
    "# Check if all 300 subjects are included\n",
    "len(df_18['id'].unique())"
   ]
  },
  {
   "cell_type": "code",
   "execution_count": 37,
   "id": "3107a81a-a9ac-43ed-8cf4-2e5ab284a5fd",
   "metadata": {},
   "outputs": [
    {
     "name": "stdout",
     "output_type": "stream",
     "text": [
      "<class 'pandas.core.frame.DataFrame'>\n",
      "Int64Index: 297 entries, 2 to 1851\n",
      "Data columns (total 29 columns):\n",
      " #   Column         Non-Null Count  Dtype  \n",
      "---  ------         --------------  -----  \n",
      " 0   id             297 non-null    int64  \n",
      " 1   months_bin     297 non-null    int64  \n",
      " 2   sbp            279 non-null    float64\n",
      " 3   dbp            279 non-null    float64\n",
      " 4   creatinine     268 non-null    float64\n",
      " 5   glucose        261 non-null    float64\n",
      " 6   ldl            245 non-null    float64\n",
      " 7   hgb            210 non-null    float64\n",
      " 8   atenolol       224 non-null    float64\n",
      " 9   atorvastatin   224 non-null    float64\n",
      " 10  bisoprolol     224 non-null    float64\n",
      " 11  canagliflozin  224 non-null    float64\n",
      " 12  carvedilol     224 non-null    float64\n",
      " 13  dapagliflozin  224 non-null    float64\n",
      " 14  irbesartan     224 non-null    float64\n",
      " 15  labetalol      224 non-null    float64\n",
      " 16  losartan       224 non-null    float64\n",
      " 17  lovastatin     224 non-null    float64\n",
      " 18  metformin      224 non-null    float64\n",
      " 19  metoprolol     224 non-null    float64\n",
      " 20  nebivolol      224 non-null    float64\n",
      " 21  olmesartan     224 non-null    float64\n",
      " 22  pitavastatin   224 non-null    float64\n",
      " 23  pravastatin    224 non-null    float64\n",
      " 24  propranolol    224 non-null    float64\n",
      " 25  rosuvastatin   224 non-null    float64\n",
      " 26  simvastatin    224 non-null    float64\n",
      " 27  telmisartan    224 non-null    float64\n",
      " 28  valsartan      224 non-null    float64\n",
      "dtypes: float64(27), int64(2)\n",
      "memory usage: 69.6 KB\n"
     ]
    }
   ],
   "source": [
    "# Check missing value\n",
    "df_18.info()"
   ]
  },
  {
   "cell_type": "code",
   "execution_count": 38,
   "id": "f53c934c-32c9-44af-ab9e-3d2e8f28d3b9",
   "metadata": {},
   "outputs": [
    {
     "data": {
      "text/html": [
       "<div>\n",
       "<style scoped>\n",
       "    .dataframe tbody tr th:only-of-type {\n",
       "        vertical-align: middle;\n",
       "    }\n",
       "\n",
       "    .dataframe tbody tr th {\n",
       "        vertical-align: top;\n",
       "    }\n",
       "\n",
       "    .dataframe thead th {\n",
       "        text-align: right;\n",
       "    }\n",
       "</style>\n",
       "<table border=\"1\" class=\"dataframe\">\n",
       "  <thead>\n",
       "    <tr style=\"text-align: right;\">\n",
       "      <th></th>\n",
       "      <th>sbp</th>\n",
       "      <th>dbp</th>\n",
       "      <th>creatinine</th>\n",
       "      <th>glucose</th>\n",
       "      <th>ldl</th>\n",
       "      <th>hgb</th>\n",
       "    </tr>\n",
       "  </thead>\n",
       "  <tbody>\n",
       "    <tr>\n",
       "      <th>count</th>\n",
       "      <td>279.000000</td>\n",
       "      <td>279.000000</td>\n",
       "      <td>268.000000</td>\n",
       "      <td>261.000000</td>\n",
       "      <td>245.000000</td>\n",
       "      <td>210.000000</td>\n",
       "    </tr>\n",
       "    <tr>\n",
       "      <th>mean</th>\n",
       "      <td>134.520735</td>\n",
       "      <td>79.239946</td>\n",
       "      <td>1.340299</td>\n",
       "      <td>6.662318</td>\n",
       "      <td>84.966163</td>\n",
       "      <td>13.920810</td>\n",
       "    </tr>\n",
       "    <tr>\n",
       "      <th>std</th>\n",
       "      <td>14.253388</td>\n",
       "      <td>9.744336</td>\n",
       "      <td>0.348958</td>\n",
       "      <td>1.391457</td>\n",
       "      <td>27.646826</td>\n",
       "      <td>1.683635</td>\n",
       "    </tr>\n",
       "    <tr>\n",
       "      <th>min</th>\n",
       "      <td>94.650000</td>\n",
       "      <td>53.700000</td>\n",
       "      <td>0.600000</td>\n",
       "      <td>3.850000</td>\n",
       "      <td>29.610000</td>\n",
       "      <td>9.140000</td>\n",
       "    </tr>\n",
       "    <tr>\n",
       "      <th>25%</th>\n",
       "      <td>125.755000</td>\n",
       "      <td>72.380000</td>\n",
       "      <td>1.120000</td>\n",
       "      <td>5.660000</td>\n",
       "      <td>64.320000</td>\n",
       "      <td>12.802500</td>\n",
       "    </tr>\n",
       "    <tr>\n",
       "      <th>50%</th>\n",
       "      <td>133.145000</td>\n",
       "      <td>78.670000</td>\n",
       "      <td>1.300000</td>\n",
       "      <td>6.340000</td>\n",
       "      <td>81.780000</td>\n",
       "      <td>13.995000</td>\n",
       "    </tr>\n",
       "    <tr>\n",
       "      <th>75%</th>\n",
       "      <td>142.345000</td>\n",
       "      <td>85.652500</td>\n",
       "      <td>1.530000</td>\n",
       "      <td>7.600000</td>\n",
       "      <td>103.380000</td>\n",
       "      <td>15.075000</td>\n",
       "    </tr>\n",
       "    <tr>\n",
       "      <th>max</th>\n",
       "      <td>193.630000</td>\n",
       "      <td>103.700000</td>\n",
       "      <td>3.020000</td>\n",
       "      <td>12.550000</td>\n",
       "      <td>198.460000</td>\n",
       "      <td>17.860000</td>\n",
       "    </tr>\n",
       "  </tbody>\n",
       "</table>\n",
       "</div>"
      ],
      "text/plain": [
       "              sbp         dbp  creatinine     glucose         ldl         hgb\n",
       "count  279.000000  279.000000  268.000000  261.000000  245.000000  210.000000\n",
       "mean   134.520735   79.239946    1.340299    6.662318   84.966163   13.920810\n",
       "std     14.253388    9.744336    0.348958    1.391457   27.646826    1.683635\n",
       "min     94.650000   53.700000    0.600000    3.850000   29.610000    9.140000\n",
       "25%    125.755000   72.380000    1.120000    5.660000   64.320000   12.802500\n",
       "50%    133.145000   78.670000    1.300000    6.340000   81.780000   13.995000\n",
       "75%    142.345000   85.652500    1.530000    7.600000  103.380000   15.075000\n",
       "max    193.630000  103.700000    3.020000   12.550000  198.460000   17.860000"
      ]
     },
     "execution_count": 38,
     "metadata": {},
     "output_type": "execute_result"
    }
   ],
   "source": [
    "# Before fixing NA\n",
    "df_18[['sbp', 'dbp', 'creatinine', 'glucose', 'ldl', 'hgb']].describe()"
   ]
  },
  {
   "cell_type": "code",
   "execution_count": 39,
   "id": "86d29cea-f848-4202-94c6-47a25a641a11",
   "metadata": {},
   "outputs": [
    {
     "name": "stdout",
     "output_type": "stream",
     "text": [
      "<class 'pandas.core.frame.DataFrame'>\n",
      "Int64Index: 297 entries, 2 to 1851\n",
      "Data columns (total 29 columns):\n",
      " #   Column         Non-Null Count  Dtype  \n",
      "---  ------         --------------  -----  \n",
      " 0   id             297 non-null    int64  \n",
      " 1   months_bin     297 non-null    int64  \n",
      " 2   sbp            279 non-null    float64\n",
      " 3   dbp            279 non-null    float64\n",
      " 4   creatinine     268 non-null    float64\n",
      " 5   glucose        261 non-null    float64\n",
      " 6   ldl            245 non-null    float64\n",
      " 7   hgb            210 non-null    float64\n",
      " 8   atenolol       297 non-null    float64\n",
      " 9   atorvastatin   297 non-null    float64\n",
      " 10  bisoprolol     297 non-null    float64\n",
      " 11  canagliflozin  297 non-null    float64\n",
      " 12  carvedilol     297 non-null    float64\n",
      " 13  dapagliflozin  297 non-null    float64\n",
      " 14  irbesartan     297 non-null    float64\n",
      " 15  labetalol      297 non-null    float64\n",
      " 16  losartan       297 non-null    float64\n",
      " 17  lovastatin     297 non-null    float64\n",
      " 18  metformin      297 non-null    float64\n",
      " 19  metoprolol     297 non-null    float64\n",
      " 20  nebivolol      297 non-null    float64\n",
      " 21  olmesartan     297 non-null    float64\n",
      " 22  pitavastatin   297 non-null    float64\n",
      " 23  pravastatin    297 non-null    float64\n",
      " 24  propranolol    297 non-null    float64\n",
      " 25  rosuvastatin   297 non-null    float64\n",
      " 26  simvastatin    297 non-null    float64\n",
      " 27  telmisartan    297 non-null    float64\n",
      " 28  valsartan      297 non-null    float64\n",
      "dtypes: float64(27), int64(2)\n",
      "memory usage: 69.6 KB\n"
     ]
    }
   ],
   "source": [
    "# Change NA to 0 for drugs\n",
    "df_18.iloc[:, 8:29] = df_18.iloc[:, 8:29].fillna(0)\n",
    "df_18.info()"
   ]
  },
  {
   "cell_type": "code",
   "execution_count": 40,
   "id": "bbcc485d-08ca-4bc3-a5c9-b62f301dec34",
   "metadata": {},
   "outputs": [
    {
     "data": {
      "text/html": [
       "<div>\n",
       "<style scoped>\n",
       "    .dataframe tbody tr th:only-of-type {\n",
       "        vertical-align: middle;\n",
       "    }\n",
       "\n",
       "    .dataframe tbody tr th {\n",
       "        vertical-align: top;\n",
       "    }\n",
       "\n",
       "    .dataframe thead th {\n",
       "        text-align: right;\n",
       "    }\n",
       "</style>\n",
       "<table border=\"1\" class=\"dataframe\">\n",
       "  <thead>\n",
       "    <tr style=\"text-align: right;\">\n",
       "      <th></th>\n",
       "      <th>sbp</th>\n",
       "      <th>dbp</th>\n",
       "      <th>creatinine</th>\n",
       "      <th>glucose</th>\n",
       "      <th>ldl</th>\n",
       "      <th>hgb</th>\n",
       "    </tr>\n",
       "  </thead>\n",
       "  <tbody>\n",
       "    <tr>\n",
       "      <th>count</th>\n",
       "      <td>297.000000</td>\n",
       "      <td>297.000000</td>\n",
       "      <td>297.000000</td>\n",
       "      <td>297.000000</td>\n",
       "      <td>297.000000</td>\n",
       "      <td>297.000000</td>\n",
       "    </tr>\n",
       "    <tr>\n",
       "      <th>mean</th>\n",
       "      <td>134.568199</td>\n",
       "      <td>79.188249</td>\n",
       "      <td>1.332938</td>\n",
       "      <td>6.643215</td>\n",
       "      <td>85.037492</td>\n",
       "      <td>13.905269</td>\n",
       "    </tr>\n",
       "    <tr>\n",
       "      <th>std</th>\n",
       "      <td>14.080432</td>\n",
       "      <td>9.596488</td>\n",
       "      <td>0.339321</td>\n",
       "      <td>1.347514</td>\n",
       "      <td>26.686342</td>\n",
       "      <td>1.522545</td>\n",
       "    </tr>\n",
       "    <tr>\n",
       "      <th>min</th>\n",
       "      <td>94.650000</td>\n",
       "      <td>53.700000</td>\n",
       "      <td>0.600000</td>\n",
       "      <td>3.850000</td>\n",
       "      <td>29.610000</td>\n",
       "      <td>9.140000</td>\n",
       "    </tr>\n",
       "    <tr>\n",
       "      <th>25%</th>\n",
       "      <td>125.760000</td>\n",
       "      <td>72.540000</td>\n",
       "      <td>1.115000</td>\n",
       "      <td>5.680000</td>\n",
       "      <td>65.440000</td>\n",
       "      <td>13.035000</td>\n",
       "    </tr>\n",
       "    <tr>\n",
       "      <th>50%</th>\n",
       "      <td>133.390000</td>\n",
       "      <td>78.670000</td>\n",
       "      <td>1.300000</td>\n",
       "      <td>6.335000</td>\n",
       "      <td>81.590000</td>\n",
       "      <td>13.830000</td>\n",
       "    </tr>\n",
       "    <tr>\n",
       "      <th>75%</th>\n",
       "      <td>142.190000</td>\n",
       "      <td>85.535000</td>\n",
       "      <td>1.515000</td>\n",
       "      <td>7.410000</td>\n",
       "      <td>101.265000</td>\n",
       "      <td>14.860000</td>\n",
       "    </tr>\n",
       "    <tr>\n",
       "      <th>max</th>\n",
       "      <td>193.630000</td>\n",
       "      <td>103.700000</td>\n",
       "      <td>3.020000</td>\n",
       "      <td>12.550000</td>\n",
       "      <td>198.460000</td>\n",
       "      <td>17.860000</td>\n",
       "    </tr>\n",
       "  </tbody>\n",
       "</table>\n",
       "</div>"
      ],
      "text/plain": [
       "              sbp         dbp  creatinine     glucose         ldl         hgb\n",
       "count  297.000000  297.000000  297.000000  297.000000  297.000000  297.000000\n",
       "mean   134.568199   79.188249    1.332938    6.643215   85.037492   13.905269\n",
       "std     14.080432    9.596488    0.339321    1.347514   26.686342    1.522545\n",
       "min     94.650000   53.700000    0.600000    3.850000   29.610000    9.140000\n",
       "25%    125.760000   72.540000    1.115000    5.680000   65.440000   13.035000\n",
       "50%    133.390000   78.670000    1.300000    6.335000   81.590000   13.830000\n",
       "75%    142.190000   85.535000    1.515000    7.410000  101.265000   14.860000\n",
       "max    193.630000  103.700000    3.020000   12.550000  198.460000   17.860000"
      ]
     },
     "execution_count": 40,
     "metadata": {},
     "output_type": "execute_result"
    },
    {
     "data": {
      "text/plain": [
       "Index(['sbp', 'dbp', 'creatinine', 'glucose', 'ldl', 'hgb', 'atenolol',\n",
       "       'atorvastatin', 'bisoprolol', 'canagliflozin', 'carvedilol',\n",
       "       'dapagliflozin', 'irbesartan', 'labetalol', 'losartan', 'lovastatin',\n",
       "       'metformin', 'metoprolol', 'nebivolol', 'olmesartan', 'pitavastatin',\n",
       "       'pravastatin', 'propranolol', 'rosuvastatin', 'simvastatin',\n",
       "       'telmisartan', 'valsartan', 'race', 'gender', 'age', 'Stage_Progress'],\n",
       "      dtype='object')"
      ]
     },
     "execution_count": 40,
     "metadata": {},
     "output_type": "execute_result"
    },
    {
     "data": {
      "text/plain": [
       "(222, 30)"
      ]
     },
     "execution_count": 40,
     "metadata": {},
     "output_type": "execute_result"
    },
    {
     "data": {
      "text/plain": [
       "(75, 30)"
      ]
     },
     "execution_count": 40,
     "metadata": {},
     "output_type": "execute_result"
    }
   ],
   "source": [
    "# Change NA to 0 for drugs\n",
    "df_18.iloc[:, 8:29] = df_18.iloc[:, 8:29].fillna(0)\n",
    "# df_18.info()\n",
    "\n",
    "# Use KNNImputer to fill other missing values\n",
    "\n",
    "imputer = KNNImputer(n_neighbors=2)\n",
    "\n",
    "# Remove id from imputation\n",
    "df_temp = pd.DataFrame(imputer.fit_transform(df_18.iloc[:,1:]), index = df_18.index, columns = df_18.columns[1:]) \n",
    "df_18 = pd.concat([df_18['id'], df_temp], axis=1)\n",
    "\n",
    "# After fixing NA\n",
    "df_18[['sbp', 'dbp', 'creatinine', 'glucose', 'ldl', 'hgb']].describe()\n",
    "\n",
    "# Attach demographic and target\n",
    "df_18 = df_18.merge(df_demo, on='id', how='inner')\n",
    "df_18 = df_18.merge(df_stage, on='id', how='inner')\n",
    "\n",
    "# Drop useless columns\n",
    "df_18.drop(['id', 'days_bin'], axis=1, inplace=True)\n",
    "\n",
    "# Check columns included\n",
    "df_18.columns\n",
    "\n",
    "X = df_18[['sbp', 'dbp', 'creatinine', 'glucose', 'ldl', 'hgb',\n",
    "       'atenolol', 'atorvastatin', 'bisoprolol', 'canagliflozin', 'carvedilol',\n",
    "       'dapagliflozin', 'irbesartan', 'labetalol', 'losartan', 'lovastatin',\n",
    "       'metformin', 'metoprolol', 'nebivolol', 'olmesartan', 'pitavastatin',\n",
    "       'pravastatin', 'propranolol', 'rosuvastatin', 'simvastatin',\n",
    "       'telmisartan', 'valsartan', 'race', 'gender', 'age']]\n",
    "\n",
    "y = df_18['Stage_Progress']\n",
    "\n",
    "# Split train-test data\n",
    "from sklearn.model_selection import train_test_split\n",
    "\n",
    "X_train_18, X_test_18, y_train_18, y_test_18 = train_test_split(X, y, random_state=0) # default 75-25 split\n",
    "X_train_18.shape\n",
    "X_test_18.shape"
   ]
  },
  {
   "cell_type": "markdown",
   "id": "690f6259-7813-4222-84cb-baea53fe1864",
   "metadata": {},
   "source": [
    "## Generate result and store in dict\n",
    "* Set weight to prevent bias, 4 to CKD (1), 1 to non-CKD (0)\n",
    "* Implement GridSearchCV to find the best parameters"
   ]
  },
  {
   "cell_type": "code",
   "execution_count": 41,
   "id": "1ddb9ead-18a9-43ff-bbaf-63389f8a76ee",
   "metadata": {},
   "outputs": [
    {
     "data": {
      "text/plain": [
       "ColumnTransformer(transformers=[('num', StandardScaler(),\n",
       "                                 ['sbp', 'dbp', 'creatinine', 'glucose', 'ldl',\n",
       "                                  'hgb', 'atenolol', 'atorvastatin',\n",
       "                                  'bisoprolol', 'canagliflozin', 'carvedilol',\n",
       "                                  'dapagliflozin', 'irbesartan', 'labetalol',\n",
       "                                  'losartan', 'lovastatin', 'metformin',\n",
       "                                  'metoprolol', 'nebivolol', 'olmesartan',\n",
       "                                  'pitavastatin', 'pravastatin', 'propranolol',\n",
       "                                  'rosuvastatin', 'simvastatin', 'telmisartan',\n",
       "                                  'valsartan', 'age']),\n",
       "                                ('cat', OneHotEncoder(handle_unknown='ignore'),\n",
       "                                 ['race', 'gender'])])"
      ]
     },
     "execution_count": 41,
     "metadata": {},
     "output_type": "execute_result"
    }
   ],
   "source": [
    "cltf.fit(X_train_18)"
   ]
  },
  {
   "cell_type": "code",
   "execution_count": 42,
   "id": "489ef68c-8b80-4e3f-9e95-e5d20c7def42",
   "metadata": {},
   "outputs": [],
   "source": [
    "from sklearn.pipeline import Pipeline\n",
    "from sklearn.model_selection import GridSearchCV\n",
    "from sklearn.metrics import classification_report\n",
    "from sklearn.metrics import *\n",
    "\n",
    "preds_18 = {\n",
    "    'y': y_test_18\n",
    "}\n",
    "\n",
    "def train_model_18(model, parameters, algoname):\n",
    "    scores = ['f1']\n",
    "    \n",
    "    # retain for loop in case want to try different scores\n",
    "    for score in scores:\n",
    "\n",
    "        print(\"# Tuning hyper-parameters for %s\" % score)\n",
    "        print()\n",
    "\n",
    "        pipe = Pipeline(steps=[('preprocessor', cltf),\n",
    "                          ('model', model)])\n",
    "\n",
    "        search = GridSearchCV(pipe, parameters, n_jobs=-1)\n",
    "        search.fit(X_train_18, y_train_18)\n",
    "        \n",
    "        print(\"Best parameter (CV score=%0.3f):\" % search.best_score_)\n",
    "        print()\n",
    "        print(\"Best parameters set found on development set:\")\n",
    "        print()\n",
    "        print(search.best_params_)\n",
    "        print()\n",
    "        print(\"Grid scores on development set:\")\n",
    "        print()\n",
    "        means = search.cv_results_['mean_test_score']\n",
    "        stds = search.cv_results_['std_test_score']\n",
    "        for mean, std, params in zip(means, stds, search.cv_results_['params']):\n",
    "            print(\"%0.3f (+/-%0.03f) for %r\"\n",
    "                  % (mean, std * 2, params))\n",
    "       \n",
    "        # Obtained best model\n",
    "        optimized_model = search.best_estimator_\n",
    "        \n",
    "        joblib.dump(optimized_model, 'models/18m/'+ algoname +'.joblib')\n",
    "        \n",
    "        # Get predictions\n",
    "        y_pred = optimized_model.predict(X_test_18)\n",
    "        y_pred_proba = optimized_model.predict_proba(X_test_18)[:,1] # only get probability for 1\n",
    "        \n",
    "        preds_18[algoname] = {\n",
    "        'pred': y_pred,\n",
    "        'pred_proba': y_pred_proba\n",
    "    }        \n",
    "    \n"
   ]
  },
  {
   "cell_type": "code",
   "execution_count": 43,
   "id": "fe8d2641-65a9-4c5d-8985-ac19d78cb873",
   "metadata": {},
   "outputs": [
    {
     "name": "stdout",
     "output_type": "stream",
     "text": [
      "# Tuning hyper-parameters for f1\n",
      "\n",
      "Best parameter (CV score=0.464):\n",
      "\n",
      "Best parameters set found on development set:\n",
      "\n",
      "{'model__C': 1}\n",
      "\n",
      "Grid scores on development set:\n",
      "\n",
      "0.333 (+/-0.017) for {'model__C': 1e-05}\n",
      "0.333 (+/-0.017) for {'model__C': 0.0001}\n",
      "0.333 (+/-0.017) for {'model__C': 0.001}\n",
      "0.365 (+/-0.072) for {'model__C': 0.01}\n",
      "0.464 (+/-0.122) for {'model__C': 0.1}\n",
      "0.464 (+/-0.136) for {'model__C': 1}\n",
      "0.464 (+/-0.115) for {'model__C': 10}\n",
      "0.460 (+/-0.123) for {'model__C': 100}\n",
      "0.460 (+/-0.123) for {'model__C': 1000}\n",
      "0.460 (+/-0.123) for {'model__C': 10000.0}\n",
      "0.460 (+/-0.123) for {'model__C': 100000.0}\n",
      "0.460 (+/-0.123) for {'model__C': 1000000.0}\n",
      "# Tuning hyper-parameters for f1\n",
      "\n",
      "Best parameter (CV score=0.450):\n",
      "\n",
      "Best parameters set found on development set:\n",
      "\n",
      "{'model__max_depth': 10.0}\n",
      "\n",
      "Grid scores on development set:\n",
      "\n",
      "0.450 (+/-0.107) for {'model__max_depth': 10.0}\n",
      "0.450 (+/-0.107) for {'model__max_depth': 20.0}\n",
      "0.450 (+/-0.107) for {'model__max_depth': 30.0}\n",
      "0.450 (+/-0.107) for {'model__max_depth': 40.0}\n",
      "0.450 (+/-0.107) for {'model__max_depth': 50.0}\n",
      "0.450 (+/-0.107) for {'model__max_depth': 60.0}\n",
      "0.450 (+/-0.107) for {'model__max_depth': 70.0}\n",
      "0.450 (+/-0.107) for {'model__max_depth': 80.0}\n",
      "0.450 (+/-0.107) for {'model__max_depth': 90.0}\n",
      "0.450 (+/-0.107) for {'model__max_depth': 100.0}\n",
      "# Tuning hyper-parameters for f1\n",
      "\n",
      "Best parameter (CV score=0.667):\n",
      "\n",
      "Best parameters set found on development set:\n",
      "\n",
      "{'model__learning_rate': 1e-05}\n",
      "\n",
      "Grid scores on development set:\n",
      "\n",
      "0.667 (+/-0.017) for {'model__learning_rate': 1e-05}\n",
      "0.667 (+/-0.017) for {'model__learning_rate': 0.0001}\n",
      "0.576 (+/-0.083) for {'model__learning_rate': 0.001}\n",
      "0.581 (+/-0.127) for {'model__learning_rate': 0.01}\n",
      "0.595 (+/-0.077) for {'model__learning_rate': 0.1}\n",
      "0.622 (+/-0.103) for {'model__learning_rate': 1}\n",
      "0.558 (+/-0.300) for {'model__learning_rate': 10}\n",
      "0.455 (+/-0.211) for {'model__learning_rate': 100}\n",
      "# Tuning hyper-parameters for f1\n",
      "\n"
     ]
    },
    {
     "name": "stderr",
     "output_type": "stream",
     "text": [
      "[Parallel(n_jobs=-1)]: Using backend ThreadingBackend with 4 concurrent workers.\n",
      "[Parallel(n_jobs=-1)]: Done  42 tasks      | elapsed:    0.3s\n",
      "[Parallel(n_jobs=-1)]: Done 192 tasks      | elapsed:    0.4s\n",
      "[Parallel(n_jobs=-1)]: Done 442 tasks      | elapsed:    0.7s\n",
      "[Parallel(n_jobs=-1)]: Done 792 tasks      | elapsed:    1.0s\n",
      "[Parallel(n_jobs=-1)]: Done 800 out of 800 | elapsed:    1.0s finished\n"
     ]
    },
    {
     "name": "stdout",
     "output_type": "stream",
     "text": [
      "Best parameter (CV score=0.680):\n",
      "\n",
      "Best parameters set found on development set:\n",
      "\n",
      "{'model__max_depth': 12}\n",
      "\n",
      "Grid scores on development set:\n",
      "\n",
      "0.329 (+/-0.024) for {'model__max_depth': 1}\n",
      "0.347 (+/-0.014) for {'model__max_depth': 2}\n",
      "0.410 (+/-0.097) for {'model__max_depth': 3}\n",
      "0.478 (+/-0.109) for {'model__max_depth': 4}\n",
      "0.527 (+/-0.097) for {'model__max_depth': 5}\n",
      "0.536 (+/-0.056) for {'model__max_depth': 6}\n",
      "0.563 (+/-0.037) for {'model__max_depth': 7}\n",
      "0.617 (+/-0.113) for {'model__max_depth': 8}\n",
      "0.640 (+/-0.127) for {'model__max_depth': 9}\n",
      "0.644 (+/-0.132) for {'model__max_depth': 10}\n",
      "0.680 (+/-0.110) for {'model__max_depth': 11}\n",
      "0.680 (+/-0.124) for {'model__max_depth': 12}\n",
      "0.671 (+/-0.141) for {'model__max_depth': 13}\n",
      "0.676 (+/-0.131) for {'model__max_depth': 14}\n",
      "0.662 (+/-0.097) for {'model__max_depth': 15}\n",
      "0.676 (+/-0.156) for {'model__max_depth': 16}\n",
      "0.671 (+/-0.115) for {'model__max_depth': 17}\n",
      "0.667 (+/-0.099) for {'model__max_depth': 18}\n",
      "0.662 (+/-0.097) for {'model__max_depth': 19}\n",
      "0.680 (+/-0.148) for {'model__max_depth': 20}\n",
      "0.676 (+/-0.131) for {'model__max_depth': 21}\n",
      "0.662 (+/-0.108) for {'model__max_depth': 22}\n",
      "0.680 (+/-0.148) for {'model__max_depth': 23}\n",
      "0.671 (+/-0.115) for {'model__max_depth': 24}\n",
      "0.676 (+/-0.131) for {'model__max_depth': 25}\n",
      "0.672 (+/-0.155) for {'model__max_depth': 26}\n",
      "0.662 (+/-0.108) for {'model__max_depth': 27}\n",
      "0.667 (+/-0.123) for {'model__max_depth': 28}\n",
      "0.658 (+/-0.119) for {'model__max_depth': 29}\n",
      "0.671 (+/-0.115) for {'model__max_depth': 30}\n"
     ]
    },
    {
     "name": "stderr",
     "output_type": "stream",
     "text": [
      "[Parallel(n_jobs=4)]: Using backend ThreadingBackend with 4 concurrent workers.\n",
      "[Parallel(n_jobs=4)]: Done  42 tasks      | elapsed:    0.0s\n",
      "[Parallel(n_jobs=4)]: Done 192 tasks      | elapsed:    0.0s\n",
      "[Parallel(n_jobs=4)]: Done 442 tasks      | elapsed:    0.0s\n",
      "[Parallel(n_jobs=4)]: Done 792 tasks      | elapsed:    0.0s\n",
      "[Parallel(n_jobs=4)]: Done 800 out of 800 | elapsed:    0.0s finished\n",
      "[Parallel(n_jobs=4)]: Using backend ThreadingBackend with 4 concurrent workers.\n",
      "[Parallel(n_jobs=4)]: Done  42 tasks      | elapsed:    0.1s\n",
      "[Parallel(n_jobs=4)]: Done 192 tasks      | elapsed:    0.1s\n",
      "[Parallel(n_jobs=4)]: Done 442 tasks      | elapsed:    0.1s\n",
      "[Parallel(n_jobs=4)]: Done 792 tasks      | elapsed:    0.2s\n",
      "[Parallel(n_jobs=4)]: Done 800 out of 800 | elapsed:    0.2s finished\n"
     ]
    },
    {
     "data": {
      "text/plain": [
       "['predictions/predictions_18m.joblib']"
      ]
     },
     "execution_count": 43,
     "metadata": {},
     "output_type": "execute_result"
    }
   ],
   "source": [
    " # Logistic regression\n",
    "from sklearn.linear_model import LogisticRegression\n",
    "    \n",
    "model = LogisticRegression(random_state=0, max_iter=10000, class_weight={0: 1, 1: 4})\n",
    "parameters = {\n",
    "'model__C': [1e-05, 1e-04, 1e-03, 1e-02, 1e-01, 1, 10, 100,1000, 1e4, 1e5, 1e6]\n",
    "}\n",
    "\n",
    "train_model_18(model, parameters, 'LogisticRegression')\n",
    "\n",
    "# Decision tree\n",
    "from sklearn.tree import DecisionTreeClassifier\n",
    "model = DecisionTreeClassifier(random_state=0, class_weight={0: 1, 1: 4}, min_samples_leaf = 30)\n",
    "    \n",
    "param_grid = {\n",
    "'model__max_depth': np.linspace(10, 100, 10)\n",
    "}\n",
    "\n",
    "train_model_18(model, param_grid, 'DecisionTreeClassifier')\n",
    "\n",
    "# lightGBM\n",
    "\n",
    "from lightgbm import LGBMClassifier\n",
    "\n",
    "model = LGBMClassifier(n_estimators=1000, objective='binary',scale_pos_weight=4)\n",
    "\n",
    "param_grid = {\n",
    "'model__learning_rate': [1e-05, 1e-04, 1e-03, 1e-02, 1e-01, 1, 10, 100]\n",
    "\n",
    "}\n",
    "\n",
    "train_model_18(model, param_grid, 'LGBMClassifier')\n",
    "\n",
    "# Random forest\n",
    "from sklearn.ensemble import RandomForestClassifier\n",
    "\n",
    "model = RandomForestClassifier(class_weight={0: 1, 1: 4}, n_estimators=800, n_jobs=-1, verbose=1)\n",
    "\n",
    "param_grid = {\n",
    "'model__max_depth': list(range(1,31))\n",
    "\n",
    "}\n",
    "\n",
    "train_model_18(model, param_grid, 'RandomForestClassifier')\n",
    "\n",
    "joblib.dump(preds_18, 'predictions/predictions_18m.joblib')\n"
   ]
  },
  {
   "cell_type": "markdown",
   "id": "64299666-2530-44b8-ab16-281d9f34379d",
   "metadata": {},
   "source": [
    "# 24 months"
   ]
  },
  {
   "cell_type": "code",
   "execution_count": 30,
   "id": "7987aa99-d8a6-4224-abd2-9df9c4f38120",
   "metadata": {},
   "outputs": [
    {
     "data": {
      "text/plain": [
       "292"
      ]
     },
     "execution_count": 30,
     "metadata": {},
     "output_type": "execute_result"
    },
    {
     "name": "stdout",
     "output_type": "stream",
     "text": [
      "<class 'pandas.core.frame.DataFrame'>\n",
      "Int64Index: 292 entries, 3 to 1860\n",
      "Data columns (total 29 columns):\n",
      " #   Column         Non-Null Count  Dtype  \n",
      "---  ------         --------------  -----  \n",
      " 0   id             292 non-null    int64  \n",
      " 1   months_bin     292 non-null    int64  \n",
      " 2   sbp            251 non-null    float64\n",
      " 3   dbp            253 non-null    float64\n",
      " 4   creatinine     227 non-null    float64\n",
      " 5   glucose        223 non-null    float64\n",
      " 6   ldl            216 non-null    float64\n",
      " 7   hgb            193 non-null    float64\n",
      " 8   atenolol       209 non-null    float64\n",
      " 9   atorvastatin   209 non-null    float64\n",
      " 10  bisoprolol     209 non-null    float64\n",
      " 11  canagliflozin  209 non-null    float64\n",
      " 12  carvedilol     209 non-null    float64\n",
      " 13  dapagliflozin  209 non-null    float64\n",
      " 14  irbesartan     209 non-null    float64\n",
      " 15  labetalol      209 non-null    float64\n",
      " 16  losartan       209 non-null    float64\n",
      " 17  lovastatin     209 non-null    float64\n",
      " 18  metformin      209 non-null    float64\n",
      " 19  metoprolol     209 non-null    float64\n",
      " 20  nebivolol      209 non-null    float64\n",
      " 21  olmesartan     209 non-null    float64\n",
      " 22  pitavastatin   209 non-null    float64\n",
      " 23  pravastatin    209 non-null    float64\n",
      " 24  propranolol    209 non-null    float64\n",
      " 25  rosuvastatin   209 non-null    float64\n",
      " 26  simvastatin    209 non-null    float64\n",
      " 27  telmisartan    209 non-null    float64\n",
      " 28  valsartan      209 non-null    float64\n",
      "dtypes: float64(27), int64(2)\n",
      "memory usage: 68.4 KB\n"
     ]
    }
   ],
   "source": [
    "df_24 = df_daybin[df_daybin['days_bin']==4]\n",
    "# Check if all 300 subjects are included\n",
    "len(df_24['id'].unique())\n",
    "df_24.info()"
   ]
  },
  {
   "cell_type": "code",
   "execution_count": 31,
   "id": "e2ba01d8-a0f7-4e24-9bfc-f1ff4d96868e",
   "metadata": {},
   "outputs": [
    {
     "data": {
      "text/html": [
       "<div>\n",
       "<style scoped>\n",
       "    .dataframe tbody tr th:only-of-type {\n",
       "        vertical-align: middle;\n",
       "    }\n",
       "\n",
       "    .dataframe tbody tr th {\n",
       "        vertical-align: top;\n",
       "    }\n",
       "\n",
       "    .dataframe thead th {\n",
       "        text-align: right;\n",
       "    }\n",
       "</style>\n",
       "<table border=\"1\" class=\"dataframe\">\n",
       "  <thead>\n",
       "    <tr style=\"text-align: right;\">\n",
       "      <th></th>\n",
       "      <th>sbp</th>\n",
       "      <th>dbp</th>\n",
       "      <th>creatinine</th>\n",
       "      <th>glucose</th>\n",
       "      <th>ldl</th>\n",
       "      <th>hgb</th>\n",
       "    </tr>\n",
       "  </thead>\n",
       "  <tbody>\n",
       "    <tr>\n",
       "      <th>count</th>\n",
       "      <td>251.000000</td>\n",
       "      <td>253.000000</td>\n",
       "      <td>227.00000</td>\n",
       "      <td>223.000000</td>\n",
       "      <td>216.000000</td>\n",
       "      <td>193.000000</td>\n",
       "    </tr>\n",
       "    <tr>\n",
       "      <th>mean</th>\n",
       "      <td>132.708984</td>\n",
       "      <td>79.400415</td>\n",
       "      <td>1.33359</td>\n",
       "      <td>6.689821</td>\n",
       "      <td>85.089468</td>\n",
       "      <td>13.781943</td>\n",
       "    </tr>\n",
       "    <tr>\n",
       "      <th>std</th>\n",
       "      <td>14.350685</td>\n",
       "      <td>9.464084</td>\n",
       "      <td>0.36704</td>\n",
       "      <td>1.590283</td>\n",
       "      <td>27.612969</td>\n",
       "      <td>1.645939</td>\n",
       "    </tr>\n",
       "    <tr>\n",
       "      <th>min</th>\n",
       "      <td>92.940000</td>\n",
       "      <td>51.990000</td>\n",
       "      <td>0.59000</td>\n",
       "      <td>4.105000</td>\n",
       "      <td>26.590000</td>\n",
       "      <td>9.230000</td>\n",
       "    </tr>\n",
       "    <tr>\n",
       "      <th>25%</th>\n",
       "      <td>123.477500</td>\n",
       "      <td>72.835000</td>\n",
       "      <td>1.06500</td>\n",
       "      <td>5.635000</td>\n",
       "      <td>67.015000</td>\n",
       "      <td>12.570000</td>\n",
       "    </tr>\n",
       "    <tr>\n",
       "      <th>50%</th>\n",
       "      <td>131.920000</td>\n",
       "      <td>79.380000</td>\n",
       "      <td>1.29000</td>\n",
       "      <td>6.350000</td>\n",
       "      <td>80.955000</td>\n",
       "      <td>13.990000</td>\n",
       "    </tr>\n",
       "    <tr>\n",
       "      <th>75%</th>\n",
       "      <td>141.360000</td>\n",
       "      <td>85.870000</td>\n",
       "      <td>1.56000</td>\n",
       "      <td>7.377500</td>\n",
       "      <td>103.062500</td>\n",
       "      <td>14.940000</td>\n",
       "    </tr>\n",
       "    <tr>\n",
       "      <th>max</th>\n",
       "      <td>174.870000</td>\n",
       "      <td>106.070000</td>\n",
       "      <td>2.90000</td>\n",
       "      <td>16.430000</td>\n",
       "      <td>189.130000</td>\n",
       "      <td>17.140000</td>\n",
       "    </tr>\n",
       "  </tbody>\n",
       "</table>\n",
       "</div>"
      ],
      "text/plain": [
       "              sbp         dbp  creatinine     glucose         ldl         hgb\n",
       "count  251.000000  253.000000   227.00000  223.000000  216.000000  193.000000\n",
       "mean   132.708984   79.400415     1.33359    6.689821   85.089468   13.781943\n",
       "std     14.350685    9.464084     0.36704    1.590283   27.612969    1.645939\n",
       "min     92.940000   51.990000     0.59000    4.105000   26.590000    9.230000\n",
       "25%    123.477500   72.835000     1.06500    5.635000   67.015000   12.570000\n",
       "50%    131.920000   79.380000     1.29000    6.350000   80.955000   13.990000\n",
       "75%    141.360000   85.870000     1.56000    7.377500  103.062500   14.940000\n",
       "max    174.870000  106.070000     2.90000   16.430000  189.130000   17.140000"
      ]
     },
     "execution_count": 31,
     "metadata": {},
     "output_type": "execute_result"
    },
    {
     "data": {
      "text/html": [
       "<div>\n",
       "<style scoped>\n",
       "    .dataframe tbody tr th:only-of-type {\n",
       "        vertical-align: middle;\n",
       "    }\n",
       "\n",
       "    .dataframe tbody tr th {\n",
       "        vertical-align: top;\n",
       "    }\n",
       "\n",
       "    .dataframe thead th {\n",
       "        text-align: right;\n",
       "    }\n",
       "</style>\n",
       "<table border=\"1\" class=\"dataframe\">\n",
       "  <thead>\n",
       "    <tr style=\"text-align: right;\">\n",
       "      <th></th>\n",
       "      <th>sbp</th>\n",
       "      <th>dbp</th>\n",
       "      <th>creatinine</th>\n",
       "      <th>glucose</th>\n",
       "      <th>ldl</th>\n",
       "      <th>hgb</th>\n",
       "    </tr>\n",
       "  </thead>\n",
       "  <tbody>\n",
       "    <tr>\n",
       "      <th>count</th>\n",
       "      <td>292.00000</td>\n",
       "      <td>292.000000</td>\n",
       "      <td>292.000000</td>\n",
       "      <td>292.000000</td>\n",
       "      <td>292.000000</td>\n",
       "      <td>292.000000</td>\n",
       "    </tr>\n",
       "    <tr>\n",
       "      <th>mean</th>\n",
       "      <td>132.38131</td>\n",
       "      <td>79.078408</td>\n",
       "      <td>1.330779</td>\n",
       "      <td>6.645265</td>\n",
       "      <td>84.354127</td>\n",
       "      <td>13.895000</td>\n",
       "    </tr>\n",
       "    <tr>\n",
       "      <th>std</th>\n",
       "      <td>13.81814</td>\n",
       "      <td>9.085657</td>\n",
       "      <td>0.338339</td>\n",
       "      <td>1.468096</td>\n",
       "      <td>25.508720</td>\n",
       "      <td>1.458734</td>\n",
       "    </tr>\n",
       "    <tr>\n",
       "      <th>min</th>\n",
       "      <td>92.94000</td>\n",
       "      <td>51.990000</td>\n",
       "      <td>0.590000</td>\n",
       "      <td>4.105000</td>\n",
       "      <td>26.590000</td>\n",
       "      <td>9.230000</td>\n",
       "    </tr>\n",
       "    <tr>\n",
       "      <th>25%</th>\n",
       "      <td>123.32375</td>\n",
       "      <td>72.992500</td>\n",
       "      <td>1.100000</td>\n",
       "      <td>5.693750</td>\n",
       "      <td>67.162500</td>\n",
       "      <td>12.991250</td>\n",
       "    </tr>\n",
       "    <tr>\n",
       "      <th>50%</th>\n",
       "      <td>131.41250</td>\n",
       "      <td>78.653750</td>\n",
       "      <td>1.300000</td>\n",
       "      <td>6.345000</td>\n",
       "      <td>81.315000</td>\n",
       "      <td>14.200000</td>\n",
       "    </tr>\n",
       "    <tr>\n",
       "      <th>75%</th>\n",
       "      <td>141.06500</td>\n",
       "      <td>85.213750</td>\n",
       "      <td>1.532500</td>\n",
       "      <td>7.320000</td>\n",
       "      <td>101.150000</td>\n",
       "      <td>14.812500</td>\n",
       "    </tr>\n",
       "    <tr>\n",
       "      <th>max</th>\n",
       "      <td>174.87000</td>\n",
       "      <td>106.070000</td>\n",
       "      <td>2.900000</td>\n",
       "      <td>16.430000</td>\n",
       "      <td>189.130000</td>\n",
       "      <td>17.140000</td>\n",
       "    </tr>\n",
       "  </tbody>\n",
       "</table>\n",
       "</div>"
      ],
      "text/plain": [
       "             sbp         dbp  creatinine     glucose         ldl         hgb\n",
       "count  292.00000  292.000000  292.000000  292.000000  292.000000  292.000000\n",
       "mean   132.38131   79.078408    1.330779    6.645265   84.354127   13.895000\n",
       "std     13.81814    9.085657    0.338339    1.468096   25.508720    1.458734\n",
       "min     92.94000   51.990000    0.590000    4.105000   26.590000    9.230000\n",
       "25%    123.32375   72.992500    1.100000    5.693750   67.162500   12.991250\n",
       "50%    131.41250   78.653750    1.300000    6.345000   81.315000   14.200000\n",
       "75%    141.06500   85.213750    1.532500    7.320000  101.150000   14.812500\n",
       "max    174.87000  106.070000    2.900000   16.430000  189.130000   17.140000"
      ]
     },
     "execution_count": 31,
     "metadata": {},
     "output_type": "execute_result"
    },
    {
     "data": {
      "text/plain": [
       "Index(['sbp', 'dbp', 'creatinine', 'glucose', 'ldl', 'hgb', 'atenolol',\n",
       "       'atorvastatin', 'bisoprolol', 'canagliflozin', 'carvedilol',\n",
       "       'dapagliflozin', 'irbesartan', 'labetalol', 'losartan', 'lovastatin',\n",
       "       'metformin', 'metoprolol', 'nebivolol', 'olmesartan', 'pitavastatin',\n",
       "       'pravastatin', 'propranolol', 'rosuvastatin', 'simvastatin',\n",
       "       'telmisartan', 'valsartan', 'race', 'gender', 'age', 'Stage_Progress'],\n",
       "      dtype='object')"
      ]
     },
     "execution_count": 31,
     "metadata": {},
     "output_type": "execute_result"
    },
    {
     "data": {
      "text/plain": [
       "(219, 30)"
      ]
     },
     "execution_count": 31,
     "metadata": {},
     "output_type": "execute_result"
    },
    {
     "data": {
      "text/plain": [
       "(73, 30)"
      ]
     },
     "execution_count": 31,
     "metadata": {},
     "output_type": "execute_result"
    }
   ],
   "source": [
    "# Before fixing NA\n",
    "df_24[['sbp', 'dbp', 'creatinine', 'glucose', 'ldl', 'hgb']].describe()\n",
    "\n",
    "# Change NA to 0 for drugs\n",
    "df_24.iloc[:, 8:29] = df_24.iloc[:, 8:29].fillna(0)\n",
    "# df_24.info()\n",
    "\n",
    "# Change NA to 0 for drugs\n",
    "df_24.iloc[:, 8:29] = df_24.iloc[:, 8:29].fillna(0)\n",
    "# df_24.info()\n",
    "\n",
    "# Use KNNImputer to fill other missing values\n",
    "imputer = KNNImputer(n_neighbors=2)\n",
    "\n",
    "# Remove id from imputation\n",
    "df_temp = pd.DataFrame(imputer.fit_transform(df_24.iloc[:,1:]), index = df_24.index, columns = df_24.columns[1:]) \n",
    "df_24 = pd.concat([df_24['id'], df_temp], axis=1)\n",
    "\n",
    "# After fixing NA\n",
    "df_24[['sbp', 'dbp', 'creatinine', 'glucose', 'ldl', 'hgb']].describe()\n",
    "\n",
    "# Attach demographic and target\n",
    "df_24 = df_24.merge(df_demo, on='id', how='inner')\n",
    "df_24 = df_24.merge(df_stage, on='id', how='inner')\n",
    "\n",
    "# Drop useless columns\n",
    "df_24.drop(['id', 'days_bin'], axis=1, inplace=True)\n",
    "\n",
    "# Check columns included\n",
    "df_24.columns\n",
    "\n",
    "X = df_24[['sbp', 'dbp', 'creatinine', 'glucose', 'ldl', 'hgb',\n",
    "       'atenolol', 'atorvastatin', 'bisoprolol', 'canagliflozin', 'carvedilol',\n",
    "       'dapagliflozin', 'irbesartan', 'labetalol', 'losartan', 'lovastatin',\n",
    "       'metformin', 'metoprolol', 'nebivolol', 'olmesartan', 'pitavastatin',\n",
    "       'pravastatin', 'propranolol', 'rosuvastatin', 'simvastatin',\n",
    "       'telmisartan', 'valsartan', 'race', 'gender', 'age']]\n",
    "\n",
    "y = df_24['Stage_Progress']\n",
    "\n",
    "# Split train-test data\n",
    "from sklearn.model_selection import train_test_split\n",
    "\n",
    "X_train_24, X_test_24, y_train_24, y_test_24 = train_test_split(X, y, random_state=0) # default 75-25 split\n",
    "X_train_24.shape\n",
    "X_test_24.shape"
   ]
  },
  {
   "cell_type": "markdown",
   "id": "b392c417-b71b-439a-9bf0-39a533bb5de0",
   "metadata": {},
   "source": [
    "## Generate result and store in dict\n",
    "* Set weight to prevent bias, 4 to CKD (1), 1 to non-CKD (0)\n",
    "* Implement GridSearchCV to find the best parameters"
   ]
  },
  {
   "cell_type": "code",
   "execution_count": 33,
   "id": "4f5782e1-60d1-4a2d-a0aa-50260bda6427",
   "metadata": {},
   "outputs": [
    {
     "data": {
      "text/plain": [
       "ColumnTransformer(transformers=[('num', StandardScaler(),\n",
       "                                 ['sbp', 'dbp', 'creatinine', 'glucose', 'ldl',\n",
       "                                  'hgb', 'atenolol', 'atorvastatin',\n",
       "                                  'bisoprolol', 'canagliflozin', 'carvedilol',\n",
       "                                  'dapagliflozin', 'irbesartan', 'labetalol',\n",
       "                                  'losartan', 'lovastatin', 'metformin',\n",
       "                                  'metoprolol', 'nebivolol', 'olmesartan',\n",
       "                                  'pitavastatin', 'pravastatin', 'propranolol',\n",
       "                                  'rosuvastatin', 'simvastatin', 'telmisartan',\n",
       "                                  'valsartan', 'age']),\n",
       "                                ('cat', OneHotEncoder(handle_unknown='ignore'),\n",
       "                                 ['race', 'gender'])])"
      ]
     },
     "execution_count": 33,
     "metadata": {},
     "output_type": "execute_result"
    },
    {
     "name": "stdout",
     "output_type": "stream",
     "text": [
      "ERROR! Session/line number was not unique in database. History logging moved to new session 386\n"
     ]
    }
   ],
   "source": [
    "cltf.fit(X_train_24)\n",
    "\n",
    "from sklearn.pipeline import Pipeline\n",
    "from sklearn.model_selection import GridSearchCV\n",
    "from sklearn.metrics import classification_report\n",
    "from sklearn.metrics import *\n",
    "\n",
    "preds_24 = {\n",
    "    'y': y_test_24\n",
    "}\n",
    "\n",
    "def train_model_24(model, parameters, algoname):\n",
    "    scores = ['f1']\n",
    "    \n",
    "    # retain for loop in case want to try different scores\n",
    "    for score in scores:\n",
    "\n",
    "        print(\"# Tuning hyper-parameters for %s\" % score)\n",
    "        print()\n",
    "\n",
    "        pipe = Pipeline(steps=[('preprocessor', cltf),\n",
    "                          ('model', model)])\n",
    "\n",
    "        search = GridSearchCV(pipe, parameters, n_jobs=-1)\n",
    "        search.fit(X_train_24, y_train_24)\n",
    "        \n",
    "        print(\"Best parameter (CV score=%0.3f):\" % search.best_score_)\n",
    "        print()\n",
    "        print(\"Best parameters set found on development set:\")\n",
    "        print()\n",
    "        print(search.best_params_)\n",
    "        print()\n",
    "        print(\"Grid scores on development set:\")\n",
    "        print()\n",
    "        means = search.cv_results_['mean_test_score']\n",
    "        stds = search.cv_results_['std_test_score']\n",
    "        for mean, std, params in zip(means, stds, search.cv_results_['params']):\n",
    "            print(\"%0.3f (+/-%0.03f) for %r\"\n",
    "                  % (mean, std * 2, params))\n",
    "       \n",
    "        # Obtained best model\n",
    "        optimized_model = search.best_estimator_\n",
    "        \n",
    "        joblib.dump(optimized_model, 'models/24m/'+ algoname +'.joblib')\n",
    "        \n",
    "        # Get predictions\n",
    "        y_pred = optimized_model.predict(X_test_24)\n",
    "        y_pred_proba = optimized_model.predict_proba(X_test_24)[:,1] # only get probability for 1\n",
    "        \n",
    "        preds_24[algoname] = {\n",
    "        'pred': y_pred,\n",
    "        'pred_proba': y_pred_proba\n",
    "    }        \n",
    "    \n"
   ]
  },
  {
   "cell_type": "code",
   "execution_count": 34,
   "id": "fb3b5f68-51b1-49bf-a171-9dc03fdb4631",
   "metadata": {},
   "outputs": [
    {
     "name": "stdout",
     "output_type": "stream",
     "text": [
      "# Tuning hyper-parameters for f1\n",
      "\n",
      "Best parameter (CV score=0.521):\n",
      "\n",
      "Best parameters set found on development set:\n",
      "\n",
      "{'model__C': 10}\n",
      "\n",
      "Grid scores on development set:\n",
      "\n",
      "0.370 (+/-0.018) for {'model__C': 1e-05}\n",
      "0.370 (+/-0.018) for {'model__C': 0.0001}\n",
      "0.374 (+/-0.020) for {'model__C': 0.001}\n",
      "0.393 (+/-0.059) for {'model__C': 0.01}\n",
      "0.493 (+/-0.109) for {'model__C': 0.1}\n",
      "0.516 (+/-0.079) for {'model__C': 1}\n",
      "0.521 (+/-0.090) for {'model__C': 10}\n",
      "0.512 (+/-0.105) for {'model__C': 100}\n",
      "0.507 (+/-0.093) for {'model__C': 1000}\n",
      "0.507 (+/-0.093) for {'model__C': 10000.0}\n",
      "0.507 (+/-0.093) for {'model__C': 100000.0}\n",
      "0.507 (+/-0.093) for {'model__C': 1000000.0}\n",
      "# Tuning hyper-parameters for f1\n",
      "\n",
      "Best parameter (CV score=0.516):\n",
      "\n",
      "Best parameters set found on development set:\n",
      "\n",
      "{'model__max_depth': 10.0}\n",
      "\n",
      "Grid scores on development set:\n",
      "\n",
      "0.516 (+/-0.149) for {'model__max_depth': 10.0}\n",
      "0.516 (+/-0.149) for {'model__max_depth': 20.0}\n",
      "0.516 (+/-0.149) for {'model__max_depth': 30.0}\n",
      "0.516 (+/-0.149) for {'model__max_depth': 40.0}\n",
      "0.516 (+/-0.149) for {'model__max_depth': 50.0}\n",
      "0.516 (+/-0.149) for {'model__max_depth': 60.0}\n",
      "0.516 (+/-0.149) for {'model__max_depth': 70.0}\n",
      "0.516 (+/-0.149) for {'model__max_depth': 80.0}\n",
      "0.516 (+/-0.149) for {'model__max_depth': 90.0}\n",
      "0.516 (+/-0.149) for {'model__max_depth': 100.0}\n",
      "# Tuning hyper-parameters for f1\n",
      "\n",
      "Best parameter (CV score=0.644):\n",
      "\n",
      "Best parameters set found on development set:\n",
      "\n",
      "{'model__learning_rate': 0.1}\n",
      "\n",
      "Grid scores on development set:\n",
      "\n",
      "0.630 (+/-0.018) for {'model__learning_rate': 1e-05}\n",
      "0.630 (+/-0.018) for {'model__learning_rate': 0.0001}\n",
      "0.608 (+/-0.217) for {'model__learning_rate': 0.001}\n",
      "0.607 (+/-0.073) for {'model__learning_rate': 0.01}\n",
      "0.644 (+/-0.066) for {'model__learning_rate': 0.1}\n",
      "0.630 (+/-0.059) for {'model__learning_rate': 1}\n",
      "0.626 (+/-0.035) for {'model__learning_rate': 10}\n",
      "0.484 (+/-0.167) for {'model__learning_rate': 100}\n",
      "# Tuning hyper-parameters for f1\n",
      "\n"
     ]
    },
    {
     "name": "stderr",
     "output_type": "stream",
     "text": [
      "[Parallel(n_jobs=-1)]: Using backend ThreadingBackend with 4 concurrent workers.\n",
      "[Parallel(n_jobs=-1)]: Done  42 tasks      | elapsed:    0.0s\n",
      "[Parallel(n_jobs=-1)]: Done 192 tasks      | elapsed:    0.1s\n",
      "[Parallel(n_jobs=-1)]: Done 442 tasks      | elapsed:    0.3s\n",
      "[Parallel(n_jobs=-1)]: Done 792 tasks      | elapsed:    0.7s\n",
      "[Parallel(n_jobs=-1)]: Done 800 out of 800 | elapsed:    0.7s finished\n"
     ]
    },
    {
     "name": "stdout",
     "output_type": "stream",
     "text": [
      "Best parameter (CV score=0.703):\n",
      "\n",
      "Best parameters set found on development set:\n",
      "\n",
      "{'model__max_depth': 24}\n",
      "\n",
      "Grid scores on development set:\n",
      "\n",
      "0.370 (+/-0.018) for {'model__max_depth': 1}\n",
      "0.374 (+/-0.035) for {'model__max_depth': 2}\n",
      "0.443 (+/-0.091) for {'model__max_depth': 3}\n",
      "0.498 (+/-0.116) for {'model__max_depth': 4}\n",
      "0.584 (+/-0.122) for {'model__max_depth': 5}\n",
      "0.639 (+/-0.173) for {'model__max_depth': 6}\n",
      "0.648 (+/-0.160) for {'model__max_depth': 7}\n",
      "0.652 (+/-0.167) for {'model__max_depth': 8}\n",
      "0.657 (+/-0.211) for {'model__max_depth': 9}\n",
      "0.666 (+/-0.189) for {'model__max_depth': 10}\n",
      "0.680 (+/-0.199) for {'model__max_depth': 11}\n",
      "0.685 (+/-0.164) for {'model__max_depth': 12}\n",
      "0.698 (+/-0.186) for {'model__max_depth': 13}\n",
      "0.689 (+/-0.167) for {'model__max_depth': 14}\n",
      "0.685 (+/-0.167) for {'model__max_depth': 15}\n",
      "0.685 (+/-0.161) for {'model__max_depth': 16}\n",
      "0.689 (+/-0.159) for {'model__max_depth': 17}\n",
      "0.685 (+/-0.156) for {'model__max_depth': 18}\n",
      "0.689 (+/-0.165) for {'model__max_depth': 19}\n",
      "0.680 (+/-0.168) for {'model__max_depth': 20}\n",
      "0.680 (+/-0.146) for {'model__max_depth': 21}\n",
      "0.694 (+/-0.164) for {'model__max_depth': 22}\n",
      "0.689 (+/-0.151) for {'model__max_depth': 23}\n",
      "0.703 (+/-0.190) for {'model__max_depth': 24}\n",
      "0.694 (+/-0.159) for {'model__max_depth': 25}\n",
      "0.694 (+/-0.163) for {'model__max_depth': 26}\n",
      "0.680 (+/-0.161) for {'model__max_depth': 27}\n",
      "0.685 (+/-0.145) for {'model__max_depth': 28}\n",
      "0.689 (+/-0.182) for {'model__max_depth': 29}\n",
      "0.689 (+/-0.159) for {'model__max_depth': 30}\n"
     ]
    },
    {
     "name": "stderr",
     "output_type": "stream",
     "text": [
      "[Parallel(n_jobs=4)]: Using backend ThreadingBackend with 4 concurrent workers.\n",
      "[Parallel(n_jobs=4)]: Done  42 tasks      | elapsed:    0.0s\n",
      "[Parallel(n_jobs=4)]: Done 192 tasks      | elapsed:    0.0s\n",
      "[Parallel(n_jobs=4)]: Done 442 tasks      | elapsed:    0.0s\n",
      "[Parallel(n_jobs=4)]: Done 792 tasks      | elapsed:    0.0s\n",
      "[Parallel(n_jobs=4)]: Done 800 out of 800 | elapsed:    0.0s finished\n",
      "[Parallel(n_jobs=4)]: Using backend ThreadingBackend with 4 concurrent workers.\n",
      "[Parallel(n_jobs=4)]: Done  42 tasks      | elapsed:    0.0s\n",
      "[Parallel(n_jobs=4)]: Done 192 tasks      | elapsed:    0.0s\n",
      "[Parallel(n_jobs=4)]: Done 442 tasks      | elapsed:    0.0s\n",
      "[Parallel(n_jobs=4)]: Done 792 tasks      | elapsed:    0.0s\n",
      "[Parallel(n_jobs=4)]: Done 800 out of 800 | elapsed:    0.0s finished\n"
     ]
    },
    {
     "data": {
      "text/plain": [
       "['predictions/predictions_24m.joblib']"
      ]
     },
     "execution_count": 34,
     "metadata": {},
     "output_type": "execute_result"
    }
   ],
   "source": [
    " # Logistic regression\n",
    "from sklearn.linear_model import LogisticRegression\n",
    "    \n",
    "model = LogisticRegression(random_state=0, max_iter=10000, class_weight={0: 1, 1: 4})\n",
    "parameters = {\n",
    "'model__C': [1e-05, 1e-04, 1e-03, 1e-02, 1e-01, 1, 10, 100,1000, 1e4, 1e5, 1e6]\n",
    "}\n",
    "\n",
    "train_model_24(model, parameters, 'LogisticRegression')\n",
    "\n",
    "# Decision tree\n",
    "from sklearn.tree import DecisionTreeClassifier\n",
    "model = DecisionTreeClassifier(random_state=0, class_weight={0: 1, 1: 4}, min_samples_leaf = 30)\n",
    "    \n",
    "param_grid = {\n",
    "'model__max_depth': np.linspace(10, 100, 10)\n",
    "}\n",
    "\n",
    "train_model_24(model, param_grid, 'DecisionTreeClassifier')\n",
    "\n",
    "# lightGBM\n",
    "\n",
    "from lightgbm import LGBMClassifier\n",
    "\n",
    "model = LGBMClassifier(n_estimators=1000, objective='binary',scale_pos_weight=4)\n",
    "\n",
    "param_grid = {\n",
    "'model__learning_rate': [1e-05, 1e-04, 1e-03, 1e-02, 1e-01, 1, 10, 100]\n",
    "\n",
    "}\n",
    "\n",
    "train_model_24(model, param_grid, 'LGBMClassifier')\n",
    "\n",
    "# Random forest\n",
    "from sklearn.ensemble import RandomForestClassifier\n",
    "\n",
    "model = RandomForestClassifier(class_weight={0: 1, 1: 4}, n_estimators=800, n_jobs=-1, verbose=1)\n",
    "\n",
    "param_grid = {\n",
    "'model__max_depth': list(range(1,31))\n",
    "\n",
    "}\n",
    "\n",
    "train_model_24(model, param_grid, 'RandomForestClassifier')\n",
    "\n",
    "joblib.dump(preds_24, 'predictions/predictions_24m.joblib')\n"
   ]
  },
  {
   "cell_type": "markdown",
   "id": "ef9bec31-c580-48d1-810e-c5e96cc6e39a",
   "metadata": {},
   "source": [
    "## Temporal\n",
    "* Split data into physiological measurements and med\n",
    "* Missing values in physiological measurements -> KNNimputer\n",
    "* Missing values in med -> fillna(0)"
   ]
  },
  {
   "cell_type": "code",
   "execution_count": 18,
   "id": "0e9588a1-6131-4d79-9fc6-3e4f613cf764",
   "metadata": {},
   "outputs": [],
   "source": [
    "# Split data\n",
    "df_phy = df_temporal[df_temporal.columns[1:25]]\n",
    "df_med = df_temporal[df_temporal.columns[25:]]\n",
    "\n",
    "# KNNImpute for phy\n",
    "imputer = KNNImputer(n_neighbors=2)\n",
    "\n",
    "# Remove id from imputation\n",
    "df_phy_fixed = pd.DataFrame(imputer.fit_transform(df_phy), index = df_phy.index, columns = df_phy.columns) \n",
    "\n",
    "# Fill 0 for med\n",
    "df_med = df_med.fillna(0)\n",
    "\n",
    "df_temporal_fixed = pd.concat([df_temporal['id'], df_phy_fixed, df_med], axis=1)"
   ]
  },
  {
   "cell_type": "code",
   "execution_count": 19,
   "id": "799896e1-d998-4d3b-b063-62ebdac9cafa",
   "metadata": {},
   "outputs": [
    {
     "name": "stdout",
     "output_type": "stream",
     "text": [
      "Total nan = 0\n"
     ]
    }
   ],
   "source": [
    "print('Total nan = ' + str(df_temporal_fixed.isna().sum().sum()))"
   ]
  },
  {
   "cell_type": "code",
   "execution_count": 20,
   "id": "abebabfc-a670-4bbc-90ba-d00775c20691",
   "metadata": {},
   "outputs": [],
   "source": [
    "# Attach demographic and target\n",
    "df_temporal_fixed = df_temporal_fixed.merge(df_demo, on='id')\n",
    "df_temporal_fixed = df_temporal_fixed.merge(df_stage, on='id')"
   ]
  },
  {
   "cell_type": "code",
   "execution_count": 21,
   "id": "61714aba-6328-4e67-9cde-55003b23a612",
   "metadata": {},
   "outputs": [
    {
     "data": {
      "text/plain": [
       "Index(['sbp_1', 'sbp_2', 'sbp_3', 'sbp_4', 'dbp_1', 'dbp_2', 'dbp_3', 'dbp_4',\n",
       "       'creatinine_1', 'creatinine_2',\n",
       "       ...\n",
       "       'valsartan_3', 'valsartan_4', 'race_x', 'gender_x', 'age_x',\n",
       "       'Stage_Progress_x', 'race_y', 'gender_y', 'age_y', 'Stage_Progress_y'],\n",
       "      dtype='object', length=116)"
      ]
     },
     "execution_count": 21,
     "metadata": {},
     "output_type": "execute_result"
    }
   ],
   "source": [
    "# Drop useless columns\n",
    "df_temporal_fixed.drop(['id'], axis=1, inplace=True)\n",
    "\n",
    "# Check columns included\n",
    "df_temporal_fixed.columns"
   ]
  },
  {
   "cell_type": "code",
   "execution_count": 22,
   "id": "b4891a0c-c356-4e08-9b3e-62c7b852aefc",
   "metadata": {},
   "outputs": [
    {
     "ename": "KeyError",
     "evalue": "'Stage_Progress'",
     "output_type": "error",
     "traceback": [
      "\u001b[1;31m---------------------------------------------------------------------------\u001b[0m",
      "\u001b[1;31mKeyError\u001b[0m                                  Traceback (most recent call last)",
      "\u001b[1;32m~\\anaconda3\\lib\\site-packages\\pandas\\core\\indexes\\base.py\u001b[0m in \u001b[0;36mget_loc\u001b[1;34m(self, key, method, tolerance)\u001b[0m\n\u001b[0;32m   3079\u001b[0m             \u001b[1;32mtry\u001b[0m\u001b[1;33m:\u001b[0m\u001b[1;33m\u001b[0m\u001b[1;33m\u001b[0m\u001b[0m\n\u001b[1;32m-> 3080\u001b[1;33m                 \u001b[1;32mreturn\u001b[0m \u001b[0mself\u001b[0m\u001b[1;33m.\u001b[0m\u001b[0m_engine\u001b[0m\u001b[1;33m.\u001b[0m\u001b[0mget_loc\u001b[0m\u001b[1;33m(\u001b[0m\u001b[0mcasted_key\u001b[0m\u001b[1;33m)\u001b[0m\u001b[1;33m\u001b[0m\u001b[1;33m\u001b[0m\u001b[0m\n\u001b[0m\u001b[0;32m   3081\u001b[0m             \u001b[1;32mexcept\u001b[0m \u001b[0mKeyError\u001b[0m \u001b[1;32mas\u001b[0m \u001b[0merr\u001b[0m\u001b[1;33m:\u001b[0m\u001b[1;33m\u001b[0m\u001b[1;33m\u001b[0m\u001b[0m\n",
      "\u001b[1;32mpandas\\_libs\\index.pyx\u001b[0m in \u001b[0;36mpandas._libs.index.IndexEngine.get_loc\u001b[1;34m()\u001b[0m\n",
      "\u001b[1;32mpandas\\_libs\\index.pyx\u001b[0m in \u001b[0;36mpandas._libs.index.IndexEngine.get_loc\u001b[1;34m()\u001b[0m\n",
      "\u001b[1;32mpandas\\_libs\\hashtable_class_helper.pxi\u001b[0m in \u001b[0;36mpandas._libs.hashtable.PyObjectHashTable.get_item\u001b[1;34m()\u001b[0m\n",
      "\u001b[1;32mpandas\\_libs\\hashtable_class_helper.pxi\u001b[0m in \u001b[0;36mpandas._libs.hashtable.PyObjectHashTable.get_item\u001b[1;34m()\u001b[0m\n",
      "\u001b[1;31mKeyError\u001b[0m: 'Stage_Progress'",
      "\nThe above exception was the direct cause of the following exception:\n",
      "\u001b[1;31mKeyError\u001b[0m                                  Traceback (most recent call last)",
      "\u001b[1;32m<ipython-input-22-941532391d87>\u001b[0m in \u001b[0;36m<module>\u001b[1;34m\u001b[0m\n\u001b[0;32m      1\u001b[0m \u001b[0mX\u001b[0m \u001b[1;33m=\u001b[0m \u001b[0mdf_temporal_fixed\u001b[0m\u001b[1;33m.\u001b[0m\u001b[0miloc\u001b[0m\u001b[1;33m[\u001b[0m\u001b[1;33m:\u001b[0m\u001b[1;33m,\u001b[0m\u001b[1;33m:\u001b[0m\u001b[1;33m-\u001b[0m\u001b[1;36m1\u001b[0m\u001b[1;33m]\u001b[0m\u001b[1;33m\u001b[0m\u001b[1;33m\u001b[0m\u001b[0m\n\u001b[1;32m----> 2\u001b[1;33m \u001b[0my\u001b[0m \u001b[1;33m=\u001b[0m \u001b[0mdf_temporal_fixed\u001b[0m\u001b[1;33m[\u001b[0m\u001b[1;34m'Stage_Progress'\u001b[0m\u001b[1;33m]\u001b[0m\u001b[1;33m\u001b[0m\u001b[1;33m\u001b[0m\u001b[0m\n\u001b[0m\u001b[0;32m      3\u001b[0m \u001b[1;33m\u001b[0m\u001b[0m\n\u001b[0;32m      4\u001b[0m \u001b[1;31m# Split train-test data\u001b[0m\u001b[1;33m\u001b[0m\u001b[1;33m\u001b[0m\u001b[1;33m\u001b[0m\u001b[0m\n\u001b[0;32m      5\u001b[0m \u001b[1;32mfrom\u001b[0m \u001b[0msklearn\u001b[0m\u001b[1;33m.\u001b[0m\u001b[0mmodel_selection\u001b[0m \u001b[1;32mimport\u001b[0m \u001b[0mtrain_test_split\u001b[0m\u001b[1;33m\u001b[0m\u001b[1;33m\u001b[0m\u001b[0m\n",
      "\u001b[1;32m~\\anaconda3\\lib\\site-packages\\pandas\\core\\frame.py\u001b[0m in \u001b[0;36m__getitem__\u001b[1;34m(self, key)\u001b[0m\n\u001b[0;32m   3022\u001b[0m             \u001b[1;32mif\u001b[0m \u001b[0mself\u001b[0m\u001b[1;33m.\u001b[0m\u001b[0mcolumns\u001b[0m\u001b[1;33m.\u001b[0m\u001b[0mnlevels\u001b[0m \u001b[1;33m>\u001b[0m \u001b[1;36m1\u001b[0m\u001b[1;33m:\u001b[0m\u001b[1;33m\u001b[0m\u001b[1;33m\u001b[0m\u001b[0m\n\u001b[0;32m   3023\u001b[0m                 \u001b[1;32mreturn\u001b[0m \u001b[0mself\u001b[0m\u001b[1;33m.\u001b[0m\u001b[0m_getitem_multilevel\u001b[0m\u001b[1;33m(\u001b[0m\u001b[0mkey\u001b[0m\u001b[1;33m)\u001b[0m\u001b[1;33m\u001b[0m\u001b[1;33m\u001b[0m\u001b[0m\n\u001b[1;32m-> 3024\u001b[1;33m             \u001b[0mindexer\u001b[0m \u001b[1;33m=\u001b[0m \u001b[0mself\u001b[0m\u001b[1;33m.\u001b[0m\u001b[0mcolumns\u001b[0m\u001b[1;33m.\u001b[0m\u001b[0mget_loc\u001b[0m\u001b[1;33m(\u001b[0m\u001b[0mkey\u001b[0m\u001b[1;33m)\u001b[0m\u001b[1;33m\u001b[0m\u001b[1;33m\u001b[0m\u001b[0m\n\u001b[0m\u001b[0;32m   3025\u001b[0m             \u001b[1;32mif\u001b[0m \u001b[0mis_integer\u001b[0m\u001b[1;33m(\u001b[0m\u001b[0mindexer\u001b[0m\u001b[1;33m)\u001b[0m\u001b[1;33m:\u001b[0m\u001b[1;33m\u001b[0m\u001b[1;33m\u001b[0m\u001b[0m\n\u001b[0;32m   3026\u001b[0m                 \u001b[0mindexer\u001b[0m \u001b[1;33m=\u001b[0m \u001b[1;33m[\u001b[0m\u001b[0mindexer\u001b[0m\u001b[1;33m]\u001b[0m\u001b[1;33m\u001b[0m\u001b[1;33m\u001b[0m\u001b[0m\n",
      "\u001b[1;32m~\\anaconda3\\lib\\site-packages\\pandas\\core\\indexes\\base.py\u001b[0m in \u001b[0;36mget_loc\u001b[1;34m(self, key, method, tolerance)\u001b[0m\n\u001b[0;32m   3080\u001b[0m                 \u001b[1;32mreturn\u001b[0m \u001b[0mself\u001b[0m\u001b[1;33m.\u001b[0m\u001b[0m_engine\u001b[0m\u001b[1;33m.\u001b[0m\u001b[0mget_loc\u001b[0m\u001b[1;33m(\u001b[0m\u001b[0mcasted_key\u001b[0m\u001b[1;33m)\u001b[0m\u001b[1;33m\u001b[0m\u001b[1;33m\u001b[0m\u001b[0m\n\u001b[0;32m   3081\u001b[0m             \u001b[1;32mexcept\u001b[0m \u001b[0mKeyError\u001b[0m \u001b[1;32mas\u001b[0m \u001b[0merr\u001b[0m\u001b[1;33m:\u001b[0m\u001b[1;33m\u001b[0m\u001b[1;33m\u001b[0m\u001b[0m\n\u001b[1;32m-> 3082\u001b[1;33m                 \u001b[1;32mraise\u001b[0m \u001b[0mKeyError\u001b[0m\u001b[1;33m(\u001b[0m\u001b[0mkey\u001b[0m\u001b[1;33m)\u001b[0m \u001b[1;32mfrom\u001b[0m \u001b[0merr\u001b[0m\u001b[1;33m\u001b[0m\u001b[1;33m\u001b[0m\u001b[0m\n\u001b[0m\u001b[0;32m   3083\u001b[0m \u001b[1;33m\u001b[0m\u001b[0m\n\u001b[0;32m   3084\u001b[0m         \u001b[1;32mif\u001b[0m \u001b[0mtolerance\u001b[0m \u001b[1;32mis\u001b[0m \u001b[1;32mnot\u001b[0m \u001b[1;32mNone\u001b[0m\u001b[1;33m:\u001b[0m\u001b[1;33m\u001b[0m\u001b[1;33m\u001b[0m\u001b[0m\n",
      "\u001b[1;31mKeyError\u001b[0m: 'Stage_Progress'"
     ]
    }
   ],
   "source": [
    "X = df_temporal_fixed.iloc[:,:-1]\n",
    "y = df_temporal_fixed['Stage_Progress']\n",
    "\n",
    "# Split train-test data\n",
    "from sklearn.model_selection import train_test_split\n",
    "\n",
    "X_train_temporal, X_test_temporal, y_train_temporal, y_test_temporal = train_test_split(X, y, random_state=0) # default 75-25 split\n",
    "X_train_temporal.shape\n",
    "X_test_temporal.shape"
   ]
  },
  {
   "cell_type": "markdown",
   "id": "bc952fca-a0ac-4ea4-a9fd-bf9ff289513b",
   "metadata": {},
   "source": [
    "### Preprocess"
   ]
  },
  {
   "cell_type": "code",
   "execution_count": 75,
   "id": "7ece95a7-6a11-4c18-8d0c-b3403bec4af9",
   "metadata": {},
   "outputs": [],
   "source": [
    "from sklearn.compose import ColumnTransformer\n",
    "from sklearn.pipeline import Pipeline\n",
    "from sklearn.preprocessing import OneHotEncoder, StandardScaler\n",
    "from sklearn.impute import KNNImputer\n",
    "\n",
    "# Preprocess data\n",
    "\n",
    "# Select categorical columns\n",
    "categorical_cols = ['race', 'gender']\n",
    "\n",
    "# Select numerical columns\n",
    "numerical_cols = list(df_temporal_fixed.columns[:-4]) + ['age']\n",
    "\n",
    "# Preprocessing for numerical data\n",
    "numerical_transformer = StandardScaler()\n",
    "\n",
    "# Preprocessing for categorical data\n",
    "categorical_transformer = OneHotEncoder(handle_unknown='ignore')\n",
    "\n",
    "# Bundle preprocessing for numerical and categorical data\n",
    "cltf_temporal = ColumnTransformer(\n",
    "    transformers=[\n",
    "        ('num', numerical_transformer, numerical_cols),\n",
    "        ('cat', categorical_transformer, categorical_cols)\n",
    "    ])"
   ]
  },
  {
   "cell_type": "markdown",
   "id": "fa2738b0-d0a5-4141-816b-0a2d67710cd9",
   "metadata": {},
   "source": [
    "## Generate result and store in dict\n",
    "* Set weight to prevent bias, 4 to CKD (1), 1 to non-CKD (0)\n",
    "* Implement GridSearchCV to find the best parameters"
   ]
  },
  {
   "cell_type": "code",
   "execution_count": 79,
   "id": "f2e032d4-0b9d-4ef6-98e6-bdf638837dae",
   "metadata": {},
   "outputs": [
    {
     "data": {
      "text/plain": [
       "ColumnTransformer(transformers=[('num', StandardScaler(),\n",
       "                                 ['sbp_1', 'sbp_2', 'sbp_3', 'sbp_4', 'dbp_1',\n",
       "                                  'dbp_2', 'dbp_3', 'dbp_4', 'creatinine_1',\n",
       "                                  'creatinine_2', 'creatinine_3',\n",
       "                                  'creatinine_4', 'glucose_1', 'glucose_2',\n",
       "                                  'glucose_3', 'glucose_4', 'ldl_1', 'ldl_2',\n",
       "                                  'ldl_3', 'ldl_4', 'hgb_1', 'hgb_2', 'hgb_3',\n",
       "                                  'hgb_4', 'atenolol_1', 'atenolol_2',\n",
       "                                  'atenolol_3', 'atenolol_4', 'atorvastatin_1',\n",
       "                                  'atorvastatin_2', ...]),\n",
       "                                ('cat', OneHotEncoder(handle_unknown='ignore'),\n",
       "                                 ['race', 'gender'])])"
      ]
     },
     "execution_count": 79,
     "metadata": {},
     "output_type": "execute_result"
    }
   ],
   "source": [
    "cltf_temporal.fit(X_train_temporal)\n",
    "\n",
    "from sklearn.pipeline import Pipeline\n",
    "from sklearn.model_selection import GridSearchCV\n",
    "from sklearn.metrics import classification_report\n",
    "from sklearn.metrics import *\n",
    "\n",
    "preds_temporal = {\n",
    "    'y': y_test_temporal\n",
    "}\n",
    "\n",
    "def train_model_temporal(model, parameters, algoname):\n",
    "    scores = ['f1']\n",
    "    \n",
    "    # retain for loop in case want to try different scores\n",
    "    for score in scores:\n",
    "\n",
    "        print(\"# Tuning hyper-parameters for %s\" % score)\n",
    "        print()\n",
    "\n",
    "        pipe = Pipeline(steps=[('preprocessor', cltf_temporal),\n",
    "                          ('model', model)])\n",
    "\n",
    "        search = GridSearchCV(pipe, parameters, n_jobs=-1)\n",
    "        search.fit(X_train_temporal, y_train_temporal)\n",
    "        \n",
    "        print(\"Best parameter (CV score=%0.3f):\" % search.best_score_)\n",
    "        print()\n",
    "        print(\"Best parameters set found on development set:\")\n",
    "        print()\n",
    "        print(search.best_params_)\n",
    "        print()\n",
    "        print(\"Grid scores on development set:\")\n",
    "        print()\n",
    "        means = search.cv_results_['mean_test_score']\n",
    "        stds = search.cv_results_['std_test_score']\n",
    "        for mean, std, params in zip(means, stds, search.cv_results_['params']):\n",
    "            print(\"%0.3f (+/-%0.03f) for %r\"\n",
    "                  % (mean, std * 2, params))\n",
    "       \n",
    "        # Obtained best model\n",
    "        optimized_model = search.best_estimator_\n",
    "        \n",
    "        joblib.dump(optimized_model, 'models/temporal/'+ algoname +'.joblib')\n",
    "        \n",
    "        # Get predictions\n",
    "        y_pred = optimized_model.predict(X_test_temporal)\n",
    "        y_pred_proba = optimized_model.predict_proba(X_test_temporal)[:,1] # only get probability for 1\n",
    "        \n",
    "        preds_temporal[algoname] = {\n",
    "        'pred': y_pred,\n",
    "        'pred_proba': y_pred_proba\n",
    "    }        \n",
    "    \n"
   ]
  },
  {
   "cell_type": "code",
   "execution_count": 80,
   "id": "c5ef0a16-d560-40d6-9a16-b49f93a5211d",
   "metadata": {},
   "outputs": [
    {
     "name": "stdout",
     "output_type": "stream",
     "text": [
      "# Tuning hyper-parameters for f1\n",
      "\n",
      "Best parameter (CV score=0.618):\n",
      "\n",
      "Best parameters set found on development set:\n",
      "\n",
      "{'model__C': 10}\n",
      "\n",
      "Grid scores on development set:\n",
      "\n",
      "0.342 (+/-0.022) for {'model__C': 1e-05}\n",
      "0.342 (+/-0.022) for {'model__C': 0.0001}\n",
      "0.342 (+/-0.022) for {'model__C': 0.001}\n",
      "0.484 (+/-0.099) for {'model__C': 0.01}\n",
      "0.582 (+/-0.059) for {'model__C': 0.1}\n",
      "0.613 (+/-0.082) for {'model__C': 1}\n",
      "0.618 (+/-0.071) for {'model__C': 10}\n",
      "0.582 (+/-0.033) for {'model__C': 100}\n",
      "0.564 (+/-0.045) for {'model__C': 1000}\n",
      "0.578 (+/-0.056) for {'model__C': 10000.0}\n",
      "0.578 (+/-0.056) for {'model__C': 100000.0}\n",
      "0.560 (+/-0.065) for {'model__C': 1000000.0}\n",
      "# Tuning hyper-parameters for f1\n",
      "\n",
      "Best parameter (CV score=0.418):\n",
      "\n",
      "Best parameters set found on development set:\n",
      "\n",
      "{'model__max_depth': 10.0}\n",
      "\n",
      "Grid scores on development set:\n",
      "\n",
      "0.418 (+/-0.059) for {'model__max_depth': 10.0}\n",
      "0.418 (+/-0.059) for {'model__max_depth': 20.0}\n",
      "0.418 (+/-0.059) for {'model__max_depth': 30.0}\n",
      "0.418 (+/-0.059) for {'model__max_depth': 40.0}\n",
      "0.418 (+/-0.059) for {'model__max_depth': 50.0}\n",
      "0.418 (+/-0.059) for {'model__max_depth': 60.0}\n",
      "0.418 (+/-0.059) for {'model__max_depth': 70.0}\n",
      "0.418 (+/-0.059) for {'model__max_depth': 80.0}\n",
      "0.418 (+/-0.059) for {'model__max_depth': 90.0}\n",
      "0.418 (+/-0.059) for {'model__max_depth': 100.0}\n",
      "# Tuning hyper-parameters for f1\n",
      "\n",
      "Best parameter (CV score=0.707):\n",
      "\n",
      "Best parameters set found on development set:\n",
      "\n",
      "{'model__learning_rate': 0.1}\n",
      "\n",
      "Grid scores on development set:\n",
      "\n",
      "0.658 (+/-0.022) for {'model__learning_rate': 1e-05}\n",
      "0.658 (+/-0.022) for {'model__learning_rate': 0.0001}\n",
      "0.551 (+/-0.033) for {'model__learning_rate': 0.001}\n",
      "0.662 (+/-0.103) for {'model__learning_rate': 0.01}\n",
      "0.707 (+/-0.110) for {'model__learning_rate': 0.1}\n",
      "0.693 (+/-0.086) for {'model__learning_rate': 1}\n",
      "0.587 (+/-0.236) for {'model__learning_rate': 10}\n",
      "0.431 (+/-0.060) for {'model__learning_rate': 100}\n",
      "# Tuning hyper-parameters for f1\n",
      "\n"
     ]
    },
    {
     "name": "stderr",
     "output_type": "stream",
     "text": [
      "[Parallel(n_jobs=-1)]: Using backend ThreadingBackend with 4 concurrent workers.\n",
      "[Parallel(n_jobs=-1)]: Done  42 tasks      | elapsed:    0.0s\n",
      "[Parallel(n_jobs=-1)]: Done 192 tasks      | elapsed:    0.1s\n",
      "[Parallel(n_jobs=-1)]: Done 442 tasks      | elapsed:    0.4s\n",
      "[Parallel(n_jobs=-1)]: Done 792 tasks      | elapsed:    0.7s\n",
      "[Parallel(n_jobs=-1)]: Done 800 out of 800 | elapsed:    0.7s finished\n"
     ]
    },
    {
     "name": "stdout",
     "output_type": "stream",
     "text": [
      "Best parameter (CV score=0.658):\n",
      "\n",
      "Best parameters set found on development set:\n",
      "\n",
      "{'model__max_depth': 18}\n",
      "\n",
      "Grid scores on development set:\n",
      "\n",
      "0.342 (+/-0.022) for {'model__max_depth': 1}\n",
      "0.342 (+/-0.022) for {'model__max_depth': 2}\n",
      "0.409 (+/-0.121) for {'model__max_depth': 3}\n",
      "0.493 (+/-0.052) for {'model__max_depth': 4}\n",
      "0.578 (+/-0.109) for {'model__max_depth': 5}\n",
      "0.618 (+/-0.174) for {'model__max_depth': 6}\n",
      "0.640 (+/-0.150) for {'model__max_depth': 7}\n",
      "0.636 (+/-0.067) for {'model__max_depth': 8}\n",
      "0.636 (+/-0.053) for {'model__max_depth': 9}\n",
      "0.644 (+/-0.040) for {'model__max_depth': 10}\n",
      "0.649 (+/-0.033) for {'model__max_depth': 11}\n",
      "0.631 (+/-0.036) for {'model__max_depth': 12}\n",
      "0.653 (+/-0.022) for {'model__max_depth': 13}\n",
      "0.636 (+/-0.022) for {'model__max_depth': 14}\n",
      "0.653 (+/-0.022) for {'model__max_depth': 15}\n",
      "0.640 (+/-0.052) for {'model__max_depth': 16}\n",
      "0.653 (+/-0.022) for {'model__max_depth': 17}\n",
      "0.658 (+/-0.036) for {'model__max_depth': 18}\n",
      "0.644 (+/-0.049) for {'model__max_depth': 19}\n",
      "0.653 (+/-0.022) for {'model__max_depth': 20}\n",
      "0.649 (+/-0.033) for {'model__max_depth': 21}\n",
      "0.649 (+/-0.033) for {'model__max_depth': 22}\n",
      "0.644 (+/-0.028) for {'model__max_depth': 23}\n",
      "0.658 (+/-0.022) for {'model__max_depth': 24}\n",
      "0.649 (+/-0.018) for {'model__max_depth': 25}\n",
      "0.644 (+/-0.028) for {'model__max_depth': 26}\n",
      "0.644 (+/-0.049) for {'model__max_depth': 27}\n",
      "0.640 (+/-0.044) for {'model__max_depth': 28}\n",
      "0.653 (+/-0.022) for {'model__max_depth': 29}\n",
      "0.644 (+/-0.028) for {'model__max_depth': 30}\n"
     ]
    },
    {
     "name": "stderr",
     "output_type": "stream",
     "text": [
      "[Parallel(n_jobs=4)]: Using backend ThreadingBackend with 4 concurrent workers.\n",
      "[Parallel(n_jobs=4)]: Done  42 tasks      | elapsed:    0.0s\n",
      "[Parallel(n_jobs=4)]: Done 192 tasks      | elapsed:    0.0s\n",
      "[Parallel(n_jobs=4)]: Done 442 tasks      | elapsed:    0.0s\n",
      "[Parallel(n_jobs=4)]: Done 792 tasks      | elapsed:    0.0s\n",
      "[Parallel(n_jobs=4)]: Done 800 out of 800 | elapsed:    0.0s finished\n",
      "[Parallel(n_jobs=4)]: Using backend ThreadingBackend with 4 concurrent workers.\n",
      "[Parallel(n_jobs=4)]: Done  42 tasks      | elapsed:    0.0s\n",
      "[Parallel(n_jobs=4)]: Done 192 tasks      | elapsed:    0.0s\n",
      "[Parallel(n_jobs=4)]: Done 442 tasks      | elapsed:    0.0s\n",
      "[Parallel(n_jobs=4)]: Done 792 tasks      | elapsed:    0.0s\n",
      "[Parallel(n_jobs=4)]: Done 800 out of 800 | elapsed:    0.0s finished\n"
     ]
    },
    {
     "data": {
      "text/plain": [
       "['predictions/predictions_temporal.joblib']"
      ]
     },
     "execution_count": 80,
     "metadata": {},
     "output_type": "execute_result"
    }
   ],
   "source": [
    " # Logistic regression\n",
    "from sklearn.linear_model import LogisticRegression\n",
    "    \n",
    "model = LogisticRegression(random_state=0, max_iter=10000, class_weight={0: 1, 1: 4})\n",
    "parameters = {\n",
    "'model__C': [1e-05, 1e-04, 1e-03, 1e-02, 1e-01, 1, 10, 100,1000, 1e4, 1e5, 1e6]\n",
    "}\n",
    "\n",
    "train_model_temporal(model, parameters, 'LogisticRegression')\n",
    "\n",
    "# Decision tree\n",
    "from sklearn.tree import DecisionTreeClassifier\n",
    "model = DecisionTreeClassifier(random_state=0, class_weight={0: 1, 1: 4}, min_samples_leaf = 30)\n",
    "    \n",
    "param_grid = {\n",
    "'model__max_depth': np.linspace(10, 100, 10)\n",
    "}\n",
    "\n",
    "train_model_temporal(model, param_grid, 'DecisionTreeClassifier')\n",
    "\n",
    "# lightGBM\n",
    "\n",
    "from lightgbm import LGBMClassifier\n",
    "\n",
    "model = LGBMClassifier(n_estimators=1000, objective='binary',scale_pos_weight=4)\n",
    "\n",
    "param_grid = {\n",
    "'model__learning_rate': [1e-05, 1e-04, 1e-03, 1e-02, 1e-01, 1, 10, 100]\n",
    "\n",
    "}\n",
    "\n",
    "train_model_temporal(model, param_grid, 'LGBMClassifier')\n",
    "\n",
    "# Random forest\n",
    "from sklearn.ensemble import RandomForestClassifier\n",
    "\n",
    "model = RandomForestClassifier(class_weight={0: 1, 1: 4}, n_estimators=800, n_jobs=-1, verbose=1)\n",
    "\n",
    "param_grid = {\n",
    "'model__max_depth': list(range(1,31))\n",
    "\n",
    "}\n",
    "\n",
    "train_model_temporal(model, param_grid, 'RandomForestClassifier')\n",
    "\n",
    "joblib.dump(preds_temporal, 'predictions/predictions_temporal.joblib')\n"
   ]
  },
  {
   "cell_type": "markdown",
   "id": "e037a982-a2c5-445a-8bbb-7e50203d2f5e",
   "metadata": {},
   "source": [
    "# Compare models"
   ]
  },
  {
   "cell_type": "code",
   "execution_count": 82,
   "id": "79e23380-25eb-418c-834b-c23453a5a9d3",
   "metadata": {},
   "outputs": [],
   "source": [
    "# Calculate probability thresholds\n",
    "\n",
    "def specificity(y_valid, y_pred):\n",
    "    tn, fp, fn, tp = confusion_matrix(y_valid, y_pred).ravel()\n",
    "    \n",
    "    specificity = tn / (tn+fp)\n",
    "    return specificity\n",
    "\n",
    "def youden_index(y, pred_proba):\n",
    "    fpr, tpr, thresh = roc_curve(y, pred_proba)\n",
    "    optimal_idx = np.argmax(tpr - fpr)\n",
    "    optimal_threshold = thresh[optimal_idx]\n",
    "    return optimal_threshold\n",
    "\n",
    "# Threshold used\n",
    "def get_threshold_table(preds):\n",
    "    thresh = [[algo, val['threshold']] for algo, val in preds.items() if algo != 'y']\n",
    "    return pd.DataFrame(thresh, columns=['Algo', \"Threshold\"])"
   ]
  },
  {
   "cell_type": "markdown",
   "id": "33ea8325-347e-4020-8f61-4f0e78110652",
   "metadata": {},
   "source": [
    "## 6 months"
   ]
  },
  {
   "cell_type": "code",
   "execution_count": null,
   "id": "b0bcb43a-7459-4302-a4dc-600552d32a9b",
   "metadata": {},
   "outputs": [],
   "source": [
    "preds_6 = joblib.load('predictions/predictions_6m.joblib')"
   ]
  },
  {
   "cell_type": "code",
   "execution_count": 132,
   "id": "6c6ffcf6-d3ab-470b-b70a-588251af4480",
   "metadata": {},
   "outputs": [],
   "source": [
    "# Calculate probability thresholds\n",
    "\n",
    "for algo, preds in preds_6.items():\n",
    "    if algo == 'y':\n",
    "        continue\n",
    "    threshold = youden_index(preds['y'], preds['pred_proba'])\n",
    "    preds['threshold'] = threshold\n",
    "    preds['pred'] = preds['pred_proba'] >= threshold"
   ]
  },
  {
   "cell_type": "code",
   "execution_count": 133,
   "id": "24fcabd0-8cc1-4928-b200-f9ef4fd1579e",
   "metadata": {},
   "outputs": [
    {
     "data": {
      "text/html": [
       "<div>\n",
       "<style scoped>\n",
       "    .dataframe tbody tr th:only-of-type {\n",
       "        vertical-align: middle;\n",
       "    }\n",
       "\n",
       "    .dataframe tbody tr th {\n",
       "        vertical-align: top;\n",
       "    }\n",
       "\n",
       "    .dataframe thead th {\n",
       "        text-align: right;\n",
       "    }\n",
       "</style>\n",
       "<table border=\"1\" class=\"dataframe\">\n",
       "  <thead>\n",
       "    <tr style=\"text-align: right;\">\n",
       "      <th></th>\n",
       "      <th>Algo</th>\n",
       "      <th>Threshold</th>\n",
       "    </tr>\n",
       "  </thead>\n",
       "  <tbody>\n",
       "    <tr>\n",
       "      <th>0</th>\n",
       "      <td>LogisticRegression</td>\n",
       "      <td>0.66455</td>\n",
       "    </tr>\n",
       "    <tr>\n",
       "      <th>1</th>\n",
       "      <td>DecisionTreeClassifier</td>\n",
       "      <td>0.74074</td>\n",
       "    </tr>\n",
       "    <tr>\n",
       "      <th>2</th>\n",
       "      <td>LGBMClassifier</td>\n",
       "      <td>0.34625</td>\n",
       "    </tr>\n",
       "    <tr>\n",
       "      <th>3</th>\n",
       "      <td>RandomForestClassifier</td>\n",
       "      <td>0.39218</td>\n",
       "    </tr>\n",
       "  </tbody>\n",
       "</table>\n",
       "</div>"
      ],
      "text/plain": [
       "                     Algo  Threshold\n",
       "0      LogisticRegression    0.66455\n",
       "1  DecisionTreeClassifier    0.74074\n",
       "2          LGBMClassifier    0.34625\n",
       "3  RandomForestClassifier    0.39218"
      ]
     },
     "execution_count": 133,
     "metadata": {},
     "output_type": "execute_result"
    }
   ],
   "source": [
    "# Get threshold to categorize as 1 (CKD)\n",
    "threshold_6 = pd.concat([get_threshold_table(preds) for preds in [preds_6]])\n",
    "pd.set_option('display.float_format', lambda x: '%.5f' % x)\n",
    "threshold_6\n"
   ]
  },
  {
   "cell_type": "code",
   "execution_count": 117,
   "id": "2bbc191e-373e-47c9-87be-3c4bb7ba61d7",
   "metadata": {},
   "outputs": [
    {
     "data": {
      "text/html": [
       "<div>\n",
       "<style scoped>\n",
       "    .dataframe tbody tr th:only-of-type {\n",
       "        vertical-align: middle;\n",
       "    }\n",
       "\n",
       "    .dataframe tbody tr th {\n",
       "        vertical-align: top;\n",
       "    }\n",
       "\n",
       "    .dataframe thead th {\n",
       "        text-align: right;\n",
       "    }\n",
       "</style>\n",
       "<table border=\"1\" class=\"dataframe\">\n",
       "  <thead>\n",
       "    <tr style=\"text-align: right;\">\n",
       "      <th></th>\n",
       "      <th>Algorithm</th>\n",
       "      <th>Accuracy</th>\n",
       "      <th>F1</th>\n",
       "      <th>Precision</th>\n",
       "      <th>Recall</th>\n",
       "      <th>Specificiy</th>\n",
       "      <th>ROC_AUC</th>\n",
       "    </tr>\n",
       "  </thead>\n",
       "  <tbody>\n",
       "    <tr>\n",
       "      <th>2</th>\n",
       "      <td>LGBMClassifier</td>\n",
       "      <td>0.586667</td>\n",
       "      <td>0.456140</td>\n",
       "      <td>0.382353</td>\n",
       "      <td>0.565217</td>\n",
       "      <td>0.596154</td>\n",
       "      <td>0.524666</td>\n",
       "    </tr>\n",
       "    <tr>\n",
       "      <th>0</th>\n",
       "      <td>LogisticRegression</td>\n",
       "      <td>0.640000</td>\n",
       "      <td>0.448980</td>\n",
       "      <td>0.423077</td>\n",
       "      <td>0.478261</td>\n",
       "      <td>0.711538</td>\n",
       "      <td>0.556856</td>\n",
       "    </tr>\n",
       "    <tr>\n",
       "      <th>1</th>\n",
       "      <td>DecisionTreeClassifier</td>\n",
       "      <td>0.613333</td>\n",
       "      <td>0.452830</td>\n",
       "      <td>0.400000</td>\n",
       "      <td>0.521739</td>\n",
       "      <td>0.653846</td>\n",
       "      <td>0.603679</td>\n",
       "    </tr>\n",
       "    <tr>\n",
       "      <th>3</th>\n",
       "      <td>RandomForestClassifier</td>\n",
       "      <td>0.693333</td>\n",
       "      <td>0.510638</td>\n",
       "      <td>0.500000</td>\n",
       "      <td>0.521739</td>\n",
       "      <td>0.769231</td>\n",
       "      <td>0.665970</td>\n",
       "    </tr>\n",
       "  </tbody>\n",
       "</table>\n",
       "</div>"
      ],
      "text/plain": [
       "                Algorithm  Accuracy        F1  Precision    Recall  \\\n",
       "2          LGBMClassifier  0.586667  0.456140   0.382353  0.565217   \n",
       "0      LogisticRegression  0.640000  0.448980   0.423077  0.478261   \n",
       "1  DecisionTreeClassifier  0.613333  0.452830   0.400000  0.521739   \n",
       "3  RandomForestClassifier  0.693333  0.510638   0.500000  0.521739   \n",
       "\n",
       "   Specificiy   ROC_AUC  \n",
       "2    0.596154  0.524666  \n",
       "0    0.711538  0.556856  \n",
       "1    0.653846  0.603679  \n",
       "3    0.769231  0.665970  "
      ]
     },
     "execution_count": 117,
     "metadata": {},
     "output_type": "execute_result"
    }
   ],
   "source": [
    "metrics_6_list = []\n",
    "\n",
    "y_truth = preds_6['y']\n",
    "for algo, preds in preds_6.items():\n",
    "    if algo == 'y':\n",
    "        continue\n",
    "        \n",
    "    y_pred = preds['pred']\n",
    "    y_pred_proba = preds['pred_proba']\n",
    "    \n",
    "    acc = accuracy_score(y_truth, y_pred)\n",
    "    f1 = f1_score(y_truth, y_pred)\n",
    "    prec = precision_score(y_truth, y_pred)\n",
    "    rec = recall_score(y_truth, y_pred)\n",
    "    spec = specificity(y_truth, y_pred)\n",
    "    roc = roc_auc_score(y_truth, y_pred_proba)\n",
    "    \n",
    "    row = [algo, acc, f1, prec, rec, spec, roc]\n",
    "    metrics_6_list.append(row)\n",
    "    \n",
    "cols = ['Algorithm', 'Accuracy', 'F1', 'Precision', 'Recall', 'Specificiy', 'ROC_AUC']\n",
    "metrics_6 = pd.DataFrame(metrics_6_list, columns=cols)\n",
    "metrics_6.sort_values('ROC_AUC')"
   ]
  },
  {
   "cell_type": "code",
   "execution_count": 327,
   "id": "f4741c45-3430-41f9-a802-b646e63c991f",
   "metadata": {},
   "outputs": [
    {
     "data": {
      "text/plain": [
       "[<matplotlib.lines.Line2D at 0x20675108eb0>]"
      ]
     },
     "execution_count": 327,
     "metadata": {},
     "output_type": "execute_result"
    },
    {
     "data": {
      "text/plain": [
       "[<matplotlib.lines.Line2D at 0x2067511d3d0>]"
      ]
     },
     "execution_count": 327,
     "metadata": {},
     "output_type": "execute_result"
    },
    {
     "data": {
      "text/plain": [
       "[<matplotlib.lines.Line2D at 0x2067511d370>]"
      ]
     },
     "execution_count": 327,
     "metadata": {},
     "output_type": "execute_result"
    },
    {
     "data": {
      "text/plain": [
       "[<matplotlib.lines.Line2D at 0x2067511da60>]"
      ]
     },
     "execution_count": 327,
     "metadata": {},
     "output_type": "execute_result"
    },
    {
     "data": {
      "text/plain": [
       "[<matplotlib.lines.Line2D at 0x2067511da90>]"
      ]
     },
     "execution_count": 327,
     "metadata": {},
     "output_type": "execute_result"
    },
    {
     "data": {
      "text/plain": [
       "Text(0.5, 0, '1 - Specificity')"
      ]
     },
     "execution_count": 327,
     "metadata": {},
     "output_type": "execute_result"
    },
    {
     "data": {
      "text/plain": [
       "Text(0, 0.5, 'Sensitivity')"
      ]
     },
     "execution_count": 327,
     "metadata": {},
     "output_type": "execute_result"
    },
    {
     "data": {
      "text/plain": [
       "Text(0.7, 0.3, '6 month')"
      ]
     },
     "execution_count": 327,
     "metadata": {},
     "output_type": "execute_result"
    },
    {
     "data": {
      "text/plain": [
       "<matplotlib.legend.Legend at 0x2067511d670>"
      ]
     },
     "execution_count": 327,
     "metadata": {},
     "output_type": "execute_result"
    },
    {
     "data": {
      "image/png": "[encoded data removed]",
      "text/plain": [
       "<Figure size 432x432 with 1 Axes>"
      ]
     },
     "metadata": {
      "needs_background": "light"
     },
     "output_type": "display_data"
    }
   ],
   "source": [
    "# Plot ROC\n",
    "fig = plt.figure(figsize=(6,6))\n",
    "lw = 2\n",
    "\n",
    "# ML algos\n",
    "rocs = []\n",
    "for algo, model in preds_6.items():\n",
    "    if algo == 'y':\n",
    "        continue\n",
    "    fpr, tpr, thresh = roc_curve(preds_6['y'], preds_6[algo]['pred_proba'])\n",
    "    auc = roc_auc_score(preds_6['y'], preds_6[algo]['pred_proba'])\n",
    "    auc = round(auc, 3)\n",
    "    rocs.append((algo, auc, [fpr, tpr]))\n",
    "# sort legend by AUC\n",
    "rocs = sorted(rocs, key=lambda x: x[1], reverse=True)\n",
    "for algo, auc, [fpr, tpr] in rocs:    \n",
    "    plt.plot(fpr,tpr, label=algo+f' ({auc})', lw=lw)\n",
    "    \n",
    "# chance line\n",
    "plt.plot([0, 1], [0, 1], color='navy', label='chance line (0.5)', linestyle='--', lw=lw)\n",
    "plt.xlabel('1 - Specificity')\n",
    "plt.ylabel('Sensitivity')\n",
    "# plt.title('ROC curve for 6 months', size=12)\n",
    "plt.text(0.7,0.3, '6 month', fontsize=12)\n",
    "plt.grid(linewidth=1.2, color='lightgray')\n",
    "plt.legend(loc='lower right')"
   ]
  },
  {
   "cell_type": "markdown",
   "id": "6bec3c17-fd01-4a71-8647-9792a23c0ed4",
   "metadata": {},
   "source": [
    "## 12 months"
   ]
  },
  {
   "cell_type": "code",
   "execution_count": 144,
   "id": "f406c4d3-c63c-4c5a-ab44-e65caddf89a2",
   "metadata": {},
   "outputs": [],
   "source": [
    "preds_12 = joblib.load('predictions/predictions_12m.joblib')"
   ]
  },
  {
   "cell_type": "code",
   "execution_count": 145,
   "id": "7f5ff6c4-865b-479d-a553-45e41e098221",
   "metadata": {},
   "outputs": [
    {
     "data": {
      "text/plain": [
       "ColumnTransformer(transformers=[('num', StandardScaler(),\n",
       "                                 ['sbp', 'dbp', 'creatinine', 'glucose', 'ldl',\n",
       "                                  'hgb', 'atenolol', 'atorvastatin',\n",
       "                                  'bisoprolol', 'canagliflozin', 'carvedilol',\n",
       "                                  'dapagliflozin', 'irbesartan', 'labetalol',\n",
       "                                  'losartan', 'lovastatin', 'metformin',\n",
       "                                  'metoprolol', 'nebivolol', 'olmesartan',\n",
       "                                  'pitavastatin', 'pravastatin', 'propranolol',\n",
       "                                  'rosuvastatin', 'simvastatin', 'telmisartan',\n",
       "                                  'valsartan', 'age']),\n",
       "                                ('cat', OneHotEncoder(handle_unknown='ignore'),\n",
       "                                 ['race', 'gender'])])"
      ]
     },
     "execution_count": 145,
     "metadata": {},
     "output_type": "execute_result"
    }
   ],
   "source": [
    "cltf.fit(X_train_12)"
   ]
  },
  {
   "cell_type": "code",
   "execution_count": 146,
   "id": "2087e458-25e7-4241-aa6b-ed0155b65106",
   "metadata": {},
   "outputs": [],
   "source": [
    "# Calculate probability thresholds\n",
    "\n",
    "for algo, preds in preds_12.items():\n",
    "    if algo == 'y':\n",
    "        continue\n",
    "    threshold = youden_index(preds_12['y'], preds['pred_proba'])\n",
    "    preds['threshold'] = threshold\n",
    "    preds['pred'] = preds['pred_proba'] >= threshold"
   ]
  },
  {
   "cell_type": "code",
   "execution_count": 147,
   "id": "581f51c9-c4af-43b3-af78-d7373ca5228f",
   "metadata": {},
   "outputs": [
    {
     "data": {
      "text/html": [
       "<div>\n",
       "<style scoped>\n",
       "    .dataframe tbody tr th:only-of-type {\n",
       "        vertical-align: middle;\n",
       "    }\n",
       "\n",
       "    .dataframe tbody tr th {\n",
       "        vertical-align: top;\n",
       "    }\n",
       "\n",
       "    .dataframe thead th {\n",
       "        text-align: right;\n",
       "    }\n",
       "</style>\n",
       "<table border=\"1\" class=\"dataframe\">\n",
       "  <thead>\n",
       "    <tr style=\"text-align: right;\">\n",
       "      <th></th>\n",
       "      <th>Algo</th>\n",
       "      <th>Threshold</th>\n",
       "    </tr>\n",
       "  </thead>\n",
       "  <tbody>\n",
       "    <tr>\n",
       "      <th>0</th>\n",
       "      <td>LogisticRegression</td>\n",
       "      <td>0.57979</td>\n",
       "    </tr>\n",
       "    <tr>\n",
       "      <th>1</th>\n",
       "      <td>DecisionTreeClassifier</td>\n",
       "      <td>0.74074</td>\n",
       "    </tr>\n",
       "    <tr>\n",
       "      <th>2</th>\n",
       "      <td>LGBMClassifier</td>\n",
       "      <td>0.35747</td>\n",
       "    </tr>\n",
       "    <tr>\n",
       "      <th>3</th>\n",
       "      <td>RandomForestClassifier</td>\n",
       "      <td>0.21125</td>\n",
       "    </tr>\n",
       "  </tbody>\n",
       "</table>\n",
       "</div>"
      ],
      "text/plain": [
       "                     Algo  Threshold\n",
       "0      LogisticRegression    0.57979\n",
       "1  DecisionTreeClassifier    0.74074\n",
       "2          LGBMClassifier    0.35747\n",
       "3  RandomForestClassifier    0.21125"
      ]
     },
     "execution_count": 147,
     "metadata": {},
     "output_type": "execute_result"
    }
   ],
   "source": [
    "# Get threshold to categorize as 1 (CKD)\n",
    "threshold_12 = pd.concat([get_threshold_table(preds) for preds in [preds_12]])\n",
    "pd.set_option('display.float_format', lambda x: '%.5f' % x)\n",
    "threshold_12\n"
   ]
  },
  {
   "cell_type": "code",
   "execution_count": 148,
   "id": "413737f8-6810-463f-ae8d-5df5ecf7ad68",
   "metadata": {},
   "outputs": [
    {
     "data": {
      "text/html": [
       "<div>\n",
       "<style scoped>\n",
       "    .dataframe tbody tr th:only-of-type {\n",
       "        vertical-align: middle;\n",
       "    }\n",
       "\n",
       "    .dataframe tbody tr th {\n",
       "        vertical-align: top;\n",
       "    }\n",
       "\n",
       "    .dataframe thead th {\n",
       "        text-align: right;\n",
       "    }\n",
       "</style>\n",
       "<table border=\"1\" class=\"dataframe\">\n",
       "  <thead>\n",
       "    <tr style=\"text-align: right;\">\n",
       "      <th></th>\n",
       "      <th>Algorithm</th>\n",
       "      <th>Accuracy</th>\n",
       "      <th>F1</th>\n",
       "      <th>Precision</th>\n",
       "      <th>Recall</th>\n",
       "      <th>Specificiy</th>\n",
       "      <th>ROC_AUC</th>\n",
       "    </tr>\n",
       "  </thead>\n",
       "  <tbody>\n",
       "    <tr>\n",
       "      <th>0</th>\n",
       "      <td>LogisticRegression</td>\n",
       "      <td>0.56164</td>\n",
       "      <td>0.42857</td>\n",
       "      <td>0.31579</td>\n",
       "      <td>0.66667</td>\n",
       "      <td>0.52727</td>\n",
       "      <td>0.58081</td>\n",
       "    </tr>\n",
       "    <tr>\n",
       "      <th>3</th>\n",
       "      <td>RandomForestClassifier</td>\n",
       "      <td>0.46575</td>\n",
       "      <td>0.48000</td>\n",
       "      <td>0.31579</td>\n",
       "      <td>1.00000</td>\n",
       "      <td>0.29091</td>\n",
       "      <td>0.60455</td>\n",
       "    </tr>\n",
       "    <tr>\n",
       "      <th>2</th>\n",
       "      <td>LGBMClassifier</td>\n",
       "      <td>0.67123</td>\n",
       "      <td>0.47826</td>\n",
       "      <td>0.39286</td>\n",
       "      <td>0.61111</td>\n",
       "      <td>0.69091</td>\n",
       "      <td>0.65152</td>\n",
       "    </tr>\n",
       "    <tr>\n",
       "      <th>1</th>\n",
       "      <td>DecisionTreeClassifier</td>\n",
       "      <td>0.72603</td>\n",
       "      <td>0.50000</td>\n",
       "      <td>0.45455</td>\n",
       "      <td>0.55556</td>\n",
       "      <td>0.78182</td>\n",
       "      <td>0.65960</td>\n",
       "    </tr>\n",
       "  </tbody>\n",
       "</table>\n",
       "</div>"
      ],
      "text/plain": [
       "                Algorithm  Accuracy      F1  Precision  Recall  Specificiy  \\\n",
       "0      LogisticRegression   0.56164 0.42857    0.31579 0.66667     0.52727   \n",
       "3  RandomForestClassifier   0.46575 0.48000    0.31579 1.00000     0.29091   \n",
       "2          LGBMClassifier   0.67123 0.47826    0.39286 0.61111     0.69091   \n",
       "1  DecisionTreeClassifier   0.72603 0.50000    0.45455 0.55556     0.78182   \n",
       "\n",
       "   ROC_AUC  \n",
       "0  0.58081  \n",
       "3  0.60455  \n",
       "2  0.65152  \n",
       "1  0.65960  "
      ]
     },
     "execution_count": 148,
     "metadata": {},
     "output_type": "execute_result"
    }
   ],
   "source": [
    "metrics_12_list = []\n",
    "\n",
    "y_truth = preds_12['y']\n",
    "for algo, preds in preds_12.items():\n",
    "    if algo == 'y':\n",
    "        continue\n",
    "        \n",
    "    y_pred = preds['pred']\n",
    "    y_pred_proba = preds['pred_proba']\n",
    "    \n",
    "    acc = accuracy_score(y_truth, y_pred)\n",
    "    f1 = f1_score(y_truth, y_pred)\n",
    "    prec = precision_score(y_truth, y_pred)\n",
    "    rec = recall_score(y_truth, y_pred)\n",
    "    spec = specificity(y_truth, y_pred)\n",
    "    roc = roc_auc_score(y_truth, y_pred_proba)\n",
    "    \n",
    "    row = [algo, acc, f1, prec, rec, spec, roc]\n",
    "    metrics_12_list.append(row)\n",
    "    \n",
    "cols = ['Algorithm', 'Accuracy', 'F1', 'Precision', 'Recall', 'Specificiy', 'ROC_AUC']\n",
    "metrics_12 = pd.DataFrame(metrics_12_list, columns=cols)\n",
    "metrics_12.sort_values('ROC_AUC')"
   ]
  },
  {
   "cell_type": "code",
   "execution_count": 149,
   "id": "836c9ee9-5418-410c-99b2-6327134890a2",
   "metadata": {},
   "outputs": [
    {
     "data": {
      "text/plain": [
       "[<matplotlib.lines.Line2D at 0x24b7649f610>]"
      ]
     },
     "execution_count": 149,
     "metadata": {},
     "output_type": "execute_result"
    },
    {
     "data": {
      "text/plain": [
       "[<matplotlib.lines.Line2D at 0x24b7649fbe0>]"
      ]
     },
     "execution_count": 149,
     "metadata": {},
     "output_type": "execute_result"
    },
    {
     "data": {
      "text/plain": [
       "[<matplotlib.lines.Line2D at 0x24b764bb190>]"
      ]
     },
     "execution_count": 149,
     "metadata": {},
     "output_type": "execute_result"
    },
    {
     "data": {
      "text/plain": [
       "[<matplotlib.lines.Line2D at 0x24b765b5f10>]"
      ]
     },
     "execution_count": 149,
     "metadata": {},
     "output_type": "execute_result"
    },
    {
     "data": {
      "text/plain": [
       "[<matplotlib.lines.Line2D at 0x24b765100a0>]"
      ]
     },
     "execution_count": 149,
     "metadata": {},
     "output_type": "execute_result"
    },
    {
     "data": {
      "text/plain": [
       "Text(0.5, 0, '1 - Specificity')"
      ]
     },
     "execution_count": 149,
     "metadata": {},
     "output_type": "execute_result"
    },
    {
     "data": {
      "text/plain": [
       "Text(0, 0.5, 'Sensitivity')"
      ]
     },
     "execution_count": 149,
     "metadata": {},
     "output_type": "execute_result"
    },
    {
     "data": {
      "text/plain": [
       "Text(0.7, 0.3, '12 month')"
      ]
     },
     "execution_count": 149,
     "metadata": {},
     "output_type": "execute_result"
    },
    {
     "data": {
      "text/plain": [
       "<matplotlib.legend.Legend at 0x24b7649f6d0>"
      ]
     },
     "execution_count": 149,
     "metadata": {},
     "output_type": "execute_result"
    },
    {
     "data": {
      "image/png": "[encoded data removed]",
      "text/plain": [
       "<Figure size 432x432 with 1 Axes>"
      ]
     },
     "metadata": {
      "needs_background": "light"
     },
     "output_type": "display_data"
    }
   ],
   "source": [
    "# Plot ROC\n",
    "\n",
    "fig = plt.figure(figsize=(6,6))\n",
    "lw = 2\n",
    "\n",
    "# ML algos\n",
    "rocs = []\n",
    "for algo, model in preds_12.items():\n",
    "    if algo == 'y':\n",
    "        continue\n",
    "    fpr, tpr, thresh = roc_curve(preds_12['y'], preds_12[algo]['pred_proba'])\n",
    "    auc = roc_auc_score(preds_12['y'], preds_12[algo]['pred_proba'])\n",
    "    auc = round(auc, 3)\n",
    "    rocs.append((algo, auc, [fpr, tpr]))\n",
    "# sort legend by AUC\n",
    "rocs = sorted(rocs, key=lambda x: x[1], reverse=True)\n",
    "for algo, auc, [fpr, tpr] in rocs:    \n",
    "    plt.plot(fpr,tpr, label=algo+f' ({auc})', lw=lw)\n",
    "    \n",
    "# chance line\n",
    "plt.plot([0, 1], [0, 1], color='navy', label='chance line (0.5)', linestyle='--', lw=lw)\n",
    "plt.xlabel('1 - Specificity')\n",
    "plt.ylabel('Sensitivity')\n",
    "plt.text(0.7,0.3, '12 month', fontsize=12)\n",
    "plt.grid(linewidth=1.2, color='lightgray')\n",
    "plt.legend(loc='lower right')"
   ]
  },
  {
   "cell_type": "markdown",
   "id": "2243b7da-90d1-493a-a242-b03cb8f99425",
   "metadata": {},
   "source": [
    "## 18 months"
   ]
  },
  {
   "cell_type": "code",
   "execution_count": 156,
   "id": "c784d11a-152e-4383-a24f-13b386c2bf9f",
   "metadata": {},
   "outputs": [],
   "source": [
    "preds_18 = joblib.load('predictions/predictions_18m.joblib')"
   ]
  },
  {
   "cell_type": "code",
   "execution_count": 157,
   "id": "8e2999ee-d55e-452e-ace2-636e4d8a80f4",
   "metadata": {},
   "outputs": [
    {
     "data": {
      "text/plain": [
       "ColumnTransformer(transformers=[('num', StandardScaler(),\n",
       "                                 ['sbp', 'dbp', 'creatinine', 'glucose', 'ldl',\n",
       "                                  'hgb', 'atenolol', 'atorvastatin',\n",
       "                                  'bisoprolol', 'canagliflozin', 'carvedilol',\n",
       "                                  'dapagliflozin', 'irbesartan', 'labetalol',\n",
       "                                  'losartan', 'lovastatin', 'metformin',\n",
       "                                  'metoprolol', 'nebivolol', 'olmesartan',\n",
       "                                  'pitavastatin', 'pravastatin', 'propranolol',\n",
       "                                  'rosuvastatin', 'simvastatin', 'telmisartan',\n",
       "                                  'valsartan', 'age']),\n",
       "                                ('cat', OneHotEncoder(handle_unknown='ignore'),\n",
       "                                 ['race', 'gender'])])"
      ]
     },
     "execution_count": 157,
     "metadata": {},
     "output_type": "execute_result"
    }
   ],
   "source": [
    "cltf.fit(X_train_18)"
   ]
  },
  {
   "cell_type": "code",
   "execution_count": 158,
   "id": "fedee88d-ec82-43ca-9378-f2d2b922fb13",
   "metadata": {},
   "outputs": [],
   "source": [
    "# Calculate probability thresholds\n",
    "\n",
    "for algo, preds in preds_18.items():\n",
    "    if algo == 'y':\n",
    "        continue\n",
    "    threshold = youden_index(preds_18['y'], preds['pred_proba'])\n",
    "    preds['threshold'] = threshold\n",
    "    preds['pred'] = preds['pred_proba'] >= threshold"
   ]
  },
  {
   "cell_type": "code",
   "execution_count": 159,
   "id": "c1cb2e1b-7dae-4f5c-93fb-c7488616c7df",
   "metadata": {},
   "outputs": [
    {
     "data": {
      "text/html": [
       "<div>\n",
       "<style scoped>\n",
       "    .dataframe tbody tr th:only-of-type {\n",
       "        vertical-align: middle;\n",
       "    }\n",
       "\n",
       "    .dataframe tbody tr th {\n",
       "        vertical-align: top;\n",
       "    }\n",
       "\n",
       "    .dataframe thead th {\n",
       "        text-align: right;\n",
       "    }\n",
       "</style>\n",
       "<table border=\"1\" class=\"dataframe\">\n",
       "  <thead>\n",
       "    <tr style=\"text-align: right;\">\n",
       "      <th></th>\n",
       "      <th>Algo</th>\n",
       "      <th>Threshold</th>\n",
       "    </tr>\n",
       "  </thead>\n",
       "  <tbody>\n",
       "    <tr>\n",
       "      <th>0</th>\n",
       "      <td>LogisticRegression</td>\n",
       "      <td>0.65855</td>\n",
       "    </tr>\n",
       "    <tr>\n",
       "      <th>1</th>\n",
       "      <td>DecisionTreeClassifier</td>\n",
       "      <td>0.66667</td>\n",
       "    </tr>\n",
       "    <tr>\n",
       "      <th>2</th>\n",
       "      <td>LGBMClassifier</td>\n",
       "      <td>0.33457</td>\n",
       "    </tr>\n",
       "    <tr>\n",
       "      <th>3</th>\n",
       "      <td>RandomForestClassifier</td>\n",
       "      <td>0.41236</td>\n",
       "    </tr>\n",
       "  </tbody>\n",
       "</table>\n",
       "</div>"
      ],
      "text/plain": [
       "                     Algo  Threshold\n",
       "0      LogisticRegression    0.65855\n",
       "1  DecisionTreeClassifier    0.66667\n",
       "2          LGBMClassifier    0.33457\n",
       "3  RandomForestClassifier    0.41236"
      ]
     },
     "execution_count": 159,
     "metadata": {},
     "output_type": "execute_result"
    }
   ],
   "source": [
    "# Get threshold to categorize as 1 (CKD)\n",
    "threshold_18 = pd.concat([get_threshold_table(preds) for preds in [preds_18]])\n",
    "pd.set_option('display.float_format', lambda x: '%.5f' % x)\n",
    "threshold_18\n"
   ]
  },
  {
   "cell_type": "code",
   "execution_count": 160,
   "id": "1c809a71-ce18-4faa-b406-53b40d1e0590",
   "metadata": {},
   "outputs": [
    {
     "data": {
      "text/html": [
       "<div>\n",
       "<style scoped>\n",
       "    .dataframe tbody tr th:only-of-type {\n",
       "        vertical-align: middle;\n",
       "    }\n",
       "\n",
       "    .dataframe tbody tr th {\n",
       "        vertical-align: top;\n",
       "    }\n",
       "\n",
       "    .dataframe thead th {\n",
       "        text-align: right;\n",
       "    }\n",
       "</style>\n",
       "<table border=\"1\" class=\"dataframe\">\n",
       "  <thead>\n",
       "    <tr style=\"text-align: right;\">\n",
       "      <th></th>\n",
       "      <th>Algorithm</th>\n",
       "      <th>Accuracy</th>\n",
       "      <th>F1</th>\n",
       "      <th>Precision</th>\n",
       "      <th>Recall</th>\n",
       "      <th>Specificiy</th>\n",
       "      <th>ROC_AUC</th>\n",
       "    </tr>\n",
       "  </thead>\n",
       "  <tbody>\n",
       "    <tr>\n",
       "      <th>1</th>\n",
       "      <td>DecisionTreeClassifier</td>\n",
       "      <td>0.60000</td>\n",
       "      <td>0.51613</td>\n",
       "      <td>0.43243</td>\n",
       "      <td>0.64000</td>\n",
       "      <td>0.58000</td>\n",
       "      <td>0.57760</td>\n",
       "    </tr>\n",
       "    <tr>\n",
       "      <th>2</th>\n",
       "      <td>LGBMClassifier</td>\n",
       "      <td>0.56000</td>\n",
       "      <td>0.53521</td>\n",
       "      <td>0.41304</td>\n",
       "      <td>0.76000</td>\n",
       "      <td>0.46000</td>\n",
       "      <td>0.58880</td>\n",
       "    </tr>\n",
       "    <tr>\n",
       "      <th>3</th>\n",
       "      <td>RandomForestClassifier</td>\n",
       "      <td>0.69333</td>\n",
       "      <td>0.43902</td>\n",
       "      <td>0.56250</td>\n",
       "      <td>0.36000</td>\n",
       "      <td>0.86000</td>\n",
       "      <td>0.60400</td>\n",
       "    </tr>\n",
       "    <tr>\n",
       "      <th>0</th>\n",
       "      <td>LogisticRegression</td>\n",
       "      <td>0.74667</td>\n",
       "      <td>0.59574</td>\n",
       "      <td>0.63636</td>\n",
       "      <td>0.56000</td>\n",
       "      <td>0.84000</td>\n",
       "      <td>0.67360</td>\n",
       "    </tr>\n",
       "  </tbody>\n",
       "</table>\n",
       "</div>"
      ],
      "text/plain": [
       "                Algorithm  Accuracy      F1  Precision  Recall  Specificiy  \\\n",
       "1  DecisionTreeClassifier   0.60000 0.51613    0.43243 0.64000     0.58000   \n",
       "2          LGBMClassifier   0.56000 0.53521    0.41304 0.76000     0.46000   \n",
       "3  RandomForestClassifier   0.69333 0.43902    0.56250 0.36000     0.86000   \n",
       "0      LogisticRegression   0.74667 0.59574    0.63636 0.56000     0.84000   \n",
       "\n",
       "   ROC_AUC  \n",
       "1  0.57760  \n",
       "2  0.58880  \n",
       "3  0.60400  \n",
       "0  0.67360  "
      ]
     },
     "execution_count": 160,
     "metadata": {},
     "output_type": "execute_result"
    }
   ],
   "source": [
    "metrics_18_list = []\n",
    "\n",
    "y_truth = preds_18['y']\n",
    "for algo, preds in preds_18.items():\n",
    "    if algo == 'y':\n",
    "        continue\n",
    "        \n",
    "    y_pred = preds['pred']\n",
    "    y_pred_proba = preds['pred_proba']\n",
    "    \n",
    "    acc = accuracy_score(y_truth, y_pred)\n",
    "    f1 = f1_score(y_truth, y_pred)\n",
    "    prec = precision_score(y_truth, y_pred)\n",
    "    rec = recall_score(y_truth, y_pred)\n",
    "    spec = specificity(y_truth, y_pred)\n",
    "    roc = roc_auc_score(y_truth, y_pred_proba)\n",
    "    \n",
    "    row = [algo, acc, f1, prec, rec, spec, roc]\n",
    "    metrics_18_list.append(row)\n",
    "    \n",
    "cols = ['Algorithm', 'Accuracy', 'F1', 'Precision', 'Recall', 'Specificiy', 'ROC_AUC']\n",
    "metrics_18 = pd.DataFrame(metrics_18_list, columns=cols)\n",
    "metrics_18.sort_values('ROC_AUC')"
   ]
  },
  {
   "cell_type": "code",
   "execution_count": 163,
   "id": "d657dcc9-9e53-4b5d-8e8f-16169341c056",
   "metadata": {},
   "outputs": [
    {
     "data": {
      "text/plain": [
       "[<matplotlib.lines.Line2D at 0x24b76cd8760>]"
      ]
     },
     "execution_count": 163,
     "metadata": {},
     "output_type": "execute_result"
    },
    {
     "data": {
      "text/plain": [
       "[<matplotlib.lines.Line2D at 0x24b76cd80a0>]"
      ]
     },
     "execution_count": 163,
     "metadata": {},
     "output_type": "execute_result"
    },
    {
     "data": {
      "text/plain": [
       "[<matplotlib.lines.Line2D at 0x24b76cc4a90>]"
      ]
     },
     "execution_count": 163,
     "metadata": {},
     "output_type": "execute_result"
    },
    {
     "data": {
      "text/plain": [
       "[<matplotlib.lines.Line2D at 0x24b76cc4f10>]"
      ]
     },
     "execution_count": 163,
     "metadata": {},
     "output_type": "execute_result"
    },
    {
     "data": {
      "text/plain": [
       "[<matplotlib.lines.Line2D at 0x24b76cc4610>]"
      ]
     },
     "execution_count": 163,
     "metadata": {},
     "output_type": "execute_result"
    },
    {
     "data": {
      "text/plain": [
       "Text(0.5, 0, '1 - Specificity')"
      ]
     },
     "execution_count": 163,
     "metadata": {},
     "output_type": "execute_result"
    },
    {
     "data": {
      "text/plain": [
       "Text(0, 0.5, 'Sensitivity')"
      ]
     },
     "execution_count": 163,
     "metadata": {},
     "output_type": "execute_result"
    },
    {
     "data": {
      "text/plain": [
       "Text(0.7, 0.3, '18 month')"
      ]
     },
     "execution_count": 163,
     "metadata": {},
     "output_type": "execute_result"
    },
    {
     "data": {
      "text/plain": [
       "<matplotlib.legend.Legend at 0x24b76cc44c0>"
      ]
     },
     "execution_count": 163,
     "metadata": {},
     "output_type": "execute_result"
    },
    {
     "data": {
      "image/png": "[encoded data removed]",
      "text/plain": [
       "<Figure size 432x432 with 1 Axes>"
      ]
     },
     "metadata": {
      "needs_background": "light"
     },
     "output_type": "display_data"
    }
   ],
   "source": [
    "# Plot ROC\n",
    "\n",
    "fig = plt.figure(figsize=(6,6))\n",
    "lw = 2\n",
    "\n",
    "# ML algos\n",
    "rocs = []\n",
    "for algo, model in preds_18.items():\n",
    "    if algo == 'y':\n",
    "        continue\n",
    "    fpr, tpr, thresh = roc_curve(preds_18['y'], preds_18[algo]['pred_proba'])\n",
    "    auc = roc_auc_score(preds_18['y'], preds_18[algo]['pred_proba'])\n",
    "    auc = round(auc, 3)\n",
    "    rocs.append((algo, auc, [fpr, tpr]))\n",
    "# sort legend by AUC\n",
    "rocs = sorted(rocs, key=lambda x: x[1], reverse=True)\n",
    "for algo, auc, [fpr, tpr] in rocs:    \n",
    "    plt.plot(fpr,tpr, label=algo+f' ({auc})', lw=lw)\n",
    "    \n",
    "# chance line\n",
    "plt.plot([0, 1], [0, 1], color='navy', label='chance line (0.5)', linestyle='--', lw=lw)\n",
    "plt.xlabel('1 - Specificity')\n",
    "plt.ylabel('Sensitivity')\n",
    "plt.text(0.7,0.3, '18 month', fontsize=12)\n",
    "plt.grid(linewidth=1.2, color='lightgray')\n",
    "plt.legend(loc='lower right')"
   ]
  },
  {
   "cell_type": "markdown",
   "id": "bbdbe8ac-64b3-471d-91d3-82cbc572f5f1",
   "metadata": {},
   "source": [
    "## 24 months"
   ]
  },
  {
   "cell_type": "code",
   "execution_count": 174,
   "id": "8eaeb8ea-2551-49c3-86b6-7239163e605a",
   "metadata": {},
   "outputs": [
    {
     "data": {
      "text/plain": [
       "ColumnTransformer(transformers=[('num', StandardScaler(),\n",
       "                                 ['sbp', 'dbp', 'creatinine', 'glucose', 'ldl',\n",
       "                                  'hgb', 'atenolol', 'atorvastatin',\n",
       "                                  'bisoprolol', 'canagliflozin', 'carvedilol',\n",
       "                                  'dapagliflozin', 'irbesartan', 'labetalol',\n",
       "                                  'losartan', 'lovastatin', 'metformin',\n",
       "                                  'metoprolol', 'nebivolol', 'olmesartan',\n",
       "                                  'pitavastatin', 'pravastatin', 'propranolol',\n",
       "                                  'rosuvastatin', 'simvastatin', 'telmisartan',\n",
       "                                  'valsartan', 'age']),\n",
       "                                ('cat', OneHotEncoder(handle_unknown='ignore'),\n",
       "                                 ['race', 'gender'])])"
      ]
     },
     "execution_count": 174,
     "metadata": {},
     "output_type": "execute_result"
    },
    {
     "data": {
      "text/html": [
       "<div>\n",
       "<style scoped>\n",
       "    .dataframe tbody tr th:only-of-type {\n",
       "        vertical-align: middle;\n",
       "    }\n",
       "\n",
       "    .dataframe tbody tr th {\n",
       "        vertical-align: top;\n",
       "    }\n",
       "\n",
       "    .dataframe thead th {\n",
       "        text-align: right;\n",
       "    }\n",
       "</style>\n",
       "<table border=\"1\" class=\"dataframe\">\n",
       "  <thead>\n",
       "    <tr style=\"text-align: right;\">\n",
       "      <th></th>\n",
       "      <th>Algo</th>\n",
       "      <th>Threshold</th>\n",
       "    </tr>\n",
       "  </thead>\n",
       "  <tbody>\n",
       "    <tr>\n",
       "      <th>0</th>\n",
       "      <td>LogisticRegression</td>\n",
       "      <td>0.84541</td>\n",
       "    </tr>\n",
       "    <tr>\n",
       "      <th>1</th>\n",
       "      <td>DecisionTreeClassifier</td>\n",
       "      <td>0.80000</td>\n",
       "    </tr>\n",
       "    <tr>\n",
       "      <th>2</th>\n",
       "      <td>LGBMClassifier</td>\n",
       "      <td>0.88504</td>\n",
       "    </tr>\n",
       "    <tr>\n",
       "      <th>3</th>\n",
       "      <td>RandomForestClassifier</td>\n",
       "      <td>0.37025</td>\n",
       "    </tr>\n",
       "  </tbody>\n",
       "</table>\n",
       "</div>"
      ],
      "text/plain": [
       "                     Algo  Threshold\n",
       "0      LogisticRegression    0.84541\n",
       "1  DecisionTreeClassifier    0.80000\n",
       "2          LGBMClassifier    0.88504\n",
       "3  RandomForestClassifier    0.37025"
      ]
     },
     "execution_count": 174,
     "metadata": {},
     "output_type": "execute_result"
    },
    {
     "data": {
      "text/html": [
       "<div>\n",
       "<style scoped>\n",
       "    .dataframe tbody tr th:only-of-type {\n",
       "        vertical-align: middle;\n",
       "    }\n",
       "\n",
       "    .dataframe tbody tr th {\n",
       "        vertical-align: top;\n",
       "    }\n",
       "\n",
       "    .dataframe thead th {\n",
       "        text-align: right;\n",
       "    }\n",
       "</style>\n",
       "<table border=\"1\" class=\"dataframe\">\n",
       "  <thead>\n",
       "    <tr style=\"text-align: right;\">\n",
       "      <th></th>\n",
       "      <th>Algorithm</th>\n",
       "      <th>Accuracy</th>\n",
       "      <th>F1</th>\n",
       "      <th>Precision</th>\n",
       "      <th>Recall</th>\n",
       "      <th>Specificiy</th>\n",
       "      <th>ROC_AUC</th>\n",
       "    </tr>\n",
       "  </thead>\n",
       "  <tbody>\n",
       "    <tr>\n",
       "      <th>1</th>\n",
       "      <td>DecisionTreeClassifier</td>\n",
       "      <td>0.63014</td>\n",
       "      <td>0.37209</td>\n",
       "      <td>0.28571</td>\n",
       "      <td>0.53333</td>\n",
       "      <td>0.65517</td>\n",
       "      <td>0.55345</td>\n",
       "    </tr>\n",
       "    <tr>\n",
       "      <th>0</th>\n",
       "      <td>LogisticRegression</td>\n",
       "      <td>0.76712</td>\n",
       "      <td>0.45161</td>\n",
       "      <td>0.43750</td>\n",
       "      <td>0.46667</td>\n",
       "      <td>0.84483</td>\n",
       "      <td>0.61839</td>\n",
       "    </tr>\n",
       "    <tr>\n",
       "      <th>2</th>\n",
       "      <td>LGBMClassifier</td>\n",
       "      <td>0.73973</td>\n",
       "      <td>0.48649</td>\n",
       "      <td>0.40909</td>\n",
       "      <td>0.60000</td>\n",
       "      <td>0.77586</td>\n",
       "      <td>0.69655</td>\n",
       "    </tr>\n",
       "    <tr>\n",
       "      <th>3</th>\n",
       "      <td>RandomForestClassifier</td>\n",
       "      <td>0.64384</td>\n",
       "      <td>0.45833</td>\n",
       "      <td>0.33333</td>\n",
       "      <td>0.73333</td>\n",
       "      <td>0.62069</td>\n",
       "      <td>0.70977</td>\n",
       "    </tr>\n",
       "  </tbody>\n",
       "</table>\n",
       "</div>"
      ],
      "text/plain": [
       "                Algorithm  Accuracy      F1  Precision  Recall  Specificiy  \\\n",
       "1  DecisionTreeClassifier   0.63014 0.37209    0.28571 0.53333     0.65517   \n",
       "0      LogisticRegression   0.76712 0.45161    0.43750 0.46667     0.84483   \n",
       "2          LGBMClassifier   0.73973 0.48649    0.40909 0.60000     0.77586   \n",
       "3  RandomForestClassifier   0.64384 0.45833    0.33333 0.73333     0.62069   \n",
       "\n",
       "   ROC_AUC  \n",
       "1  0.55345  \n",
       "0  0.61839  \n",
       "2  0.69655  \n",
       "3  0.70977  "
      ]
     },
     "execution_count": 174,
     "metadata": {},
     "output_type": "execute_result"
    },
    {
     "data": {
      "text/plain": [
       "[<matplotlib.lines.Line2D at 0x24b76e672e0>]"
      ]
     },
     "execution_count": 174,
     "metadata": {},
     "output_type": "execute_result"
    },
    {
     "data": {
      "text/plain": [
       "[<matplotlib.lines.Line2D at 0x24b76e679d0>]"
      ]
     },
     "execution_count": 174,
     "metadata": {},
     "output_type": "execute_result"
    },
    {
     "data": {
      "text/plain": [
       "[<matplotlib.lines.Line2D at 0x24b76e67be0>]"
      ]
     },
     "execution_count": 174,
     "metadata": {},
     "output_type": "execute_result"
    },
    {
     "data": {
      "text/plain": [
       "[<matplotlib.lines.Line2D at 0x24b76e67e80>]"
      ]
     },
     "execution_count": 174,
     "metadata": {},
     "output_type": "execute_result"
    },
    {
     "data": {
      "text/plain": [
       "[<matplotlib.lines.Line2D at 0x24b76e67d90>]"
      ]
     },
     "execution_count": 174,
     "metadata": {},
     "output_type": "execute_result"
    },
    {
     "data": {
      "text/plain": [
       "Text(0.5, 0, '1 - Specificity')"
      ]
     },
     "execution_count": 174,
     "metadata": {},
     "output_type": "execute_result"
    },
    {
     "data": {
      "text/plain": [
       "Text(0, 0.5, 'Sensitivity')"
      ]
     },
     "execution_count": 174,
     "metadata": {},
     "output_type": "execute_result"
    },
    {
     "data": {
      "text/plain": [
       "Text(0.7, 0.3, '24 month')"
      ]
     },
     "execution_count": 174,
     "metadata": {},
     "output_type": "execute_result"
    },
    {
     "data": {
      "text/plain": [
       "<matplotlib.legend.Legend at 0x24b738bed60>"
      ]
     },
     "execution_count": 174,
     "metadata": {},
     "output_type": "execute_result"
    },
    {
     "data": {
      "image/png": "[encoded data removed]",
      "text/plain": [
       "<Figure size 432x432 with 1 Axes>"
      ]
     },
     "metadata": {
      "needs_background": "light"
     },
     "output_type": "display_data"
    }
   ],
   "source": [
    "preds_24 = joblib.load('predictions/predictions_24m.joblib')\n",
    "\n",
    "cltf.fit(X_train_24)\n",
    "\n",
    "# Calculate probability thresholds\n",
    "\n",
    "for algo, preds in preds_24.items():\n",
    "    if algo == 'y':\n",
    "        continue\n",
    "    threshold = youden_index(preds_24['y'], preds['pred_proba'])\n",
    "    preds['threshold'] = threshold\n",
    "    preds['pred'] = preds['pred_proba'] >= threshold\n",
    "\t\n",
    "# Get threshold to categorize as 1 (CKD)\n",
    "threshold_24 = pd.concat([get_threshold_table(preds) for preds in [preds_24]])\n",
    "pd.set_option('display.float_format', lambda x: '%.5f' % x)\n",
    "threshold_24\n",
    "\n",
    "metrics_24_list = []\n",
    "\n",
    "y_truth = preds_24['y']\n",
    "for algo, preds in preds_24.items():\n",
    "    if algo == 'y':\n",
    "        continue\n",
    "        \n",
    "    y_pred = preds['pred']\n",
    "    y_pred_proba = preds['pred_proba']\n",
    "    \n",
    "    acc = accuracy_score(y_truth, y_pred)\n",
    "    f1 = f1_score(y_truth, y_pred)\n",
    "    prec = precision_score(y_truth, y_pred)\n",
    "    rec = recall_score(y_truth, y_pred)\n",
    "    spec = specificity(y_truth, y_pred)\n",
    "    roc = roc_auc_score(y_truth, y_pred_proba)\n",
    "    \n",
    "    row = [algo, acc, f1, prec, rec, spec, roc]\n",
    "    metrics_24_list.append(row)\n",
    "    \n",
    "cols = ['Algorithm', 'Accuracy', 'F1', 'Precision', 'Recall', 'Specificiy', 'ROC_AUC']\n",
    "metrics_24 = pd.DataFrame(metrics_24_list, columns=cols)\n",
    "metrics_24.sort_values('ROC_AUC')\n",
    "\n",
    "# Plot ROC\n",
    "\n",
    "fig = plt.figure(figsize=(6,6))\n",
    "lw = 2\n",
    "\n",
    "# ML algos\n",
    "rocs = []\n",
    "for algo, model in preds_24.items():\n",
    "    if algo == 'y':\n",
    "        continue\n",
    "    fpr, tpr, thresh = roc_curve(preds_24['y'], preds_24[algo]['pred_proba'])\n",
    "    auc = roc_auc_score(preds_24['y'], preds_24[algo]['pred_proba'])\n",
    "    auc = round(auc, 3)\n",
    "    rocs.append((algo, auc, [fpr, tpr]))\n",
    "# sort legend by AUC\n",
    "rocs = sorted(rocs, key=lambda x: x[1], reverse=True)\n",
    "for algo, auc, [fpr, tpr] in rocs:    \n",
    "    plt.plot(fpr,tpr, label=algo+f' ({auc})', lw=lw)\n",
    "    \n",
    "# chance line\n",
    "plt.plot([0, 1], [0, 1], color='navy', label='chance line (0.5)', linestyle='--', lw=lw)\n",
    "plt.xlabel('1 - Specificity')\n",
    "plt.ylabel('Sensitivity')\n",
    "plt.text(0.7,0.3, '24 month', fontsize=12)\n",
    "plt.grid(linewidth=1.2, color='lightgray')\n",
    "plt.legend(loc='lower right')"
   ]
  },
  {
   "cell_type": "markdown",
   "id": "6688f5d5-c8cd-4677-82e4-7f6c69811fb8",
   "metadata": {},
   "source": [
    "## Temporal"
   ]
  },
  {
   "cell_type": "code",
   "execution_count": 4,
   "id": "826258ed-6bea-41aa-a848-a9ce44c5784d",
   "metadata": {},
   "outputs": [
    {
     "ename": "NameError",
     "evalue": "name 'cltf_temporal' is not defined",
     "output_type": "error",
     "traceback": [
      "\u001b[1;31m---------------------------------------------------------------------------\u001b[0m",
      "\u001b[1;31mNameError\u001b[0m                                 Traceback (most recent call last)",
      "\u001b[1;32m<ipython-input-4-2e865ec43684>\u001b[0m in \u001b[0;36m<module>\u001b[1;34m\u001b[0m\n\u001b[0;32m      1\u001b[0m \u001b[0mpreds_temporal\u001b[0m \u001b[1;33m=\u001b[0m \u001b[0mjoblib\u001b[0m\u001b[1;33m.\u001b[0m\u001b[0mload\u001b[0m\u001b[1;33m(\u001b[0m\u001b[1;34m'predictions/predictions_temporal.joblib'\u001b[0m\u001b[1;33m)\u001b[0m\u001b[1;33m\u001b[0m\u001b[1;33m\u001b[0m\u001b[0m\n\u001b[0;32m      2\u001b[0m \u001b[1;33m\u001b[0m\u001b[0m\n\u001b[1;32m----> 3\u001b[1;33m \u001b[0mcltf_temporal\u001b[0m\u001b[1;33m.\u001b[0m\u001b[0mfit\u001b[0m\u001b[1;33m(\u001b[0m\u001b[0mX_train_temporal\u001b[0m\u001b[1;33m)\u001b[0m\u001b[1;33m\u001b[0m\u001b[1;33m\u001b[0m\u001b[0m\n\u001b[0m\u001b[0;32m      4\u001b[0m \u001b[1;33m\u001b[0m\u001b[0m\n\u001b[0;32m      5\u001b[0m \u001b[1;31m# Calculate probability thresholds\u001b[0m\u001b[1;33m\u001b[0m\u001b[1;33m\u001b[0m\u001b[1;33m\u001b[0m\u001b[0m\n",
      "\u001b[1;31mNameError\u001b[0m: name 'cltf_temporal' is not defined"
     ]
    }
   ],
   "source": [
    "preds_temporal = joblib.load('predictions/predictions_temporal.joblib')\n",
    "\n",
    "cltf_temporal.fit(X_train_temporal)\n",
    "\n",
    "# Calculate probability thresholds\n",
    "\n",
    "for algo, preds in preds_temporal.items():\n",
    "    if algo == 'y':\n",
    "        continue\n",
    "    threshold = youden_index(preds_temporal['y'], preds['pred_proba'])\n",
    "    preds['threshold'] = threshold\n",
    "    preds['pred'] = preds['pred_proba'] >= threshold\n",
    "\n",
    "# Get threshold to categorize as 1 (CKD)\n",
    "threshold_temporal = pd.concat([get_threshold_table(preds) for preds in [preds_temporal]])\n",
    "pd.set_option('display.float_format', lambda x: '%.5f' % x)\n",
    "threshold_temporal\n",
    "\n",
    "metrics_temporal_list = []\n",
    "\n",
    "y_truth = preds_temporal['y']\n",
    "for algo, preds in preds_temporal.items():\n",
    "    if algo == 'y':\n",
    "        continue\n",
    "        \n",
    "    y_pred = preds['pred']\n",
    "    y_pred_proba = preds['pred_proba']\n",
    "    \n",
    "    acc = accuracy_score(y_truth, y_pred)\n",
    "    f1 = f1_score(y_truth, y_pred)\n",
    "    prec = precision_score(y_truth, y_pred)\n",
    "    rec = recall_score(y_truth, y_pred)\n",
    "    spec = specificity(y_truth, y_pred)\n",
    "    roc = roc_auc_score(y_truth, y_pred_proba)\n",
    "    \n",
    "    row = [algo, acc, f1, prec, rec, spec, roc]\n",
    "    metrics_temporal_list.append(row)\n",
    "    \n",
    "cols = ['Algorithm', 'Accuracy', 'F1', 'Precision', 'Recall', 'Specificiy', 'ROC_AUC']\n",
    "metrics_temporal = pd.DataFrame(metrics_temporal_list, columns=cols)\n",
    "metrics_temporal.sort_values('ROC_AUC')\n",
    "\n",
    "# Plot ROC\n",
    "\n",
    "fig = plt.figure(figsize=(6,6))\n",
    "lw = 2\n",
    "\n",
    "# ML algos\n",
    "rocs = []\n",
    "for algo, model in preds_temporal.items():\n",
    "    if algo == 'y':\n",
    "        continue\n",
    "    fpr, tpr, thresh = roc_curve(preds_temporal['y'], preds_temporal[algo]['pred_proba'])\n",
    "    auc = roc_auc_score(preds_temporal['y'], preds_temporal[algo]['pred_proba'])\n",
    "    auc = round(auc, 3)\n",
    "    rocs.append((algo, auc, [fpr, tpr]))\n",
    "# sort legend by AUC\n",
    "rocs = sorted(rocs, key=lambda x: x[1], reverse=True)\n",
    "for algo, auc, [fpr, tpr] in rocs:    \n",
    "    plt.plot(fpr,tpr, label=algo+f' ({auc})', lw=lw)\n",
    "    \n",
    "# chance line\n",
    "plt.plot([0, 1], [0, 1], color='navy', label='chance line (0.5)', linestyle='--', lw=lw)\n",
    "plt.xlabel('1 - Specificity')\n",
    "plt.ylabel('Sensitivity')\n",
    "plt.text(0.7,0.3, 'Temporal', fontsize=12)\n",
    "plt.grid(linewidth=1.2, color='lightgray')\n",
    "plt.legend(loc='lower right')"
   ]
  }
 ],
 "metadata": {
  "kernelspec": {
   "display_name": "Python 3",
   "language": "python",
   "name": "python3"
  },
  "language_info": {
   "codemirror_mode": {
    "name": "ipython",
    "version": 3
   },
   "file_extension": ".py",
   "mimetype": "text/x-python",
   "name": "python",
   "nbconvert_exporter": "python",
   "pygments_lexer": "ipython3",
   "version": "3.8.8"
  }
 },
 "nbformat": 4,
 "nbformat_minor": 5
}
