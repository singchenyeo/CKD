{
 "cells": [
  {
   "cell_type": "code",
   "execution_count": 3,
   "id": "46079894-95fa-4d9e-924d-f3be95b49cac",
   "metadata": {},
   "outputs": [],
   "source": [
    "import pandas as pd\n",
    "import numpy as np\n",
    "import matplotlib.pyplot as plt\n",
    "import seaborn as sns\n",
    "from matplotlib import rcParams\n",
    "rcParams['figure.figsize'] = 11.7,8.27 # figure size in inches\n",
    "\n",
    "pd.options.mode.chained_assignment = None  # default='warn'\n",
    "pd.set_option('display.max_colwidth', None)\n",
    "pd.set_option('display.max_rows', 500) \n",
    "pd.set_option('display.max_columns', 30) \n",
    "\n",
    "from IPython.core.interactiveshell import InteractiveShell\n",
    "InteractiveShell.ast_node_interactivity = \"all\"\n",
    "\n",
    "%config Completer.use_jedi = False"
   ]
  },
  {
   "cell_type": "code",
   "execution_count": 3,
   "id": "2cd0894a-2e5e-4d8d-932a-2e4756dde36f",
   "metadata": {},
   "outputs": [],
   "source": [
    "def explore_data(df_input):\n",
    "    print(df_input.head())\n",
    "    print()\n",
    "    \n",
    "    df_input.info()\n",
    "    print()\n",
    "    \n",
    "    print(df_input.describe())    \n",
    "    print()\n",
    "    \n",
    "    # Check id\n",
    "    print('Check if all id has the same amount of record')\n",
    "    df = pd.DataFrame(df_input['id'].value_counts())\n",
    "    print('Count of frequency of record')\n",
    "    print(df['id'].value_counts().sort_index())\n",
    "    print()    \n",
    "    print('Number of unique subject = ' + str(df.shape[0]))\n",
    "    print()\n",
    "    \n",
    "    # Check time\n",
    "    print('Count of frequency of time point:')\n",
    "    df = pd.DataFrame(df_input['time'].value_counts())\n",
    "    print(df['time'].value_counts().sort_index())\n",
    "    print()    \n",
    "    print('Top 10 time points')\n",
    "    print(df_input['time'].value_counts().sort_values(ascending=False)[:10])\n",
    "    print()\n",
    "    \n",
    "    # Check if each id has multiple value at the same time point\n",
    "    df_countunique = df_input.groupby(['id','time']).size().reset_index().rename(columns={0:'count'})\n",
    "    print('No multiple record of same id at same time point: ' + str(df_countunique['count'].min() == df_countunique['count'].max()) ) \n",
    "    print()\n",
    "        \n",
    "    # Plot histogram of value\n",
    "    sns.histplot(df_input['value'])"
   ]
  },
  {
   "cell_type": "markdown",
   "id": "64be5846-08c2-4674-80b6-cff995f35cbe",
   "metadata": {},
   "source": [
    "# Creatinine"
   ]
  },
  {
   "cell_type": "code",
   "execution_count": 44,
   "id": "07de84b8-1f5c-4aff-88cc-0af5e330f6ee",
   "metadata": {},
   "outputs": [
    {
     "data": {
      "application/javascript": [
       "\n",
       "        if (window._pyforest_update_imports_cell) { window._pyforest_update_imports_cell('import seaborn as sns\\nimport pandas as pd'); }\n",
       "    "
      ],
      "text/plain": [
       "<IPython.core.display.Javascript object>"
      ]
     },
     "metadata": {},
     "output_type": "display_data"
    },
    {
     "name": "stdout",
     "output_type": "stream",
     "text": [
      "   id  value  time\n",
      "0   0   1.29     0\n",
      "1   0   1.15   107\n",
      "2   0   1.44   286\n",
      "3   0   1.23   382\n",
      "4   0   1.08   580\n",
      "\n",
      "<class 'pandas.core.frame.DataFrame'>\n",
      "RangeIndex: 1439 entries, 0 to 1438\n",
      "Data columns (total 3 columns):\n",
      " #   Column  Non-Null Count  Dtype  \n",
      "---  ------  --------------  -----  \n",
      " 0   id      1439 non-null   int64  \n",
      " 1   value   1439 non-null   float64\n",
      " 2   time    1439 non-null   int64  \n",
      "dtypes: float64(1), int64(2)\n",
      "memory usage: 33.9 KB\n",
      "\n",
      "                id        value         time\n",
      "count  1439.000000  1439.000000  1439.000000\n",
      "mean    148.706046     1.328999   293.828353\n",
      "std      87.180040     0.357971   223.600131\n",
      "min       0.000000     0.240000     0.000000\n",
      "25%      73.500000     1.080000    84.000000\n",
      "50%     149.000000     1.290000   296.000000\n",
      "75%     225.000000     1.530000   488.500000\n",
      "max     299.000000     3.020000   699.000000\n",
      "\n",
      "Check if all id has the same amount of record\n"
     ]
    },
    {
     "data": {
      "application/javascript": [
       "\n",
       "        if (window._pyforest_update_imports_cell) { window._pyforest_update_imports_cell('import seaborn as sns\\nimport pandas as pd'); }\n",
       "    "
      ],
      "text/plain": [
       "<IPython.core.display.Javascript object>"
      ]
     },
     "metadata": {},
     "output_type": "display_data"
    },
    {
     "name": "stdout",
     "output_type": "stream",
     "text": [
      "Count of frequency of record\n",
      "2      2\n",
      "3     39\n",
      "4     95\n",
      "5     90\n",
      "6     43\n",
      "7     21\n",
      "8      8\n",
      "9      1\n",
      "10     1\n",
      "Name: id, dtype: int64\n",
      "\n",
      "Number of unique subject = 300\n",
      "\n",
      "Count of frequency of time point:\n"
     ]
    },
    {
     "data": {
      "application/javascript": [
       "\n",
       "        if (window._pyforest_update_imports_cell) { window._pyforest_update_imports_cell('import seaborn as sns\\nimport pandas as pd'); }\n",
       "    "
      ],
      "text/plain": [
       "<IPython.core.display.Javascript object>"
      ]
     },
     "metadata": {},
     "output_type": "display_data"
    },
    {
     "name": "stdout",
     "output_type": "stream",
     "text": [
      "1      210\n",
      "2      160\n",
      "3       81\n",
      "4       39\n",
      "5       19\n",
      "6        9\n",
      "7        2\n",
      "8        1\n",
      "9        2\n",
      "10       1\n",
      "11       1\n",
      "300      1\n",
      "Name: time, dtype: int64\n",
      "\n",
      "Top 10 time points\n",
      "0      300\n",
      "184     11\n",
      "182     10\n",
      "364      9\n",
      "370      9\n",
      "377      8\n",
      "416      7\n",
      "1        7\n",
      "112      6\n",
      "384      6\n",
      "Name: time, dtype: int64\n",
      "\n",
      "No multiple record of same id at same time point: True\n",
      "\n"
     ]
    },
    {
     "data": {
      "application/javascript": [
       "\n",
       "        if (window._pyforest_update_imports_cell) { window._pyforest_update_imports_cell('import seaborn as sns\\nimport pandas as pd'); }\n",
       "    "
      ],
      "text/plain": [
       "<IPython.core.display.Javascript object>"
      ]
     },
     "metadata": {},
     "output_type": "display_data"
    },
    {
     "data": {
      "image/png": "[encoded data removed]",
      "text/plain": [
       "<Figure size 432x288 with 1 Axes>"
      ]
     },
     "metadata": {
      "needs_background": "light"
     },
     "output_type": "display_data"
    }
   ],
   "source": [
    "df_input = pd.read_csv('CSV/T_creatinine.csv')\n",
    "explore_data(df_input)"
   ]
  },
  {
   "cell_type": "markdown",
   "id": "c084c07e-7863-4125-bbc1-8c145f1c2d21",
   "metadata": {},
   "source": [
    "# DBP"
   ]
  },
  {
   "cell_type": "code",
   "execution_count": 45,
   "id": "5159d887-871e-465a-9e2a-a53825da103a",
   "metadata": {},
   "outputs": [
    {
     "data": {
      "application/javascript": [
       "\n",
       "        if (window._pyforest_update_imports_cell) { window._pyforest_update_imports_cell('import seaborn as sns\\nimport pandas as pd'); }\n",
       "    "
      ],
      "text/plain": [
       "<IPython.core.display.Javascript object>"
      ]
     },
     "metadata": {},
     "output_type": "display_data"
    },
    {
     "name": "stdout",
     "output_type": "stream",
     "text": [
      "   id  value  time\n",
      "0   0  95.32     0\n",
      "1   0  83.98    98\n",
      "2   0  65.97   279\n",
      "3   0  83.41   380\n",
      "4   0  86.39   475\n",
      "\n",
      "<class 'pandas.core.frame.DataFrame'>\n",
      "RangeIndex: 1821 entries, 0 to 1820\n",
      "Data columns (total 3 columns):\n",
      " #   Column  Non-Null Count  Dtype  \n",
      "---  ------  --------------  -----  \n",
      " 0   id      1821 non-null   int64  \n",
      " 1   value   1821 non-null   float64\n",
      " 2   time    1821 non-null   int64  \n",
      "dtypes: float64(1), int64(2)\n",
      "memory usage: 42.8 KB\n",
      "\n",
      "                id        value         time\n",
      "count  1821.000000  1821.000000  1821.000000\n",
      "mean    149.403624    79.518583   305.311917\n",
      "std      87.045934    10.178676   221.674079\n",
      "min       0.000000    44.950000     0.000000\n",
      "25%      74.000000    72.830000    97.000000\n",
      "50%     150.000000    79.050000   301.000000\n",
      "75%     226.000000    86.170000   496.000000\n",
      "max     299.000000   112.930000   699.000000\n",
      "\n",
      "Check if all id has the same amount of record\n"
     ]
    },
    {
     "data": {
      "application/javascript": [
       "\n",
       "        if (window._pyforest_update_imports_cell) { window._pyforest_update_imports_cell('import seaborn as sns\\nimport pandas as pd'); }\n",
       "    "
      ],
      "text/plain": [
       "<IPython.core.display.Javascript object>"
      ]
     },
     "metadata": {},
     "output_type": "display_data"
    },
    {
     "name": "stdout",
     "output_type": "stream",
     "text": [
      "Count of frequency of record\n",
      "3     15\n",
      "4     39\n",
      "5     55\n",
      "6     57\n",
      "7     73\n",
      "8     59\n",
      "9      1\n",
      "11     1\n",
      "Name: id, dtype: int64\n",
      "\n",
      "Number of unique subject = 300\n",
      "\n",
      "Count of frequency of time point:\n"
     ]
    },
    {
     "data": {
      "application/javascript": [
       "\n",
       "        if (window._pyforest_update_imports_cell) { window._pyforest_update_imports_cell('import seaborn as sns\\nimport pandas as pd'); }\n",
       "    "
      ],
      "text/plain": [
       "<IPython.core.display.Javascript object>"
      ]
     },
     "metadata": {},
     "output_type": "display_data"
    },
    {
     "name": "stdout",
     "output_type": "stream",
     "text": [
      "1      170\n",
      "2      147\n",
      "3      109\n",
      "4       67\n",
      "5       36\n",
      "6       19\n",
      "7        4\n",
      "8        5\n",
      "9        6\n",
      "10       2\n",
      "11       1\n",
      "15       1\n",
      "300      1\n",
      "Name: time, dtype: int64\n",
      "\n",
      "Top 10 time points\n",
      "0      300\n",
      "91      15\n",
      "182     11\n",
      "183     10\n",
      "364     10\n",
      "370      9\n",
      "560      9\n",
      "552      9\n",
      "363      9\n",
      "426      9\n",
      "Name: time, dtype: int64\n",
      "\n",
      "No multiple record of same id at same time point: True\n",
      "\n"
     ]
    },
    {
     "data": {
      "application/javascript": [
       "\n",
       "        if (window._pyforest_update_imports_cell) { window._pyforest_update_imports_cell('import seaborn as sns\\nimport pandas as pd'); }\n",
       "    "
      ],
      "text/plain": [
       "<IPython.core.display.Javascript object>"
      ]
     },
     "metadata": {},
     "output_type": "display_data"
    },
    {
     "data": {
      "image/png": "[encoded data removed]",
      "text/plain": [
       "<Figure size 432x288 with 1 Axes>"
      ]
     },
     "metadata": {
      "needs_background": "light"
     },
     "output_type": "display_data"
    }
   ],
   "source": [
    "df_input = pd.read_csv('CSV/T_DBP.csv')\n",
    "explore_data(df_input)"
   ]
  },
  {
   "cell_type": "markdown",
   "id": "1c5e389c-0bbe-493c-a8f5-e6c9026e222f",
   "metadata": {},
   "source": [
    "# demo"
   ]
  },
  {
   "cell_type": "code",
   "execution_count": 1,
   "id": "041cdcb3-1ddf-453a-bf69-23688d2191a2",
   "metadata": {},
   "outputs": [
    {
     "data": {
      "application/javascript": [
       "\n",
       "        if (window._pyforest_update_imports_cell) { window._pyforest_update_imports_cell('import pandas as pd'); }\n",
       "    "
      ],
      "text/plain": [
       "<IPython.core.display.Javascript object>"
      ]
     },
     "metadata": {},
     "output_type": "display_data"
    },
    {
     "name": "stdout",
     "output_type": "stream",
     "text": [
      "<class 'pandas.core.frame.DataFrame'>\n",
      "RangeIndex: 300 entries, 0 to 299\n",
      "Data columns (total 4 columns):\n",
      " #   Column  Non-Null Count  Dtype \n",
      "---  ------  --------------  ----- \n",
      " 0   id      300 non-null    int64 \n",
      " 1   race    300 non-null    object\n",
      " 2   gender  300 non-null    object\n",
      " 3   age     300 non-null    int64 \n",
      "dtypes: int64(2), object(2)\n",
      "memory usage: 9.5+ KB\n"
     ]
    }
   ],
   "source": [
    "df_demo = pd.read_csv('CSV/T_demo.csv')\n",
    "df_demo.head()\n",
    "df_demo.info()"
   ]
  },
  {
   "cell_type": "code",
   "execution_count": 5,
   "id": "f1b13372-f55c-467f-b7f8-83f58c11a0fd",
   "metadata": {},
   "outputs": [
    {
     "data": {
      "text/plain": [
       "White       226\n",
       "Unknown      26\n",
       "Black        24\n",
       "Asian        17\n",
       "Hispanic      7\n",
       "Name: race, dtype: int64"
      ]
     },
     "execution_count": 5,
     "metadata": {},
     "output_type": "execute_result"
    }
   ],
   "source": [
    "df_demo['race'].value_counts()"
   ]
  },
  {
   "cell_type": "code",
   "execution_count": 6,
   "id": "8a5ffdbe-fe10-4f24-bd7d-d7d855efb116",
   "metadata": {},
   "outputs": [
    {
     "data": {
      "text/plain": [
       "White       75.333333\n",
       "Unknown      8.666667\n",
       "Black        8.000000\n",
       "Asian        5.666667\n",
       "Hispanic     2.333333\n",
       "Name: race, dtype: float64"
      ]
     },
     "execution_count": 6,
     "metadata": {},
     "output_type": "execute_result"
    }
   ],
   "source": [
    "df_demo['race'].value_counts() / 300 * 100"
   ]
  },
  {
   "cell_type": "code",
   "execution_count": 7,
   "id": "fd837928-522b-4f57-940b-a74161ac2a07",
   "metadata": {},
   "outputs": [
    {
     "data": {
      "text/plain": [
       "Female    58.666667\n",
       "Male      41.333333\n",
       "Name: gender, dtype: float64"
      ]
     },
     "execution_count": 7,
     "metadata": {},
     "output_type": "execute_result"
    }
   ],
   "source": [
    "df_demo['gender'].value_counts() / 300 * 100"
   ]
  },
  {
   "cell_type": "code",
   "execution_count": 103,
   "id": "f986412a-72e3-4e3f-b568-41c9d5b652c0",
   "metadata": {},
   "outputs": [
    {
     "data": {
      "text/plain": [
       "<AxesSubplot:xlabel='age', ylabel='Count'>"
      ]
     },
     "execution_count": 103,
     "metadata": {},
     "output_type": "execute_result"
    },
    {
     "data": {
      "image/png": "[encoded data removed]",
      "text/plain": [
       "<Figure size 842.4x595.44 with 1 Axes>"
      ]
     },
     "metadata": {
      "needs_background": "light"
     },
     "output_type": "display_data"
    }
   ],
   "source": [
    "sns.histplot(df_demo['age'])"
   ]
  },
  {
   "cell_type": "code",
   "execution_count": 4,
   "id": "7a83eeab-9584-411c-9ff6-8d3e01422cb7",
   "metadata": {},
   "outputs": [
    {
     "data": {
      "text/plain": [
       "70.38333333333334"
      ]
     },
     "execution_count": 4,
     "metadata": {},
     "output_type": "execute_result"
    },
    {
     "data": {
      "text/plain": [
       "71.0"
      ]
     },
     "execution_count": 4,
     "metadata": {},
     "output_type": "execute_result"
    },
    {
     "data": {
      "text/plain": [
       "9.247058045519827"
      ]
     },
     "execution_count": 4,
     "metadata": {},
     "output_type": "execute_result"
    }
   ],
   "source": [
    "df_demo['age'].mean()\n",
    "df_demo['age'].median()\n",
    "df_demo['age'].std()"
   ]
  },
  {
   "cell_type": "markdown",
   "id": "7d1be354-2f97-4461-b942-3c93a1e917b2",
   "metadata": {},
   "source": [
    "# glucose"
   ]
  },
  {
   "cell_type": "code",
   "execution_count": 26,
   "id": "f83ae9c7-900e-4fe0-b444-071e1d3c2262",
   "metadata": {},
   "outputs": [
    {
     "data": {
      "application/javascript": [
       "\n",
       "        if (window._pyforest_update_imports_cell) { window._pyforest_update_imports_cell('import seaborn as sns\\nimport pandas as pd'); }\n",
       "    "
      ],
      "text/plain": [
       "<IPython.core.display.Javascript object>"
      ]
     },
     "metadata": {},
     "output_type": "display_data"
    },
    {
     "name": "stdout",
     "output_type": "stream",
     "text": [
      "   id  value  time\n",
      "0   0   6.24     0\n",
      "1   0   7.20   107\n",
      "2   0   7.01   286\n",
      "3   0   6.89   382\n",
      "4   0   5.62   580\n",
      "\n",
      "<class 'pandas.core.frame.DataFrame'>\n",
      "RangeIndex: 1556 entries, 0 to 1555\n",
      "Data columns (total 3 columns):\n",
      " #   Column  Non-Null Count  Dtype  \n",
      "---  ------  --------------  -----  \n",
      " 0   id      1556 non-null   int64  \n",
      " 1   value   1556 non-null   float64\n",
      " 2   time    1556 non-null   int64  \n",
      "dtypes: float64(1), int64(2)\n",
      "memory usage: 36.6 KB\n",
      "\n",
      "                id        value         time\n",
      "count  1556.000000  1556.000000  1556.000000\n",
      "mean    151.327121     6.694833   291.203085\n",
      "std      87.218956     1.599058   224.893867\n",
      "min       0.000000     2.890000     0.000000\n",
      "25%      77.000000     5.620000    69.000000\n",
      "50%     152.000000     6.360000   295.000000\n",
      "75%     227.000000     7.440000   488.000000\n",
      "max     299.000000    16.610000   699.000000\n",
      "\n",
      "Check if all id has the same amount of record\n"
     ]
    },
    {
     "data": {
      "application/javascript": [
       "\n",
       "        if (window._pyforest_update_imports_cell) { window._pyforest_update_imports_cell('import seaborn as sns\\nimport pandas as pd'); }\n",
       "    "
      ],
      "text/plain": [
       "<IPython.core.display.Javascript object>"
      ]
     },
     "metadata": {},
     "output_type": "display_data"
    },
    {
     "name": "stdout",
     "output_type": "stream",
     "text": [
      "Count of frequency of record\n",
      "3    38\n",
      "4    72\n",
      "5    75\n",
      "6    52\n",
      "7    37\n",
      "8    26\n",
      "Name: id, dtype: int64\n",
      "\n",
      "Number of unique subject = 300\n",
      "\n",
      "Count of frequency of time point:\n"
     ]
    },
    {
     "data": {
      "application/javascript": [
       "\n",
       "        if (window._pyforest_update_imports_cell) { window._pyforest_update_imports_cell('import seaborn as sns\\nimport pandas as pd'); }\n",
       "    "
      ],
      "text/plain": [
       "<IPython.core.display.Javascript object>"
      ]
     },
     "metadata": {},
     "output_type": "display_data"
    },
    {
     "name": "stdout",
     "output_type": "stream",
     "text": [
      "1      197\n",
      "2      173\n",
      "3       83\n",
      "4       39\n",
      "5       19\n",
      "6        9\n",
      "7        6\n",
      "8        5\n",
      "9        2\n",
      "10       1\n",
      "12       1\n",
      "14       1\n",
      "23       1\n",
      "300      1\n",
      "Name: time, dtype: int64\n",
      "\n",
      "Top 10 time points\n",
      "0      300\n",
      "1       23\n",
      "2       14\n",
      "365     12\n",
      "182     10\n",
      "183      9\n",
      "546      9\n",
      "370      8\n",
      "97       8\n",
      "184      8\n",
      "Name: time, dtype: int64\n",
      "\n",
      "No multiple record of same id at same time point: True\n",
      "\n"
     ]
    },
    {
     "data": {
      "application/javascript": [
       "\n",
       "        if (window._pyforest_update_imports_cell) { window._pyforest_update_imports_cell('import seaborn as sns\\nimport pandas as pd'); }\n",
       "    "
      ],
      "text/plain": [
       "<IPython.core.display.Javascript object>"
      ]
     },
     "metadata": {},
     "output_type": "display_data"
    },
    {
     "data": {
      "image/png": "[encoded data removed]",
      "text/plain": [
       "<Figure size 432x288 with 1 Axes>"
      ]
     },
     "metadata": {
      "needs_background": "light"
     },
     "output_type": "display_data"
    }
   ],
   "source": [
    "df_input = pd.read_csv('CSV/T_glucose.csv')\n",
    "explore_data(df_input)"
   ]
  },
  {
   "cell_type": "markdown",
   "id": "bb60daf8-7cec-40d4-a593-c0daa5de8715",
   "metadata": {},
   "source": [
    "# HGB"
   ]
  },
  {
   "cell_type": "code",
   "execution_count": 4,
   "id": "d31e6122-656a-459a-a89f-2538209d7e59",
   "metadata": {},
   "outputs": [
    {
     "name": "stdout",
     "output_type": "stream",
     "text": [
      "   id  value  time\n",
      "0   0  13.51     0\n",
      "1   0  13.39   107\n",
      "2   0  12.84   286\n",
      "3   0  13.32   382\n",
      "4   0  13.53   688\n",
      "\n",
      "<class 'pandas.core.frame.DataFrame'>\n",
      "RangeIndex: 2025 entries, 0 to 2024\n",
      "Data columns (total 3 columns):\n",
      " #   Column  Non-Null Count  Dtype  \n",
      "---  ------  --------------  -----  \n",
      " 0   id      2025 non-null   int64  \n",
      " 1   value   2025 non-null   float64\n",
      " 2   time    2025 non-null   int64  \n",
      "dtypes: float64(1), int64(2)\n",
      "memory usage: 47.6 KB\n",
      "\n",
      "                id        value         time\n",
      "count  2025.000000  2025.000000  2025.000000\n",
      "mean    147.617284    13.825185   598.223704\n",
      "std      87.979281     1.644946   425.010281\n",
      "min       0.000000     8.820000     0.000000\n",
      "25%      70.000000    12.670000   198.000000\n",
      "50%     147.000000    13.920000   599.000000\n",
      "75%     226.000000    14.980000   954.000000\n",
      "max     299.000000    19.000000  1429.000000\n",
      "\n",
      "Check if all id has the same amount of record\n",
      "Count of frequency of record\n",
      "3     21\n",
      "4     35\n",
      "5     55\n",
      "6     54\n",
      "7     45\n",
      "8     24\n",
      "9     22\n",
      "10    18\n",
      "11     9\n",
      "12     6\n",
      "13     2\n",
      "14     4\n",
      "15     1\n",
      "16     3\n",
      "22     1\n",
      "Name: id, dtype: int64\n",
      "\n",
      "Number of unique subject = 300\n",
      "\n",
      "Count of frequency of time point:\n",
      "1      514\n",
      "2      249\n",
      "3      112\n",
      "4       56\n",
      "5       16\n",
      "6        1\n",
      "7        6\n",
      "8        2\n",
      "9        1\n",
      "300      1\n",
      "Name: time, dtype: int64\n",
      "\n",
      "Top 10 time points\n",
      "0      300\n",
      "182      9\n",
      "1        8\n",
      "742      8\n",
      "365      7\n",
      "735      7\n",
      "183      7\n",
      "364      7\n",
      "184      7\n",
      "370      7\n",
      "Name: time, dtype: int64\n",
      "\n",
      "No multiple record of same id at same time point: True\n",
      "\n"
     ]
    },
    {
     "data": {
      "image/png": "[encoded data removed]",
      "text/plain": [
       "<Figure size 842.4x595.44 with 1 Axes>"
      ]
     },
     "metadata": {
      "needs_background": "light"
     },
     "output_type": "display_data"
    }
   ],
   "source": [
    "df_input = pd.read_csv('CSV/T_HGB.csv')\n",
    "explore_data(df_input)"
   ]
  },
  {
   "cell_type": "markdown",
   "id": "223c16a0-3128-427c-8c6e-e3be39ffc43a",
   "metadata": {},
   "source": [
    "# ldl"
   ]
  },
  {
   "cell_type": "code",
   "execution_count": 28,
   "id": "f0f42551-627d-45e6-9a0d-fa5e17ff2d66",
   "metadata": {},
   "outputs": [
    {
     "data": {
      "application/javascript": [
       "\n",
       "        if (window._pyforest_update_imports_cell) { window._pyforest_update_imports_cell('import seaborn as sns\\nimport pandas as pd'); }\n",
       "    "
      ],
      "text/plain": [
       "<IPython.core.display.Javascript object>"
      ]
     },
     "metadata": {},
     "output_type": "display_data"
    },
    {
     "name": "stdout",
     "output_type": "stream",
     "text": [
      "   id   value  time\n",
      "0   0  161.49     0\n",
      "1   0  111.39   107\n",
      "2   0  157.90   382\n",
      "3   1   89.57     0\n",
      "4   1   98.73   221\n",
      "\n",
      "<class 'pandas.core.frame.DataFrame'>\n",
      "RangeIndex: 1261 entries, 0 to 1260\n",
      "Data columns (total 3 columns):\n",
      " #   Column  Non-Null Count  Dtype  \n",
      "---  ------  --------------  -----  \n",
      " 0   id      1261 non-null   int64  \n",
      " 1   value   1261 non-null   float64\n",
      " 2   time    1261 non-null   int64  \n",
      "dtypes: float64(1), int64(2)\n",
      "memory usage: 29.7 KB\n",
      "\n",
      "                id        value         time\n",
      "count  1261.000000  1261.000000  1261.000000\n",
      "mean    151.641554    87.558795   287.464711\n",
      "std      87.811658    28.156104   225.557967\n",
      "min       0.000000    26.100000     0.000000\n",
      "25%      75.000000    67.290000     6.000000\n",
      "50%     154.000000    83.960000   286.000000\n",
      "75%     228.000000   105.140000   483.000000\n",
      "max     299.000000   198.590000   699.000000\n",
      "\n",
      "Check if all id has the same amount of record\n"
     ]
    },
    {
     "data": {
      "application/javascript": [
       "\n",
       "        if (window._pyforest_update_imports_cell) { window._pyforest_update_imports_cell('import seaborn as sns\\nimport pandas as pd'); }\n",
       "    "
      ],
      "text/plain": [
       "<IPython.core.display.Javascript object>"
      ]
     },
     "metadata": {},
     "output_type": "display_data"
    },
    {
     "name": "stdout",
     "output_type": "stream",
     "text": [
      "Count of frequency of record\n",
      "3     81\n",
      "4    127\n",
      "5     60\n",
      "6     19\n",
      "7      8\n",
      "8      5\n",
      "Name: id, dtype: int64\n",
      "\n",
      "Number of unique subject = 300\n",
      "\n",
      "Count of frequency of time point:\n"
     ]
    },
    {
     "data": {
      "application/javascript": [
       "\n",
       "        if (window._pyforest_update_imports_cell) { window._pyforest_update_imports_cell('import seaborn as sns\\nimport pandas as pd'); }\n",
       "    "
      ],
      "text/plain": [
       "<IPython.core.display.Javascript object>"
      ]
     },
     "metadata": {},
     "output_type": "display_data"
    },
    {
     "name": "stdout",
     "output_type": "stream",
     "text": [
      "1      230\n",
      "2      128\n",
      "3       59\n",
      "4       33\n",
      "5       19\n",
      "6        4\n",
      "7        3\n",
      "8        1\n",
      "9        2\n",
      "300      1\n",
      "Name: time, dtype: int64\n",
      "\n",
      "Top 10 time points\n",
      "0      300\n",
      "184      9\n",
      "182      9\n",
      "350      8\n",
      "364      7\n",
      "370      7\n",
      "377      7\n",
      "187      6\n",
      "181      6\n",
      "183      6\n",
      "Name: time, dtype: int64\n",
      "\n",
      "No multiple record of same id at same time point: True\n",
      "\n"
     ]
    },
    {
     "data": {
      "application/javascript": [
       "\n",
       "        if (window._pyforest_update_imports_cell) { window._pyforest_update_imports_cell('import seaborn as sns\\nimport pandas as pd'); }\n",
       "    "
      ],
      "text/plain": [
       "<IPython.core.display.Javascript object>"
      ]
     },
     "metadata": {},
     "output_type": "display_data"
    },
    {
     "data": {
      "image/png": "[encoded data removed]",
      "text/plain": [
       "<Figure size 432x288 with 1 Axes>"
      ]
     },
     "metadata": {
      "needs_background": "light"
     },
     "output_type": "display_data"
    }
   ],
   "source": [
    "df_input = pd.read_csv('CSV/T_ldl.csv')\n",
    "explore_data(df_input)"
   ]
  },
  {
   "cell_type": "markdown",
   "id": "d3ce2122-6f76-453e-9d60-e8d7755e0d70",
   "metadata": {},
   "source": [
    "# meds"
   ]
  },
  {
   "cell_type": "code",
   "execution_count": 12,
   "id": "e6e18faf-138c-4de0-a973-3d0d0325a656",
   "metadata": {},
   "outputs": [
    {
     "name": "stdout",
     "output_type": "stream",
     "text": [
      "<class 'pandas.core.frame.DataFrame'>\n",
      "RangeIndex: 2181 entries, 0 to 2180\n",
      "Data columns (total 5 columns):\n",
      " #   Column        Non-Null Count  Dtype  \n",
      "---  ------        --------------  -----  \n",
      " 0   id            2181 non-null   int64  \n",
      " 1   drug          2181 non-null   object \n",
      " 2   daily_dosage  2181 non-null   float64\n",
      " 3   start_day     2181 non-null   int64  \n",
      " 4   end_day       2181 non-null   int64  \n",
      "dtypes: float64(1), int64(3), object(1)\n",
      "memory usage: 85.3+ KB\n"
     ]
    },
    {
     "data": {
      "text/html": [
       "<div>\n",
       "<style scoped>\n",
       "    .dataframe tbody tr th:only-of-type {\n",
       "        vertical-align: middle;\n",
       "    }\n",
       "\n",
       "    .dataframe tbody tr th {\n",
       "        vertical-align: top;\n",
       "    }\n",
       "\n",
       "    .dataframe thead th {\n",
       "        text-align: right;\n",
       "    }\n",
       "</style>\n",
       "<table border=\"1\" class=\"dataframe\">\n",
       "  <thead>\n",
       "    <tr style=\"text-align: right;\">\n",
       "      <th></th>\n",
       "      <th>id</th>\n",
       "      <th>drug</th>\n",
       "      <th>daily_dosage</th>\n",
       "      <th>start_day</th>\n",
       "      <th>end_day</th>\n",
       "    </tr>\n",
       "  </thead>\n",
       "  <tbody>\n",
       "    <tr>\n",
       "      <th>0</th>\n",
       "      <td>0</td>\n",
       "      <td>atorvastatin</td>\n",
       "      <td>10.0</td>\n",
       "      <td>19</td>\n",
       "      <td>109</td>\n",
       "    </tr>\n",
       "    <tr>\n",
       "      <th>1</th>\n",
       "      <td>0</td>\n",
       "      <td>atorvastatin</td>\n",
       "      <td>10.0</td>\n",
       "      <td>117</td>\n",
       "      <td>207</td>\n",
       "    </tr>\n",
       "    <tr>\n",
       "      <th>2</th>\n",
       "      <td>0</td>\n",
       "      <td>losartan</td>\n",
       "      <td>100.0</td>\n",
       "      <td>19</td>\n",
       "      <td>289</td>\n",
       "    </tr>\n",
       "    <tr>\n",
       "      <th>3</th>\n",
       "      <td>0</td>\n",
       "      <td>losartan</td>\n",
       "      <td>100.0</td>\n",
       "      <td>403</td>\n",
       "      <td>493</td>\n",
       "    </tr>\n",
       "    <tr>\n",
       "      <th>4</th>\n",
       "      <td>0</td>\n",
       "      <td>losartan</td>\n",
       "      <td>100.0</td>\n",
       "      <td>587</td>\n",
       "      <td>677</td>\n",
       "    </tr>\n",
       "  </tbody>\n",
       "</table>\n",
       "</div>"
      ],
      "text/plain": [
       "   id          drug  daily_dosage  start_day  end_day\n",
       "0   0  atorvastatin          10.0         19      109\n",
       "1   0  atorvastatin          10.0        117      207\n",
       "2   0      losartan         100.0         19      289\n",
       "3   0      losartan         100.0        403      493\n",
       "4   0      losartan         100.0        587      677"
      ]
     },
     "execution_count": 12,
     "metadata": {},
     "output_type": "execute_result"
    },
    {
     "data": {
      "text/html": [
       "<div>\n",
       "<style scoped>\n",
       "    .dataframe tbody tr th:only-of-type {\n",
       "        vertical-align: middle;\n",
       "    }\n",
       "\n",
       "    .dataframe tbody tr th {\n",
       "        vertical-align: top;\n",
       "    }\n",
       "\n",
       "    .dataframe thead th {\n",
       "        text-align: right;\n",
       "    }\n",
       "</style>\n",
       "<table border=\"1\" class=\"dataframe\">\n",
       "  <thead>\n",
       "    <tr style=\"text-align: right;\">\n",
       "      <th></th>\n",
       "      <th>id</th>\n",
       "      <th>daily_dosage</th>\n",
       "      <th>start_day</th>\n",
       "      <th>end_day</th>\n",
       "    </tr>\n",
       "  </thead>\n",
       "  <tbody>\n",
       "    <tr>\n",
       "      <th>count</th>\n",
       "      <td>2181.000000</td>\n",
       "      <td>2181.000000</td>\n",
       "      <td>2181.000000</td>\n",
       "      <td>2181.000000</td>\n",
       "    </tr>\n",
       "    <tr>\n",
       "      <th>mean</th>\n",
       "      <td>144.054562</td>\n",
       "      <td>276.653141</td>\n",
       "      <td>291.254470</td>\n",
       "      <td>370.996332</td>\n",
       "    </tr>\n",
       "    <tr>\n",
       "      <th>std</th>\n",
       "      <td>87.194538</td>\n",
       "      <td>478.411077</td>\n",
       "      <td>191.087155</td>\n",
       "      <td>190.575803</td>\n",
       "    </tr>\n",
       "    <tr>\n",
       "      <th>min</th>\n",
       "      <td>0.000000</td>\n",
       "      <td>2.000000</td>\n",
       "      <td>-78.000000</td>\n",
       "      <td>-4.000000</td>\n",
       "    </tr>\n",
       "    <tr>\n",
       "      <th>25%</th>\n",
       "      <td>68.000000</td>\n",
       "      <td>20.000000</td>\n",
       "      <td>126.000000</td>\n",
       "      <td>208.000000</td>\n",
       "    </tr>\n",
       "    <tr>\n",
       "      <th>50%</th>\n",
       "      <td>140.000000</td>\n",
       "      <td>50.000000</td>\n",
       "      <td>290.000000</td>\n",
       "      <td>377.000000</td>\n",
       "    </tr>\n",
       "    <tr>\n",
       "      <th>75%</th>\n",
       "      <td>222.000000</td>\n",
       "      <td>320.000000</td>\n",
       "      <td>448.000000</td>\n",
       "      <td>534.000000</td>\n",
       "    </tr>\n",
       "    <tr>\n",
       "      <th>max</th>\n",
       "      <td>299.000000</td>\n",
       "      <td>2550.000000</td>\n",
       "      <td>691.000000</td>\n",
       "      <td>698.000000</td>\n",
       "    </tr>\n",
       "  </tbody>\n",
       "</table>\n",
       "</div>"
      ],
      "text/plain": [
       "                id  daily_dosage    start_day      end_day\n",
       "count  2181.000000   2181.000000  2181.000000  2181.000000\n",
       "mean    144.054562    276.653141   291.254470   370.996332\n",
       "std      87.194538    478.411077   191.087155   190.575803\n",
       "min       0.000000      2.000000   -78.000000    -4.000000\n",
       "25%      68.000000     20.000000   126.000000   208.000000\n",
       "50%     140.000000     50.000000   290.000000   377.000000\n",
       "75%     222.000000    320.000000   448.000000   534.000000\n",
       "max     299.000000   2550.000000   691.000000   698.000000"
      ]
     },
     "execution_count": 12,
     "metadata": {},
     "output_type": "execute_result"
    }
   ],
   "source": [
    "df_input = pd.read_csv('CSV/T_meds.csv')\n",
    "df_input.info()\n",
    "df_input.head()\n",
    "df_input.describe()"
   ]
  },
  {
   "cell_type": "code",
   "execution_count": 123,
   "id": "881f0427-359f-4dba-8903-8090a1c15081",
   "metadata": {},
   "outputs": [
    {
     "name": "stdout",
     "output_type": "stream",
     "text": [
      "no. of unique subject: 272\n"
     ]
    }
   ],
   "source": [
    "print('no. of unique subject: ' + str(len(df_input['id'].unique()))) "
   ]
  },
  {
   "cell_type": "code",
   "execution_count": 2,
   "id": "8a7dadd8-9f3b-438a-9a4d-c2c4e708d56f",
   "metadata": {},
   "outputs": [
    {
     "name": "stdout",
     "output_type": "stream",
     "text": [
      "no. of unique drug: 21\n"
     ]
    }
   ],
   "source": [
    "print('no. of unique drug: ' + str(len(df_input['drug'].unique()))) "
   ]
  },
  {
   "cell_type": "code",
   "execution_count": 124,
   "id": "2f51a91d-4c47-4fac-99bf-53e875a8f152",
   "metadata": {},
   "outputs": [
    {
     "data": {
      "text/plain": [
       "metformin        482\n",
       "atorvastatin     357\n",
       "simvastatin      258\n",
       "losartan         251\n",
       "metoprolol       211\n",
       "valsartan        110\n",
       "atenolol         104\n",
       "rosuvastatin     103\n",
       "pravastatin      100\n",
       "carvedilol        57\n",
       "lovastatin        47\n",
       "olmesartan        33\n",
       "bisoprolol        13\n",
       "propranolol       11\n",
       "irbesartan        11\n",
       "canagliflozin      7\n",
       "telmisartan        7\n",
       "nebivolol          7\n",
       "labetalol          5\n",
       "pitavastatin       4\n",
       "dapagliflozin      3\n",
       "Name: drug, dtype: int64"
      ]
     },
     "execution_count": 124,
     "metadata": {},
     "output_type": "execute_result"
    }
   ],
   "source": [
    "df_input['drug'].value_counts()"
   ]
  },
  {
   "cell_type": "code",
   "execution_count": 130,
   "id": "f278dff3-ae3f-4b83-97ca-2708c41922c7",
   "metadata": {},
   "outputs": [
    {
     "data": {
      "text/plain": [
       "-78     1\n",
       "-54     1\n",
       "-47     1\n",
       "-34     1\n",
       "-16     3\n",
       "-14     1\n",
       "-13     1\n",
       "-11     1\n",
       "-8      1\n",
       "-2      2\n",
       "-1      5\n",
       " 0     86\n",
       " 1      7\n",
       " 2      5\n",
       " 3      7\n",
       "Name: start_day, dtype: int64"
      ]
     },
     "execution_count": 130,
     "metadata": {},
     "output_type": "execute_result"
    },
    {
     "data": {
      "text/plain": [
       "649    1\n",
       "653    1\n",
       "658    6\n",
       "659    1\n",
       "661    2\n",
       "662    2\n",
       "663    2\n",
       "665    1\n",
       "667    1\n",
       "691    1\n",
       "Name: start_day, dtype: int64"
      ]
     },
     "execution_count": 130,
     "metadata": {},
     "output_type": "execute_result"
    }
   ],
   "source": [
    "df_input['start_day'].value_counts().sort_index()[:15]\n",
    "df_input['start_day'].value_counts().sort_index()[-10:]"
   ]
  },
  {
   "cell_type": "code",
   "execution_count": 131,
   "id": "4d33ad73-b071-4a75-aafd-8f74aa833f8e",
   "metadata": {},
   "outputs": [
    {
     "data": {
      "text/plain": [
       "-4      1\n",
       " 12     1\n",
       " 14     3\n",
       " 16     1\n",
       " 17     2\n",
       " 19     1\n",
       " 28     2\n",
       " 30    17\n",
       " 31     3\n",
       " 32     1\n",
       " 33     3\n",
       " 34     4\n",
       " 35     4\n",
       " 36     3\n",
       " 37     5\n",
       "Name: end_day, dtype: int64"
      ]
     },
     "execution_count": 131,
     "metadata": {},
     "output_type": "execute_result"
    },
    {
     "data": {
      "text/plain": [
       "689    7\n",
       "690    6\n",
       "691    8\n",
       "692    3\n",
       "693    3\n",
       "694    3\n",
       "695    3\n",
       "696    2\n",
       "697    4\n",
       "698    1\n",
       "Name: end_day, dtype: int64"
      ]
     },
     "execution_count": 131,
     "metadata": {},
     "output_type": "execute_result"
    }
   ],
   "source": [
    "df_input['end_day'].value_counts().sort_index()[:15]\n",
    "df_input['end_day'].value_counts().sort_index()[-10:]"
   ]
  },
  {
   "cell_type": "code",
   "execution_count": 133,
   "id": "b9d3c8e2-5ace-435a-a75a-56e18159b821",
   "metadata": {},
   "outputs": [
    {
     "data": {
      "text/plain": [
       "<AxesSubplot:xlabel='daily_dosage', ylabel='Count'>"
      ]
     },
     "execution_count": 133,
     "metadata": {},
     "output_type": "execute_result"
    },
    {
     "data": {
      "text/plain": [
       "2.00         4\n",
       "5.00        24\n",
       "6.25         4\n",
       "10.00      177\n",
       "12.50       23\n",
       "20.00      314\n",
       "25.00       90\n",
       "40.00      355\n",
       "50.00      249\n",
       "80.00       70\n",
       "100.00     244\n",
       "150.00       4\n",
       "160.00      34\n",
       "200.00      16\n",
       "300.00      11\n",
       "320.00      55\n",
       "500.00     183\n",
       "600.00       5\n",
       "640.00      20\n",
       "750.00      10\n",
       "850.00      11\n",
       "1000.00    162\n",
       "1500.00     17\n",
       "1700.00     20\n",
       "2000.00     75\n",
       "2550.00      4\n",
       "Name: daily_dosage, dtype: int64"
      ]
     },
     "execution_count": 133,
     "metadata": {},
     "output_type": "execute_result"
    },
    {
     "data": {
      "image/png": "[encoded data removed]",
      "text/plain": [
       "<Figure size 842.4x595.44 with 1 Axes>"
      ]
     },
     "metadata": {
      "needs_background": "light"
     },
     "output_type": "display_data"
    }
   ],
   "source": [
    "sns.histplot(df_input['daily_dosage'])\n",
    "df_input['daily_dosage'].value_counts().sort_index()"
   ]
  },
  {
   "cell_type": "markdown",
   "id": "3b4a7e09-3fb6-478e-b85f-9e2027d02c46",
   "metadata": {},
   "source": [
    "# SBP"
   ]
  },
  {
   "cell_type": "code",
   "execution_count": 30,
   "id": "f4b82117-0baf-46f0-9f5a-2b91f288394e",
   "metadata": {},
   "outputs": [
    {
     "data": {
      "application/javascript": [
       "\n",
       "        if (window._pyforest_update_imports_cell) { window._pyforest_update_imports_cell('import seaborn as sns\\nimport pandas as pd'); }\n",
       "    "
      ],
      "text/plain": [
       "<IPython.core.display.Javascript object>"
      ]
     },
     "metadata": {},
     "output_type": "display_data"
    },
    {
     "name": "stdout",
     "output_type": "stream",
     "text": [
      "   id   value  time\n",
      "0   0  134.11     0\n",
      "1   0  133.75    98\n",
      "2   0  125.08   279\n",
      "3   0  136.75   380\n",
      "4   0  130.50   475\n",
      "\n",
      "<class 'pandas.core.frame.DataFrame'>\n",
      "RangeIndex: 1809 entries, 0 to 1808\n",
      "Data columns (total 3 columns):\n",
      " #   Column  Non-Null Count  Dtype  \n",
      "---  ------  --------------  -----  \n",
      " 0   id      1809 non-null   int64  \n",
      " 1   value   1809 non-null   float64\n",
      " 2   time    1809 non-null   int64  \n",
      "dtypes: float64(1), int64(2)\n",
      "memory usage: 42.5 KB\n",
      "\n",
      "                id        value         time\n",
      "count  1809.000000  1809.000000  1809.000000\n",
      "mean    149.213378   134.155368   304.796020\n",
      "std      87.130959    14.765817   221.718474\n",
      "min       0.000000    91.990000     0.000000\n",
      "25%      74.000000   124.630000    97.000000\n",
      "50%     150.000000   133.440000   301.000000\n",
      "75%     226.000000   143.160000   495.000000\n",
      "max     299.000000   211.090000   699.000000\n",
      "\n",
      "Check if all id has the same amount of record\n"
     ]
    },
    {
     "data": {
      "application/javascript": [
       "\n",
       "        if (window._pyforest_update_imports_cell) { window._pyforest_update_imports_cell('import seaborn as sns\\nimport pandas as pd'); }\n",
       "    "
      ],
      "text/plain": [
       "<IPython.core.display.Javascript object>"
      ]
     },
     "metadata": {},
     "output_type": "display_data"
    },
    {
     "name": "stdout",
     "output_type": "stream",
     "text": [
      "Count of frequency of record\n",
      "3    16\n",
      "4    41\n",
      "5    54\n",
      "6    56\n",
      "7    73\n",
      "8    60\n",
      "Name: id, dtype: int64\n",
      "\n",
      "Number of unique subject = 300\n",
      "\n",
      "Count of frequency of time point:\n"
     ]
    },
    {
     "data": {
      "application/javascript": [
       "\n",
       "        if (window._pyforest_update_imports_cell) { window._pyforest_update_imports_cell('import seaborn as sns\\nimport pandas as pd'); }\n",
       "    "
      ],
      "text/plain": [
       "<IPython.core.display.Javascript object>"
      ]
     },
     "metadata": {},
     "output_type": "display_data"
    },
    {
     "name": "stdout",
     "output_type": "stream",
     "text": [
      "1      172\n",
      "2      147\n",
      "3      108\n",
      "4       66\n",
      "5       37\n",
      "6       16\n",
      "7        5\n",
      "8        6\n",
      "9        5\n",
      "10       2\n",
      "11       1\n",
      "15       1\n",
      "300      1\n",
      "Name: time, dtype: int64\n",
      "\n",
      "Top 10 time points\n",
      "0      300\n",
      "91      15\n",
      "182     11\n",
      "183     10\n",
      "364     10\n",
      "552      9\n",
      "426      9\n",
      "370      9\n",
      "560      9\n",
      "244      9\n",
      "Name: time, dtype: int64\n",
      "\n",
      "No multiple record of same id at same time point: True\n",
      "\n"
     ]
    },
    {
     "data": {
      "application/javascript": [
       "\n",
       "        if (window._pyforest_update_imports_cell) { window._pyforest_update_imports_cell('import seaborn as sns\\nimport pandas as pd'); }\n",
       "    "
      ],
      "text/plain": [
       "<IPython.core.display.Javascript object>"
      ]
     },
     "metadata": {},
     "output_type": "display_data"
    },
    {
     "data": {
      "image/png": "[encoded data removed]",
      "text/plain": [
       "<Figure size 432x288 with 1 Axes>"
      ]
     },
     "metadata": {
      "needs_background": "light"
     },
     "output_type": "display_data"
    }
   ],
   "source": [
    "df_input = pd.read_csv('CSV/T_SBP.csv')\n",
    "explore_data(df_input)"
   ]
  },
  {
   "cell_type": "markdown",
   "id": "d8e33cc9-e8b4-41c1-a2a9-d15854317ea0",
   "metadata": {},
   "source": [
    "# Stage"
   ]
  },
  {
   "cell_type": "code",
   "execution_count": 137,
   "id": "f51cb78a-c3e0-45a4-a0af-54eda25402b5",
   "metadata": {},
   "outputs": [
    {
     "name": "stdout",
     "output_type": "stream",
     "text": [
      "<class 'pandas.core.frame.DataFrame'>\n",
      "RangeIndex: 300 entries, 0 to 299\n",
      "Data columns (total 2 columns):\n",
      " #   Column          Non-Null Count  Dtype\n",
      "---  ------          --------------  -----\n",
      " 0   id              300 non-null    int64\n",
      " 1   Stage_Progress  300 non-null    bool \n",
      "dtypes: bool(1), int64(1)\n",
      "memory usage: 2.8 KB\n"
     ]
    },
    {
     "data": {
      "text/plain": [
       "False    200\n",
       "True     100\n",
       "Name: Stage_Progress, dtype: int64"
      ]
     },
     "execution_count": 137,
     "metadata": {},
     "output_type": "execute_result"
    }
   ],
   "source": [
    "df_input = pd.read_csv('CSV/T_stage.csv')\n",
    "df_input.info()\n",
    "df_input['Stage_Progress'].value_counts()"
   ]
  }
 ],
 "metadata": {
  "kernelspec": {
   "display_name": "Python 3",
   "language": "python",
   "name": "python3"
  },
  "language_info": {
   "codemirror_mode": {
    "name": "ipython",
    "version": 3
   },
   "file_extension": ".py",
   "mimetype": "text/x-python",
   "name": "python",
   "nbconvert_exporter": "python",
   "pygments_lexer": "ipython3",
   "version": "3.8.8"
  }
 },
 "nbformat": 4,
 "nbformat_minor": 5
}
